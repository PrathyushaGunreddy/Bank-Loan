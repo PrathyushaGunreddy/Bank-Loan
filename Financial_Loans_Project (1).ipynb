{
 "cells": [
  {
   "cell_type": "code",
   "execution_count": 3,
   "id": "09b57ecb-e453-4a0f-9a91-e770ef758d9c",
   "metadata": {},
   "outputs": [],
   "source": [
    "import numpy as np\n",
    "import pandas as pd\n",
    "import matplotlib.pyplot as plt\n",
    "import seaborn as sns"
   ]
  },
  {
   "cell_type": "code",
   "execution_count": null,
   "id": "e7b90e36-813e-4d7a-b56a-d5e28013e8ab",
   "metadata": {},
   "outputs": [],
   "source": [
    "# Step 1 : In order to gain a comprehensive overview of our lending operations and monitor the performance of loans, we aim to create a grid view report categorized by Loan Status.\n",
    "#- By providing insights into metrics such as\n",
    "#     Total Loan Applications\n",
    "#     Total Funded Amount\n",
    "#     Total Amount Received\n",
    "#     Month-to-Date (MTD) Funded Amount\n",
    "#     MTD Amount Received\n",
    "#     Average Interest Rate\n",
    "#     Average Debt-to-Income Ratio (DTI)"
   ]
  },
  {
   "cell_type": "code",
   "execution_count": 4,
   "id": "ff699590-9441-40fc-9d98-58dcda4ea6b7",
   "metadata": {},
   "outputs": [],
   "source": [
    "import warnings\n",
    "warnings.simplefilter(\"ignore\")"
   ]
  },
  {
   "cell_type": "code",
   "execution_count": null,
   "id": "d1307b45-3b6f-4d1c-823d-ef3f6429eb77",
   "metadata": {},
   "outputs": [],
   "source": [
    "# Load the Dataset"
   ]
  },
  {
   "cell_type": "code",
   "execution_count": 5,
   "id": "5e8ddc93-d416-49bc-9c3f-a8dacaeff4d7",
   "metadata": {
    "scrolled": true
   },
   "outputs": [
    {
     "data": {
      "text/html": [
       "<div>\n",
       "<style scoped>\n",
       "    .dataframe tbody tr th:only-of-type {\n",
       "        vertical-align: middle;\n",
       "    }\n",
       "\n",
       "    .dataframe tbody tr th {\n",
       "        vertical-align: top;\n",
       "    }\n",
       "\n",
       "    .dataframe thead th {\n",
       "        text-align: right;\n",
       "    }\n",
       "</style>\n",
       "<table border=\"1\" class=\"dataframe\">\n",
       "  <thead>\n",
       "    <tr style=\"text-align: right;\">\n",
       "      <th></th>\n",
       "      <th>id</th>\n",
       "      <th>address_state</th>\n",
       "      <th>application_type</th>\n",
       "      <th>emp_length</th>\n",
       "      <th>emp_title</th>\n",
       "      <th>grade</th>\n",
       "      <th>home_ownership</th>\n",
       "      <th>issue_date</th>\n",
       "      <th>last_credit_pull_date</th>\n",
       "      <th>last_payment_date</th>\n",
       "      <th>...</th>\n",
       "      <th>sub_grade</th>\n",
       "      <th>term</th>\n",
       "      <th>verification_status</th>\n",
       "      <th>annual_income</th>\n",
       "      <th>dti</th>\n",
       "      <th>installment</th>\n",
       "      <th>int_rate</th>\n",
       "      <th>loan_amount</th>\n",
       "      <th>total_acc</th>\n",
       "      <th>total_payment</th>\n",
       "    </tr>\n",
       "  </thead>\n",
       "  <tbody>\n",
       "    <tr>\n",
       "      <th>0</th>\n",
       "      <td>1077430</td>\n",
       "      <td>GA</td>\n",
       "      <td>INDIVIDUAL</td>\n",
       "      <td>&lt; 1 year</td>\n",
       "      <td>Ryder</td>\n",
       "      <td>C</td>\n",
       "      <td>RENT</td>\n",
       "      <td>2021-11-02 00:00:00</td>\n",
       "      <td>13-09-2021</td>\n",
       "      <td>13-04-2021</td>\n",
       "      <td>...</td>\n",
       "      <td>C4</td>\n",
       "      <td>60 months</td>\n",
       "      <td>Source Verified</td>\n",
       "      <td>30000.0</td>\n",
       "      <td>0.0100</td>\n",
       "      <td>59.83</td>\n",
       "      <td>0.1527</td>\n",
       "      <td>2500</td>\n",
       "      <td>4</td>\n",
       "      <td>1009</td>\n",
       "    </tr>\n",
       "    <tr>\n",
       "      <th>1</th>\n",
       "      <td>1072053</td>\n",
       "      <td>CA</td>\n",
       "      <td>INDIVIDUAL</td>\n",
       "      <td>9 years</td>\n",
       "      <td>MKC Accounting</td>\n",
       "      <td>E</td>\n",
       "      <td>RENT</td>\n",
       "      <td>2021-01-01 00:00:00</td>\n",
       "      <td>14-12-2021</td>\n",
       "      <td>15-01-2021</td>\n",
       "      <td>...</td>\n",
       "      <td>E1</td>\n",
       "      <td>36 months</td>\n",
       "      <td>Source Verified</td>\n",
       "      <td>48000.0</td>\n",
       "      <td>0.0535</td>\n",
       "      <td>109.43</td>\n",
       "      <td>0.1864</td>\n",
       "      <td>3000</td>\n",
       "      <td>4</td>\n",
       "      <td>3939</td>\n",
       "    </tr>\n",
       "    <tr>\n",
       "      <th>2</th>\n",
       "      <td>1069243</td>\n",
       "      <td>CA</td>\n",
       "      <td>INDIVIDUAL</td>\n",
       "      <td>4 years</td>\n",
       "      <td>Chemat Technology Inc</td>\n",
       "      <td>C</td>\n",
       "      <td>RENT</td>\n",
       "      <td>2021-05-01 00:00:00</td>\n",
       "      <td>2021-12-12 00:00:00</td>\n",
       "      <td>2021-09-01 00:00:00</td>\n",
       "      <td>...</td>\n",
       "      <td>C5</td>\n",
       "      <td>36 months</td>\n",
       "      <td>Not Verified</td>\n",
       "      <td>50000.0</td>\n",
       "      <td>0.2088</td>\n",
       "      <td>421.65</td>\n",
       "      <td>0.1596</td>\n",
       "      <td>12000</td>\n",
       "      <td>11</td>\n",
       "      <td>3522</td>\n",
       "    </tr>\n",
       "    <tr>\n",
       "      <th>3</th>\n",
       "      <td>1041756</td>\n",
       "      <td>TX</td>\n",
       "      <td>INDIVIDUAL</td>\n",
       "      <td>&lt; 1 year</td>\n",
       "      <td>barnes distribution</td>\n",
       "      <td>B</td>\n",
       "      <td>MORTGAGE</td>\n",
       "      <td>25-02-2021</td>\n",
       "      <td>2021-12-12 00:00:00</td>\n",
       "      <td>2021-12-03 00:00:00</td>\n",
       "      <td>...</td>\n",
       "      <td>B2</td>\n",
       "      <td>60 months</td>\n",
       "      <td>Source Verified</td>\n",
       "      <td>42000.0</td>\n",
       "      <td>0.0540</td>\n",
       "      <td>97.06</td>\n",
       "      <td>0.1065</td>\n",
       "      <td>4500</td>\n",
       "      <td>9</td>\n",
       "      <td>4911</td>\n",
       "    </tr>\n",
       "    <tr>\n",
       "      <th>4</th>\n",
       "      <td>1068350</td>\n",
       "      <td>IL</td>\n",
       "      <td>INDIVIDUAL</td>\n",
       "      <td>10+ years</td>\n",
       "      <td>J&amp;J Steel Inc</td>\n",
       "      <td>A</td>\n",
       "      <td>MORTGAGE</td>\n",
       "      <td>2021-01-01 00:00:00</td>\n",
       "      <td>14-12-2021</td>\n",
       "      <td>15-01-2021</td>\n",
       "      <td>...</td>\n",
       "      <td>A1</td>\n",
       "      <td>36 months</td>\n",
       "      <td>Verified</td>\n",
       "      <td>83000.0</td>\n",
       "      <td>0.0231</td>\n",
       "      <td>106.53</td>\n",
       "      <td>0.0603</td>\n",
       "      <td>3500</td>\n",
       "      <td>28</td>\n",
       "      <td>3835</td>\n",
       "    </tr>\n",
       "    <tr>\n",
       "      <th>...</th>\n",
       "      <td>...</td>\n",
       "      <td>...</td>\n",
       "      <td>...</td>\n",
       "      <td>...</td>\n",
       "      <td>...</td>\n",
       "      <td>...</td>\n",
       "      <td>...</td>\n",
       "      <td>...</td>\n",
       "      <td>...</td>\n",
       "      <td>...</td>\n",
       "      <td>...</td>\n",
       "      <td>...</td>\n",
       "      <td>...</td>\n",
       "      <td>...</td>\n",
       "      <td>...</td>\n",
       "      <td>...</td>\n",
       "      <td>...</td>\n",
       "      <td>...</td>\n",
       "      <td>...</td>\n",
       "      <td>...</td>\n",
       "      <td>...</td>\n",
       "    </tr>\n",
       "    <tr>\n",
       "      <th>38571</th>\n",
       "      <td>803452</td>\n",
       "      <td>NJ</td>\n",
       "      <td>INDIVIDUAL</td>\n",
       "      <td>&lt; 1 year</td>\n",
       "      <td>Joseph M Sanzari Company</td>\n",
       "      <td>C</td>\n",
       "      <td>MORTGAGE</td>\n",
       "      <td>2021-11-07 00:00:00</td>\n",
       "      <td>16-05-2021</td>\n",
       "      <td>16-05-2021</td>\n",
       "      <td>...</td>\n",
       "      <td>C1</td>\n",
       "      <td>60 months</td>\n",
       "      <td>Verified</td>\n",
       "      <td>100000.0</td>\n",
       "      <td>0.1986</td>\n",
       "      <td>551.64</td>\n",
       "      <td>0.1299</td>\n",
       "      <td>24250</td>\n",
       "      <td>33</td>\n",
       "      <td>31946</td>\n",
       "    </tr>\n",
       "    <tr>\n",
       "      <th>38572</th>\n",
       "      <td>970377</td>\n",
       "      <td>NY</td>\n",
       "      <td>INDIVIDUAL</td>\n",
       "      <td>8 years</td>\n",
       "      <td>Swat Fame</td>\n",
       "      <td>C</td>\n",
       "      <td>RENT</td>\n",
       "      <td>2021-11-10 00:00:00</td>\n",
       "      <td>16-04-2021</td>\n",
       "      <td>16-05-2021</td>\n",
       "      <td>...</td>\n",
       "      <td>C1</td>\n",
       "      <td>60 months</td>\n",
       "      <td>Verified</td>\n",
       "      <td>50000.0</td>\n",
       "      <td>0.0458</td>\n",
       "      <td>579.72</td>\n",
       "      <td>0.1349</td>\n",
       "      <td>25200</td>\n",
       "      <td>18</td>\n",
       "      <td>31870</td>\n",
       "    </tr>\n",
       "    <tr>\n",
       "      <th>38573</th>\n",
       "      <td>875376</td>\n",
       "      <td>CA</td>\n",
       "      <td>INDIVIDUAL</td>\n",
       "      <td>5 years</td>\n",
       "      <td>Anaheim Regional Medical Center</td>\n",
       "      <td>D</td>\n",
       "      <td>RENT</td>\n",
       "      <td>2021-11-09 00:00:00</td>\n",
       "      <td>16-05-2021</td>\n",
       "      <td>16-05-2021</td>\n",
       "      <td>...</td>\n",
       "      <td>D5</td>\n",
       "      <td>60 months</td>\n",
       "      <td>Verified</td>\n",
       "      <td>65000.0</td>\n",
       "      <td>0.1734</td>\n",
       "      <td>627.93</td>\n",
       "      <td>0.1749</td>\n",
       "      <td>25000</td>\n",
       "      <td>20</td>\n",
       "      <td>35721</td>\n",
       "    </tr>\n",
       "    <tr>\n",
       "      <th>38574</th>\n",
       "      <td>972997</td>\n",
       "      <td>NY</td>\n",
       "      <td>INDIVIDUAL</td>\n",
       "      <td>5 years</td>\n",
       "      <td>Brooklyn Radiology</td>\n",
       "      <td>D</td>\n",
       "      <td>RENT</td>\n",
       "      <td>2021-11-10 00:00:00</td>\n",
       "      <td>16-05-2021</td>\n",
       "      <td>16-05-2021</td>\n",
       "      <td>...</td>\n",
       "      <td>D5</td>\n",
       "      <td>60 months</td>\n",
       "      <td>Verified</td>\n",
       "      <td>368000.0</td>\n",
       "      <td>0.0009</td>\n",
       "      <td>612.72</td>\n",
       "      <td>0.1825</td>\n",
       "      <td>24000</td>\n",
       "      <td>9</td>\n",
       "      <td>33677</td>\n",
       "    </tr>\n",
       "    <tr>\n",
       "      <th>38575</th>\n",
       "      <td>682952</td>\n",
       "      <td>NY</td>\n",
       "      <td>INDIVIDUAL</td>\n",
       "      <td>4 years</td>\n",
       "      <td>Allen Edmonds</td>\n",
       "      <td>F</td>\n",
       "      <td>RENT</td>\n",
       "      <td>2021-11-07 00:00:00</td>\n",
       "      <td>16-05-2021</td>\n",
       "      <td>16-05-2021</td>\n",
       "      <td>...</td>\n",
       "      <td>F3</td>\n",
       "      <td>60 months</td>\n",
       "      <td>Verified</td>\n",
       "      <td>80000.0</td>\n",
       "      <td>0.0600</td>\n",
       "      <td>486.86</td>\n",
       "      <td>0.2099</td>\n",
       "      <td>18000</td>\n",
       "      <td>7</td>\n",
       "      <td>27679</td>\n",
       "    </tr>\n",
       "  </tbody>\n",
       "</table>\n",
       "<p>38576 rows × 24 columns</p>\n",
       "</div>"
      ],
      "text/plain": [
       "            id address_state application_type emp_length  \\\n",
       "0      1077430            GA       INDIVIDUAL   < 1 year   \n",
       "1      1072053            CA       INDIVIDUAL    9 years   \n",
       "2      1069243            CA       INDIVIDUAL    4 years   \n",
       "3      1041756            TX       INDIVIDUAL   < 1 year   \n",
       "4      1068350            IL       INDIVIDUAL  10+ years   \n",
       "...        ...           ...              ...        ...   \n",
       "38571   803452            NJ       INDIVIDUAL   < 1 year   \n",
       "38572   970377            NY       INDIVIDUAL    8 years   \n",
       "38573   875376            CA       INDIVIDUAL    5 years   \n",
       "38574   972997            NY       INDIVIDUAL    5 years   \n",
       "38575   682952            NY       INDIVIDUAL    4 years   \n",
       "\n",
       "                             emp_title grade home_ownership  \\\n",
       "0                                Ryder     C           RENT   \n",
       "1                       MKC Accounting     E           RENT   \n",
       "2                Chemat Technology Inc     C           RENT   \n",
       "3                  barnes distribution     B       MORTGAGE   \n",
       "4                        J&J Steel Inc     A       MORTGAGE   \n",
       "...                                ...   ...            ...   \n",
       "38571         Joseph M Sanzari Company     C       MORTGAGE   \n",
       "38572                        Swat Fame     C           RENT   \n",
       "38573  Anaheim Regional Medical Center     D           RENT   \n",
       "38574               Brooklyn Radiology     D           RENT   \n",
       "38575                    Allen Edmonds     F           RENT   \n",
       "\n",
       "                issue_date last_credit_pull_date    last_payment_date  ...  \\\n",
       "0      2021-11-02 00:00:00            13-09-2021           13-04-2021  ...   \n",
       "1      2021-01-01 00:00:00            14-12-2021           15-01-2021  ...   \n",
       "2      2021-05-01 00:00:00   2021-12-12 00:00:00  2021-09-01 00:00:00  ...   \n",
       "3               25-02-2021   2021-12-12 00:00:00  2021-12-03 00:00:00  ...   \n",
       "4      2021-01-01 00:00:00            14-12-2021           15-01-2021  ...   \n",
       "...                    ...                   ...                  ...  ...   \n",
       "38571  2021-11-07 00:00:00            16-05-2021           16-05-2021  ...   \n",
       "38572  2021-11-10 00:00:00            16-04-2021           16-05-2021  ...   \n",
       "38573  2021-11-09 00:00:00            16-05-2021           16-05-2021  ...   \n",
       "38574  2021-11-10 00:00:00            16-05-2021           16-05-2021  ...   \n",
       "38575  2021-11-07 00:00:00            16-05-2021           16-05-2021  ...   \n",
       "\n",
       "      sub_grade        term  verification_status annual_income     dti  \\\n",
       "0            C4   60 months      Source Verified       30000.0  0.0100   \n",
       "1            E1   36 months      Source Verified       48000.0  0.0535   \n",
       "2            C5   36 months         Not Verified       50000.0  0.2088   \n",
       "3            B2   60 months      Source Verified       42000.0  0.0540   \n",
       "4            A1   36 months             Verified       83000.0  0.0231   \n",
       "...         ...         ...                  ...           ...     ...   \n",
       "38571        C1   60 months             Verified      100000.0  0.1986   \n",
       "38572        C1   60 months             Verified       50000.0  0.0458   \n",
       "38573        D5   60 months             Verified       65000.0  0.1734   \n",
       "38574        D5   60 months             Verified      368000.0  0.0009   \n",
       "38575        F3   60 months             Verified       80000.0  0.0600   \n",
       "\n",
       "      installment int_rate  loan_amount  total_acc  total_payment  \n",
       "0           59.83   0.1527         2500          4           1009  \n",
       "1          109.43   0.1864         3000          4           3939  \n",
       "2          421.65   0.1596        12000         11           3522  \n",
       "3           97.06   0.1065         4500          9           4911  \n",
       "4          106.53   0.0603         3500         28           3835  \n",
       "...           ...      ...          ...        ...            ...  \n",
       "38571      551.64   0.1299        24250         33          31946  \n",
       "38572      579.72   0.1349        25200         18          31870  \n",
       "38573      627.93   0.1749        25000         20          35721  \n",
       "38574      612.72   0.1825        24000          9          33677  \n",
       "38575      486.86   0.2099        18000          7          27679  \n",
       "\n",
       "[38576 rows x 24 columns]"
      ]
     },
     "execution_count": 5,
     "metadata": {},
     "output_type": "execute_result"
    }
   ],
   "source": [
    "df=pd.read_excel(\"//Applications//financial_loan.xlsx\")\n",
    "df"
   ]
  },
  {
   "cell_type": "code",
   "execution_count": 6,
   "id": "fd771423-59a3-48a2-b8f0-ed05fd2a1c99",
   "metadata": {},
   "outputs": [],
   "source": [
    "# Understand the data\n",
    "#    The above Excel sheet tells us that we have information on the people who took the loan, including the details of ID, \n",
    "#    address_state(residential purpose), \n",
    "\n",
    "#    Application_type(To know whether it is an Individual or joint),\n",
    "\n",
    "#    Emp_length(To check whether a person will be able to repay the loan or not, so they need at least 6 months to 2 years of \n",
    "#    employment length),\n",
    "\n",
    "#    Emp_title(Which represents the role of a person performing in an organization), \n",
    "\n",
    "#    Grade(Grading will be from A-G, A Grade means that the person has a low level of risk, and grade with G means \n",
    "#    that person has a high level of risk).\n",
    "\n",
    "#    Home_ownership(it means whether it is mortgage loan or rent or personal loan)\n",
    "\n",
    "#    issue_date( means when the loan was issued to the person)\n",
    "\n",
    "#    Last_credit_pull_date (means the previous date which the lenders have reviewed for credit evaluation).\n",
    "\n",
    "#    last_payment_date (means the payment which is done recently )\n",
    "\n",
    "#    Loan_status ( means checking the condition of the loan whether it is active or paid off or in default, differed)\n",
    "\n",
    "#    Next_payment_date( Means upcoming due date for next payment)\n",
    "\n",
    "#    Member_id (it's an identification number to track the member's activities)\n",
    "\n",
    "#    Purpose ( to know the purpose of taking the loan)\n",
    "\n",
    "#    Sub_grade ( within the grade the subgrade be like for A ( A1, A2, A3.....) to know the level of level of risk)\n",
    "\n",
    "#    Term ( the term refers to a period of time where a person needs to clear the amount within the period of time like 5 yrs or 7 yrs )\n",
    "\n",
    "#    Verification_status ( it means the status can indicate whether the verification is pending, completed, or failed )\n",
    "\n",
    "#    Annual_income ( it shows the annual income of a person )\n",
    "\n",
    "#    DTI ( DTI stands for debts to income, it shows a person's ability to clear the debt. \n",
    "#    It is calculated by monthly debt payments by gross monthly income\n",
    "\n",
    "#    Installment ( it's a scheduled payment made to repay the loan or debt over a set period )\n",
    "\n",
    "#    int_rate ( how much of the interest rate for the loan sanctions for a period )\n",
    "\n",
    "#    Loan_Amount ( it shows the total loan amount needed to pay for every installment)\n",
    "\n",
    "#    total_acc ( it refers to the number of accounts a person has including current and closed )\n",
    "\n",
    "#    total_amount ( it refers to the total amount need to be cleared )\n"
   ]
  },
  {
   "cell_type": "code",
   "execution_count": 7,
   "id": "bf1b77cb-41fa-4677-a370-d61555681ce4",
   "metadata": {},
   "outputs": [
    {
     "name": "stdout",
     "output_type": "stream",
     "text": [
      "<class 'pandas.core.frame.DataFrame'>\n",
      "RangeIndex: 38576 entries, 0 to 38575\n",
      "Data columns (total 24 columns):\n",
      " #   Column                 Non-Null Count  Dtype  \n",
      "---  ------                 --------------  -----  \n",
      " 0   id                     38576 non-null  int64  \n",
      " 1   address_state          38576 non-null  object \n",
      " 2   application_type       38576 non-null  object \n",
      " 3   emp_length             38576 non-null  object \n",
      " 4   emp_title              37138 non-null  object \n",
      " 5   grade                  38576 non-null  object \n",
      " 6   home_ownership         38576 non-null  object \n",
      " 7   issue_date             38576 non-null  object \n",
      " 8   last_credit_pull_date  38576 non-null  object \n",
      " 9   last_payment_date      38576 non-null  object \n",
      " 10  loan_status            38576 non-null  object \n",
      " 11  next_payment_date      38576 non-null  object \n",
      " 12  member_id              38576 non-null  int64  \n",
      " 13  purpose                38576 non-null  object \n",
      " 14  sub_grade              38576 non-null  object \n",
      " 15  term                   38576 non-null  object \n",
      " 16  verification_status    38576 non-null  object \n",
      " 17  annual_income          38576 non-null  float64\n",
      " 18  dti                    38576 non-null  float64\n",
      " 19  installment            38576 non-null  float64\n",
      " 20  int_rate               38576 non-null  float64\n",
      " 21  loan_amount            38576 non-null  int64  \n",
      " 22  total_acc              38576 non-null  int64  \n",
      " 23  total_payment          38576 non-null  int64  \n",
      "dtypes: float64(4), int64(5), object(15)\n",
      "memory usage: 7.1+ MB\n"
     ]
    }
   ],
   "source": [
    "df.info()"
   ]
  },
  {
   "cell_type": "code",
   "execution_count": 8,
   "id": "7e4b9430-74ef-4988-b10b-7d6614e12a2d",
   "metadata": {},
   "outputs": [
    {
     "data": {
      "text/plain": [
       "0        INDIVIDUAL\n",
       "1        INDIVIDUAL\n",
       "2        INDIVIDUAL\n",
       "3        INDIVIDUAL\n",
       "4        INDIVIDUAL\n",
       "            ...    \n",
       "38571    INDIVIDUAL\n",
       "38572    INDIVIDUAL\n",
       "38573    INDIVIDUAL\n",
       "38574    INDIVIDUAL\n",
       "38575    INDIVIDUAL\n",
       "Name: application_type, Length: 38576, dtype: object"
      ]
     },
     "execution_count": 8,
     "metadata": {},
     "output_type": "execute_result"
    }
   ],
   "source": [
    "df[\"application_type\"]"
   ]
  },
  {
   "cell_type": "code",
   "execution_count": 9,
   "id": "a4d33743-429e-4eb5-acb6-0f367690e8a0",
   "metadata": {},
   "outputs": [
    {
     "data": {
      "text/plain": [
       "array(['INDIVIDUAL'], dtype=object)"
      ]
     },
     "execution_count": 9,
     "metadata": {},
     "output_type": "execute_result"
    }
   ],
   "source": [
    "df[\"application_type\"].unique()"
   ]
  },
  {
   "cell_type": "code",
   "execution_count": 10,
   "id": "c5408797-af8c-4c69-815d-38365f7acac6",
   "metadata": {},
   "outputs": [
    {
     "data": {
      "text/plain": [
       "application_type\n",
       "INDIVIDUAL    38576\n",
       "Name: count, dtype: int64"
      ]
     },
     "execution_count": 10,
     "metadata": {},
     "output_type": "execute_result"
    }
   ],
   "source": [
    "df[\"application_type\"].value_counts()\n",
    "\n",
    "\n",
    "# The total Applications are 38576 and the type of applications are individual"
   ]
  },
  {
   "cell_type": "code",
   "execution_count": 11,
   "id": "cb61a95c-b9d1-4f30-99a3-2dc74a7092ca",
   "metadata": {},
   "outputs": [
    {
     "data": {
      "text/plain": [
       "0        GA\n",
       "1        CA\n",
       "2        CA\n",
       "3        TX\n",
       "4        IL\n",
       "         ..\n",
       "38571    NJ\n",
       "38572    NY\n",
       "38573    CA\n",
       "38574    NY\n",
       "38575    NY\n",
       "Name: address_state, Length: 38576, dtype: object"
      ]
     },
     "execution_count": 11,
     "metadata": {},
     "output_type": "execute_result"
    }
   ],
   "source": [
    "df[\"address_state\"]"
   ]
  },
  {
   "cell_type": "code",
   "execution_count": 12,
   "id": "b85dc0c0-fac3-4cba-9688-7434062bc9d3",
   "metadata": {},
   "outputs": [
    {
     "data": {
      "text/plain": [
       "array(['GA', 'CA', 'TX', 'IL', 'PA', 'FL', 'MI', 'RI', 'NY', 'MD', 'WI',\n",
       "       'NV', 'UT', 'WA', 'NH', 'HI', 'MA', 'OK', 'NJ', 'OH', 'AZ', 'CT',\n",
       "       'MN', 'CO', 'TN', 'VA', 'MO', 'DE', 'NM', 'LA', 'AR', 'KY', 'NC',\n",
       "       'SC', 'WV', 'KS', 'WY', 'OR', 'AL', 'VT', 'MS', 'DC', 'MT', 'SD',\n",
       "       'AK', 'IN', 'ME', 'ID', 'NE', 'IA'], dtype=object)"
      ]
     },
     "execution_count": 12,
     "metadata": {},
     "output_type": "execute_result"
    }
   ],
   "source": [
    "df[\"address_state\"].unique()"
   ]
  },
  {
   "cell_type": "code",
   "execution_count": 13,
   "id": "07594d26-1475-49c5-9fe0-2ee302967ecf",
   "metadata": {},
   "outputs": [
    {
     "data": {
      "text/plain": [
       "address_state\n",
       "CA    6894\n",
       "NY    3701\n",
       "FL    2773\n",
       "TX    2664\n",
       "NJ    1822\n",
       "IL    1486\n",
       "PA    1482\n",
       "VA    1375\n",
       "GA    1355\n",
       "MA    1310\n",
       "OH    1188\n",
       "MD    1027\n",
       "AZ     833\n",
       "WA     805\n",
       "CO     770\n",
       "NC     759\n",
       "CT     730\n",
       "MI     685\n",
       "MO     660\n",
       "MN     592\n",
       "NV     482\n",
       "SC     464\n",
       "WI     446\n",
       "OR     436\n",
       "AL     432\n",
       "LA     426\n",
       "KY     320\n",
       "OK     293\n",
       "KS     260\n",
       "UT     252\n",
       "AR     236\n",
       "DC     214\n",
       "RI     196\n",
       "NM     183\n",
       "HI     170\n",
       "WV     167\n",
       "NH     161\n",
       "DE     110\n",
       "WY      79\n",
       "MT      79\n",
       "AK      78\n",
       "SD      63\n",
       "VT      54\n",
       "MS      19\n",
       "TN      17\n",
       "IN       9\n",
       "ID       6\n",
       "NE       5\n",
       "IA       5\n",
       "ME       3\n",
       "Name: count, dtype: int64"
      ]
     },
     "execution_count": 13,
     "metadata": {},
     "output_type": "execute_result"
    }
   ],
   "source": [
    "df[\"address_state\"].value_counts()"
   ]
  },
  {
   "cell_type": "code",
   "execution_count": 14,
   "id": "65fcafd1-aea5-460c-bba3-e7d492b8153d",
   "metadata": {},
   "outputs": [
    {
     "data": {
      "text/plain": [
       "0         < 1 year\n",
       "1          9 years\n",
       "2          4 years\n",
       "3         < 1 year\n",
       "4        10+ years\n",
       "           ...    \n",
       "38571     < 1 year\n",
       "38572      8 years\n",
       "38573      5 years\n",
       "38574      5 years\n",
       "38575      4 years\n",
       "Name: emp_length, Length: 38576, dtype: object"
      ]
     },
     "execution_count": 14,
     "metadata": {},
     "output_type": "execute_result"
    }
   ],
   "source": [
    "df[\"emp_length\"]"
   ]
  },
  {
   "cell_type": "code",
   "execution_count": 15,
   "id": "6a3c88ea-2d32-4545-a013-0386cc0e83b5",
   "metadata": {},
   "outputs": [
    {
     "data": {
      "text/plain": [
       "array(['< 1 year', '9 years', '4 years', '10+ years', '3 years',\n",
       "       '5 years', '1 year', '6 years', '2 years', '7 years', '8 years'],\n",
       "      dtype=object)"
      ]
     },
     "execution_count": 15,
     "metadata": {},
     "output_type": "execute_result"
    }
   ],
   "source": [
    "df[\"emp_length\"].unique()"
   ]
  },
  {
   "cell_type": "code",
   "execution_count": 16,
   "id": "76822bb0-9a23-4750-8488-c3a265444d86",
   "metadata": {},
   "outputs": [
    {
     "data": {
      "text/plain": [
       "emp_length\n",
       "10+ years    8870\n",
       "< 1 year     4575\n",
       "2 years      4382\n",
       "3 years      4088\n",
       "4 years      3428\n",
       "5 years      3273\n",
       "1 year       3229\n",
       "6 years      2228\n",
       "7 years      1772\n",
       "8 years      1476\n",
       "9 years      1255\n",
       "Name: count, dtype: int64"
      ]
     },
     "execution_count": 16,
     "metadata": {},
     "output_type": "execute_result"
    }
   ],
   "source": [
    "df[\"emp_length\"].value_counts()"
   ]
  },
  {
   "cell_type": "code",
   "execution_count": 17,
   "id": "9fc404aa-0ca2-4156-b73d-502ff2257cbf",
   "metadata": {},
   "outputs": [
    {
     "data": {
      "text/plain": [
       "0                                  Ryder\n",
       "1                         MKC Accounting\n",
       "2                  Chemat Technology Inc\n",
       "3                    barnes distribution\n",
       "4                          J&J Steel Inc\n",
       "                      ...               \n",
       "38571           Joseph M Sanzari Company\n",
       "38572                          Swat Fame\n",
       "38573    Anaheim Regional Medical Center\n",
       "38574                 Brooklyn Radiology\n",
       "38575                      Allen Edmonds\n",
       "Name: emp_title, Length: 38576, dtype: object"
      ]
     },
     "execution_count": 17,
     "metadata": {},
     "output_type": "execute_result"
    }
   ],
   "source": [
    "df[\"emp_title\"]"
   ]
  },
  {
   "cell_type": "code",
   "execution_count": 18,
   "id": "18da9b40-42ac-452f-8327-fbab4ec1dbb3",
   "metadata": {},
   "outputs": [
    {
     "data": {
      "text/plain": [
       "array(['Ryder', 'MKC Accounting', 'Chemat Technology Inc', ...,\n",
       "       'Anaheim Regional Medical Center', 'Brooklyn Radiology',\n",
       "       'Allen Edmonds'], dtype=object)"
      ]
     },
     "execution_count": 18,
     "metadata": {},
     "output_type": "execute_result"
    }
   ],
   "source": [
    "df[\"emp_title\"].unique()"
   ]
  },
  {
   "cell_type": "code",
   "execution_count": 19,
   "id": "9dc10072-2f7e-42c1-a1d2-8d2890a94e70",
   "metadata": {},
   "outputs": [
    {
     "data": {
      "text/plain": [
       "emp_title\n",
       "US Army                           135\n",
       "Bank of America                   109\n",
       "IBM                                67\n",
       "AT&T                               63\n",
       "Wells Fargo                        57\n",
       "                                 ... \n",
       "Emeril's Delmonico's                1\n",
       "The Shafer Law Group                1\n",
       "U.S navy                            1\n",
       "Wellspring Healthcare Services      1\n",
       "Allen Edmonds                       1\n",
       "Name: count, Length: 28525, dtype: int64"
      ]
     },
     "execution_count": 19,
     "metadata": {},
     "output_type": "execute_result"
    }
   ],
   "source": [
    "df[\"emp_title\"].value_counts()"
   ]
  },
  {
   "cell_type": "code",
   "execution_count": 20,
   "id": "7cd2d2d6-6fcd-4103-9c07-88ebbe70ca17",
   "metadata": {},
   "outputs": [
    {
     "data": {
      "text/plain": [
       "0        C\n",
       "1        E\n",
       "2        C\n",
       "3        B\n",
       "4        A\n",
       "        ..\n",
       "38571    C\n",
       "38572    C\n",
       "38573    D\n",
       "38574    D\n",
       "38575    F\n",
       "Name: grade, Length: 38576, dtype: object"
      ]
     },
     "execution_count": 20,
     "metadata": {},
     "output_type": "execute_result"
    }
   ],
   "source": [
    "df[\"grade\"]"
   ]
  },
  {
   "cell_type": "code",
   "execution_count": 21,
   "id": "8161a820-d8d2-43a4-8f0e-2fc656748a42",
   "metadata": {},
   "outputs": [
    {
     "data": {
      "text/plain": [
       "array(['C', 'E', 'B', 'A', 'D', 'F', 'G'], dtype=object)"
      ]
     },
     "execution_count": 21,
     "metadata": {},
     "output_type": "execute_result"
    }
   ],
   "source": [
    "df[\"grade\"].unique()"
   ]
  },
  {
   "cell_type": "code",
   "execution_count": 22,
   "id": "108e284f-f877-497b-b600-e5851ba37753",
   "metadata": {},
   "outputs": [
    {
     "data": {
      "text/plain": [
       "grade\n",
       "B    11674\n",
       "A     9689\n",
       "C     7904\n",
       "D     5182\n",
       "E     2786\n",
       "F     1028\n",
       "G      313\n",
       "Name: count, dtype: int64"
      ]
     },
     "execution_count": 22,
     "metadata": {},
     "output_type": "execute_result"
    }
   ],
   "source": [
    "df[\"grade\"].value_counts()"
   ]
  },
  {
   "cell_type": "code",
   "execution_count": 23,
   "id": "b68d3d32-2f10-413a-b08c-cbd9eb88aa01",
   "metadata": {},
   "outputs": [
    {
     "data": {
      "text/plain": [
       "0            RENT\n",
       "1            RENT\n",
       "2            RENT\n",
       "3        MORTGAGE\n",
       "4        MORTGAGE\n",
       "           ...   \n",
       "38571    MORTGAGE\n",
       "38572        RENT\n",
       "38573        RENT\n",
       "38574        RENT\n",
       "38575        RENT\n",
       "Name: home_ownership, Length: 38576, dtype: object"
      ]
     },
     "execution_count": 23,
     "metadata": {},
     "output_type": "execute_result"
    }
   ],
   "source": [
    "df[\"home_ownership\"]"
   ]
  },
  {
   "cell_type": "code",
   "execution_count": 24,
   "id": "a64bbb9e-9880-4988-854a-4ef1830a676c",
   "metadata": {},
   "outputs": [
    {
     "data": {
      "text/plain": [
       "array(['RENT', 'MORTGAGE', 'OWN', 'OTHER', 'NONE'], dtype=object)"
      ]
     },
     "execution_count": 24,
     "metadata": {},
     "output_type": "execute_result"
    }
   ],
   "source": [
    "df[\"home_ownership\"].unique()"
   ]
  },
  {
   "cell_type": "code",
   "execution_count": 25,
   "id": "4887fee8-1280-4e2c-b585-48ff3c197bf3",
   "metadata": {},
   "outputs": [
    {
     "data": {
      "text/plain": [
       "home_ownership\n",
       "RENT        18439\n",
       "MORTGAGE    17198\n",
       "OWN          2838\n",
       "OTHER          98\n",
       "NONE            3\n",
       "Name: count, dtype: int64"
      ]
     },
     "execution_count": 25,
     "metadata": {},
     "output_type": "execute_result"
    }
   ],
   "source": [
    "df[\"home_ownership\"].value_counts()"
   ]
  },
  {
   "cell_type": "code",
   "execution_count": 26,
   "id": "bc485ec1-41b5-4c1b-bddb-fbab9c75c165",
   "metadata": {},
   "outputs": [
    {
     "data": {
      "text/plain": [
       "0        2021-11-02 00:00:00\n",
       "1        2021-01-01 00:00:00\n",
       "2        2021-05-01 00:00:00\n",
       "3                 25-02-2021\n",
       "4        2021-01-01 00:00:00\n",
       "                ...         \n",
       "38571    2021-11-07 00:00:00\n",
       "38572    2021-11-10 00:00:00\n",
       "38573    2021-11-09 00:00:00\n",
       "38574    2021-11-10 00:00:00\n",
       "38575    2021-11-07 00:00:00\n",
       "Name: issue_date, Length: 38576, dtype: object"
      ]
     },
     "execution_count": 26,
     "metadata": {},
     "output_type": "execute_result"
    }
   ],
   "source": [
    "df[\"issue_date\"]"
   ]
  },
  {
   "cell_type": "code",
   "execution_count": 27,
   "id": "0b24a969-f520-44c8-9f3d-5a5ee66e558c",
   "metadata": {},
   "outputs": [
    {
     "data": {
      "text/plain": [
       "array([datetime.datetime(2021, 11, 2, 0, 0),\n",
       "       datetime.datetime(2021, 1, 1, 0, 0),\n",
       "       datetime.datetime(2021, 5, 1, 0, 0), '25-02-2021', '17-07-2021',\n",
       "       '19-11-2021', datetime.datetime(2021, 11, 6, 0, 0),\n",
       "       datetime.datetime(2021, 2, 9, 0, 0),\n",
       "       datetime.datetime(2021, 9, 2, 0, 0), '22-07-2021',\n",
       "       datetime.datetime(2021, 11, 9, 0, 0),\n",
       "       datetime.datetime(2021, 11, 8, 0, 0),\n",
       "       datetime.datetime(2021, 11, 12, 0, 0),\n",
       "       datetime.datetime(2021, 11, 10, 0, 0),\n",
       "       datetime.datetime(2021, 2, 12, 0, 0),\n",
       "       datetime.datetime(2021, 9, 10, 0, 0),\n",
       "       datetime.datetime(2021, 12, 12, 0, 0),\n",
       "       datetime.datetime(2021, 2, 2, 0, 0),\n",
       "       datetime.datetime(2021, 7, 7, 0, 0),\n",
       "       datetime.datetime(2021, 8, 1, 0, 0),\n",
       "       datetime.datetime(2021, 9, 8, 0, 0),\n",
       "       datetime.datetime(2021, 11, 1, 0, 0),\n",
       "       datetime.datetime(2021, 11, 11, 0, 0),\n",
       "       datetime.datetime(2021, 9, 6, 0, 0),\n",
       "       datetime.datetime(2021, 10, 1, 0, 0),\n",
       "       datetime.datetime(2021, 11, 5, 0, 0),\n",
       "       datetime.datetime(2021, 10, 3, 0, 0),\n",
       "       datetime.datetime(2021, 10, 5, 0, 0),\n",
       "       datetime.datetime(2021, 9, 5, 0, 0),\n",
       "       datetime.datetime(2021, 11, 4, 0, 0),\n",
       "       datetime.datetime(2021, 9, 7, 0, 0),\n",
       "       datetime.datetime(2021, 9, 12, 0, 0),\n",
       "       datetime.datetime(2021, 9, 11, 0, 0),\n",
       "       datetime.datetime(2021, 9, 3, 0, 0),\n",
       "       datetime.datetime(2021, 8, 10, 0, 0),\n",
       "       datetime.datetime(2021, 8, 3, 0, 0),\n",
       "       datetime.datetime(2021, 8, 11, 0, 0),\n",
       "       datetime.datetime(2021, 7, 9, 0, 0),\n",
       "       datetime.datetime(2021, 8, 2, 0, 0),\n",
       "       datetime.datetime(2021, 7, 8, 0, 0),\n",
       "       datetime.datetime(2021, 9, 1, 0, 0),\n",
       "       datetime.datetime(2021, 10, 12, 0, 0),\n",
       "       datetime.datetime(2021, 11, 3, 0, 0),\n",
       "       datetime.datetime(2021, 10, 7, 0, 0),\n",
       "       datetime.datetime(2021, 11, 7, 0, 0),\n",
       "       datetime.datetime(2021, 9, 4, 0, 0),\n",
       "       datetime.datetime(2021, 10, 2, 0, 0),\n",
       "       datetime.datetime(2021, 10, 8, 0, 0),\n",
       "       datetime.datetime(2021, 10, 4, 0, 0),\n",
       "       datetime.datetime(2021, 10, 11, 0, 0),\n",
       "       datetime.datetime(2021, 10, 10, 0, 0),\n",
       "       datetime.datetime(2021, 10, 6, 0, 0),\n",
       "       datetime.datetime(2021, 9, 9, 0, 0),\n",
       "       datetime.datetime(2021, 8, 8, 0, 0),\n",
       "       datetime.datetime(2021, 10, 9, 0, 0),\n",
       "       datetime.datetime(2021, 8, 12, 0, 0),\n",
       "       datetime.datetime(2021, 8, 5, 0, 0),\n",
       "       datetime.datetime(2021, 8, 6, 0, 0),\n",
       "       datetime.datetime(2021, 8, 9, 0, 0),\n",
       "       datetime.datetime(2021, 8, 7, 0, 0),\n",
       "       datetime.datetime(2021, 8, 4, 0, 0),\n",
       "       datetime.datetime(2021, 7, 11, 0, 0),\n",
       "       datetime.datetime(2021, 7, 10, 0, 0),\n",
       "       datetime.datetime(2021, 7, 12, 0, 0),\n",
       "       datetime.datetime(2021, 7, 6, 0, 0)], dtype=object)"
      ]
     },
     "execution_count": 27,
     "metadata": {},
     "output_type": "execute_result"
    }
   ],
   "source": [
    "df[\"issue_date\"].unique()"
   ]
  },
  {
   "cell_type": "code",
   "execution_count": 28,
   "id": "629aa41e-105e-419f-a648-c6beca258ffa",
   "metadata": {},
   "outputs": [
    {
     "data": {
      "text/plain": [
       "issue_date\n",
       "2021-11-12 00:00:00    2188\n",
       "2021-11-11 00:00:00    2120\n",
       "2021-11-10 00:00:00    2025\n",
       "2021-11-09 00:00:00    1980\n",
       "2021-11-08 00:00:00    1873\n",
       "                       ... \n",
       "2021-02-09 00:00:00       1\n",
       "22-07-2021                1\n",
       "2021-12-12 00:00:00       1\n",
       "2021-02-02 00:00:00       1\n",
       "2021-07-06 00:00:00       1\n",
       "Name: count, Length: 65, dtype: int64"
      ]
     },
     "execution_count": 28,
     "metadata": {},
     "output_type": "execute_result"
    }
   ],
   "source": [
    "df[\"issue_date\"].value_counts()"
   ]
  },
  {
   "cell_type": "code",
   "execution_count": 29,
   "id": "9235fb7b-71ec-4498-8add-815a14854ced",
   "metadata": {},
   "outputs": [
    {
     "data": {
      "text/plain": [
       "0                 13-09-2021\n",
       "1                 14-12-2021\n",
       "2        2021-12-12 00:00:00\n",
       "3        2021-12-12 00:00:00\n",
       "4                 14-12-2021\n",
       "                ...         \n",
       "38571             16-05-2021\n",
       "38572             16-04-2021\n",
       "38573             16-05-2021\n",
       "38574             16-05-2021\n",
       "38575             16-05-2021\n",
       "Name: last_credit_pull_date, Length: 38576, dtype: object"
      ]
     },
     "execution_count": 29,
     "metadata": {},
     "output_type": "execute_result"
    }
   ],
   "source": [
    "df[\"last_credit_pull_date\"]"
   ]
  },
  {
   "cell_type": "code",
   "execution_count": 30,
   "id": "83d4b3b9-f051-4b2c-96c7-3915736020f5",
   "metadata": {},
   "outputs": [
    {
     "data": {
      "text/plain": [
       "array(['13-09-2021', '14-12-2021', datetime.datetime(2021, 12, 12, 0, 0),\n",
       "       '16-03-2021', '14-06-2021', '14-07-2021', '15-06-2021',\n",
       "       '13-03-2021', '13-10-2021', '14-02-2021', '16-04-2021',\n",
       "       '15-09-2021', '16-05-2021', datetime.datetime(2021, 9, 12, 0, 0),\n",
       "       '13-02-2021', '13-11-2021', datetime.datetime(2021, 10, 11, 0, 0),\n",
       "       '14-04-2021', datetime.datetime(2021, 12, 1, 0, 0),\n",
       "       datetime.datetime(2021, 12, 3, 0, 0),\n",
       "       datetime.datetime(2021, 11, 6, 0, 0), '13-12-2021',\n",
       "       datetime.datetime(2021, 12, 6, 0, 0), '14-03-2021',\n",
       "       datetime.datetime(2021, 11, 4, 0, 0),\n",
       "       datetime.datetime(2021, 11, 11, 0, 0), '15-02-2021',\n",
       "       datetime.datetime(2021, 11, 7, 0, 0),\n",
       "       datetime.datetime(2021, 10, 12, 0, 0),\n",
       "       datetime.datetime(2021, 11, 1, 0, 0),\n",
       "       datetime.datetime(2021, 7, 8, 0, 0),\n",
       "       datetime.datetime(2021, 10, 5, 0, 0),\n",
       "       datetime.datetime(2021, 12, 9, 0, 0),\n",
       "       datetime.datetime(2021, 10, 9, 0, 0),\n",
       "       datetime.datetime(2021, 10, 2, 0, 0),\n",
       "       datetime.datetime(2021, 11, 3, 0, 0), '16-02-2021',\n",
       "       datetime.datetime(2021, 12, 5, 0, 0),\n",
       "       datetime.datetime(2021, 11, 2, 0, 0), '14-10-2021', '14-01-2021',\n",
       "       datetime.datetime(2021, 11, 9, 0, 0), '14-11-2021', '14-09-2021',\n",
       "       '15-12-2021', datetime.datetime(2021, 12, 11, 0, 0), '15-11-2021',\n",
       "       '14-08-2021', '15-07-2021', datetime.datetime(2021, 11, 12, 0, 0),\n",
       "       '15-10-2021', '13-08-2021', datetime.datetime(2021, 10, 3, 0, 0),\n",
       "       datetime.datetime(2021, 11, 8, 0, 0), '16-01-2021', '13-07-2021',\n",
       "       '13-04-2021', '14-05-2021', '13-05-2021', '15-05-2021',\n",
       "       datetime.datetime(2021, 12, 8, 0, 0), '15-01-2021',\n",
       "       datetime.datetime(2021, 11, 5, 0, 0), '15-04-2021',\n",
       "       datetime.datetime(2021, 12, 10, 0, 0),\n",
       "       datetime.datetime(2021, 11, 10, 0, 0), '15-08-2021',\n",
       "       datetime.datetime(2021, 12, 2, 0, 0),\n",
       "       datetime.datetime(2021, 10, 4, 0, 0), '13-06-2021',\n",
       "       datetime.datetime(2021, 9, 2, 0, 0),\n",
       "       datetime.datetime(2021, 8, 12, 0, 0), '15-03-2021',\n",
       "       datetime.datetime(2021, 12, 4, 0, 0),\n",
       "       datetime.datetime(2021, 12, 7, 0, 0), '13-01-2021',\n",
       "       datetime.datetime(2021, 10, 7, 0, 0),\n",
       "       datetime.datetime(2021, 10, 10, 0, 0),\n",
       "       datetime.datetime(2021, 9, 9, 0, 0),\n",
       "       datetime.datetime(2021, 10, 6, 0, 0),\n",
       "       datetime.datetime(2021, 10, 8, 0, 0),\n",
       "       datetime.datetime(2021, 9, 11, 0, 0),\n",
       "       datetime.datetime(2021, 9, 10, 0, 0),\n",
       "       datetime.datetime(2021, 7, 6, 0, 0),\n",
       "       datetime.datetime(2021, 9, 6, 0, 0),\n",
       "       datetime.datetime(2021, 7, 12, 0, 0),\n",
       "       datetime.datetime(2021, 9, 8, 0, 0),\n",
       "       datetime.datetime(2021, 9, 1, 0, 0),\n",
       "       datetime.datetime(2021, 9, 3, 0, 0),\n",
       "       datetime.datetime(2021, 8, 8, 0, 0),\n",
       "       datetime.datetime(2021, 10, 1, 0, 0),\n",
       "       datetime.datetime(2021, 9, 5, 0, 0),\n",
       "       datetime.datetime(2021, 8, 10, 0, 0),\n",
       "       datetime.datetime(2021, 8, 9, 0, 0),\n",
       "       datetime.datetime(2021, 8, 2, 0, 0),\n",
       "       datetime.datetime(2021, 8, 1, 0, 0),\n",
       "       datetime.datetime(2021, 9, 4, 0, 0),\n",
       "       datetime.datetime(2021, 7, 10, 0, 0),\n",
       "       datetime.datetime(2021, 9, 7, 0, 0),\n",
       "       datetime.datetime(2021, 8, 5, 0, 0),\n",
       "       datetime.datetime(2021, 8, 3, 0, 0),\n",
       "       datetime.datetime(2021, 7, 5, 0, 0),\n",
       "       datetime.datetime(2021, 8, 7, 0, 0),\n",
       "       datetime.datetime(2021, 7, 9, 0, 0), '20-01-2022',\n",
       "       datetime.datetime(2021, 8, 6, 0, 0),\n",
       "       datetime.datetime(2021, 7, 7, 0, 0)], dtype=object)"
      ]
     },
     "execution_count": 30,
     "metadata": {},
     "output_type": "execute_result"
    }
   ],
   "source": [
    "df[\"last_credit_pull_date\"].unique()"
   ]
  },
  {
   "cell_type": "code",
   "execution_count": 31,
   "id": "2d327847-17c4-4276-ba45-920d8e4d0953",
   "metadata": {},
   "outputs": [
    {
     "data": {
      "text/plain": [
       "last_credit_pull_date\n",
       "16-05-2021             10041\n",
       "16-04-2021              2477\n",
       "16-03-2021              1096\n",
       "13-02-2021               832\n",
       "16-02-2021               714\n",
       "                       ...  \n",
       "2021-07-05 00:00:00        1\n",
       "2021-08-07 00:00:00        1\n",
       "20-01-2022                 1\n",
       "2021-08-06 00:00:00        1\n",
       "2021-07-07 00:00:00        1\n",
       "Name: count, Length: 107, dtype: int64"
      ]
     },
     "execution_count": 31,
     "metadata": {},
     "output_type": "execute_result"
    }
   ],
   "source": [
    "df[\"last_credit_pull_date\"].value_counts()"
   ]
  },
  {
   "cell_type": "code",
   "execution_count": 32,
   "id": "fe77cc3d-4622-40f7-86cb-99b814b59006",
   "metadata": {},
   "outputs": [
    {
     "data": {
      "text/plain": [
       "0                 13-04-2021\n",
       "1                 15-01-2021\n",
       "2        2021-09-01 00:00:00\n",
       "3        2021-12-03 00:00:00\n",
       "4                 15-01-2021\n",
       "                ...         \n",
       "38571             16-05-2021\n",
       "38572             16-05-2021\n",
       "38573             16-05-2021\n",
       "38574             16-05-2021\n",
       "38575             16-05-2021\n",
       "Name: last_payment_date, Length: 38576, dtype: object"
      ]
     },
     "execution_count": 32,
     "metadata": {},
     "output_type": "execute_result"
    }
   ],
   "source": [
    "df[\"last_payment_date\"]"
   ]
  },
  {
   "cell_type": "code",
   "execution_count": 33,
   "id": "02b0cf44-df44-4565-b45f-0aea029bf9e5",
   "metadata": {},
   "outputs": [
    {
     "data": {
      "text/plain": [
       "array(['13-04-2021', '15-01-2021', datetime.datetime(2021, 9, 1, 0, 0),\n",
       "       datetime.datetime(2021, 12, 3, 0, 0),\n",
       "       datetime.datetime(2021, 12, 8, 0, 0), '13-12-2021', '14-07-2021',\n",
       "       datetime.datetime(2021, 12, 10, 0, 0), '16-03-2021', '13-08-2021',\n",
       "       '13-09-2021', '14-12-2021', '13-10-2021',\n",
       "       datetime.datetime(2021, 12, 11, 0, 0), '15-02-2021',\n",
       "       datetime.datetime(2021, 10, 8, 0, 0),\n",
       "       datetime.datetime(2021, 10, 2, 0, 0),\n",
       "       datetime.datetime(2021, 11, 6, 0, 0),\n",
       "       datetime.datetime(2021, 8, 8, 0, 0), '13-06-2021',\n",
       "       datetime.datetime(2021, 9, 12, 0, 0),\n",
       "       datetime.datetime(2021, 12, 2, 0, 0),\n",
       "       datetime.datetime(2021, 12, 7, 0, 0),\n",
       "       datetime.datetime(2021, 10, 7, 0, 0), '13-01-2021',\n",
       "       datetime.datetime(2021, 11, 8, 0, 0),\n",
       "       datetime.datetime(2021, 11, 10, 0, 0),\n",
       "       datetime.datetime(2021, 11, 1, 0, 0), '13-07-2021',\n",
       "       datetime.datetime(2021, 9, 10, 0, 0), '13-11-2021',\n",
       "       datetime.datetime(2021, 10, 11, 0, 0),\n",
       "       datetime.datetime(2021, 11, 3, 0, 0),\n",
       "       datetime.datetime(2021, 11, 7, 0, 0),\n",
       "       datetime.datetime(2021, 12, 6, 0, 0),\n",
       "       datetime.datetime(2021, 11, 12, 0, 0),\n",
       "       datetime.datetime(2021, 9, 9, 0, 0), '13-05-2021', '14-03-2021',\n",
       "       datetime.datetime(2021, 8, 4, 0, 0),\n",
       "       datetime.datetime(2021, 10, 10, 0, 0),\n",
       "       datetime.datetime(2021, 10, 5, 0, 0),\n",
       "       datetime.datetime(2021, 11, 2, 0, 0),\n",
       "       datetime.datetime(2021, 10, 9, 0, 0),\n",
       "       datetime.datetime(2021, 10, 4, 0, 0),\n",
       "       datetime.datetime(2021, 10, 6, 0, 0),\n",
       "       datetime.datetime(2021, 12, 5, 0, 0), '14-10-2021', '14-06-2021',\n",
       "       '14-05-2021', '14-01-2021', '14-04-2021',\n",
       "       datetime.datetime(2021, 11, 9, 0, 0), '14-08-2021', '14-11-2021',\n",
       "       datetime.datetime(2021, 12, 1, 0, 0), '14-02-2021',\n",
       "       datetime.datetime(2021, 12, 12, 0, 0),\n",
       "       datetime.datetime(2021, 12, 4, 0, 0), '13-02-2021', '14-09-2021',\n",
       "       datetime.datetime(2021, 10, 3, 0, 0),\n",
       "       datetime.datetime(2021, 11, 11, 0, 0),\n",
       "       datetime.datetime(2021, 11, 4, 0, 0), '13-03-2021',\n",
       "       datetime.datetime(2021, 11, 5, 0, 0),\n",
       "       datetime.datetime(2021, 9, 11, 0, 0),\n",
       "       datetime.datetime(2021, 12, 9, 0, 0),\n",
       "       datetime.datetime(2021, 9, 2, 0, 0),\n",
       "       datetime.datetime(2021, 8, 12, 0, 0),\n",
       "       datetime.datetime(2021, 10, 12, 0, 0),\n",
       "       datetime.datetime(2021, 9, 7, 0, 0),\n",
       "       datetime.datetime(2021, 10, 1, 0, 0),\n",
       "       datetime.datetime(2021, 9, 6, 0, 0), '15-04-2021', '15-03-2021',\n",
       "       '16-02-2021', '15-05-2021', '16-05-2021', '15-11-2021',\n",
       "       '16-04-2021', '15-06-2021', '15-10-2021', '15-09-2021',\n",
       "       '15-07-2021', '16-01-2021', '15-12-2021', '15-08-2021',\n",
       "       '16-06-2021', datetime.datetime(2021, 9, 5, 0, 0),\n",
       "       datetime.datetime(2021, 8, 10, 0, 0),\n",
       "       datetime.datetime(2021, 9, 8, 0, 0),\n",
       "       datetime.datetime(2021, 9, 4, 0, 0),\n",
       "       datetime.datetime(2021, 8, 5, 0, 0),\n",
       "       datetime.datetime(2021, 9, 3, 0, 0),\n",
       "       datetime.datetime(2021, 8, 9, 0, 0),\n",
       "       datetime.datetime(2021, 8, 11, 0, 0),\n",
       "       datetime.datetime(2021, 8, 7, 0, 0),\n",
       "       datetime.datetime(2021, 8, 6, 0, 0),\n",
       "       datetime.datetime(2021, 8, 3, 0, 0),\n",
       "       datetime.datetime(2021, 8, 2, 0, 0),\n",
       "       datetime.datetime(2021, 8, 1, 0, 0)], dtype=object)"
      ]
     },
     "execution_count": 33,
     "metadata": {},
     "output_type": "execute_result"
    }
   ],
   "source": [
    "df[\"last_payment_date\"].unique()"
   ]
  },
  {
   "cell_type": "code",
   "execution_count": 34,
   "id": "fe0bf566-eb0e-4cf8-943c-05d15cf2852d",
   "metadata": {},
   "outputs": [
    {
     "data": {
      "text/plain": [
       "last_payment_date\n",
       "16-05-2021             1209\n",
       "13-03-2021             1001\n",
       "14-12-2021              909\n",
       "13-05-2021              884\n",
       "13-02-2021              845\n",
       "                       ... \n",
       "2021-08-11 00:00:00      10\n",
       "2021-08-06 00:00:00      10\n",
       "2021-08-03 00:00:00       5\n",
       "2021-08-01 00:00:00       4\n",
       "2021-08-02 00:00:00       1\n",
       "Name: count, Length: 102, dtype: int64"
      ]
     },
     "execution_count": 34,
     "metadata": {},
     "output_type": "execute_result"
    }
   ],
   "source": [
    "df[\"last_payment_date\"].value_counts()"
   ]
  },
  {
   "cell_type": "code",
   "execution_count": 35,
   "id": "25d8cfe3-a81a-49f7-9808-f6a6899a745a",
   "metadata": {},
   "outputs": [
    {
     "data": {
      "text/plain": [
       "0        Charged Off\n",
       "1         Fully Paid\n",
       "2        Charged Off\n",
       "3         Fully Paid\n",
       "4         Fully Paid\n",
       "            ...     \n",
       "38571        Current\n",
       "38572        Current\n",
       "38573        Current\n",
       "38574        Current\n",
       "38575        Current\n",
       "Name: loan_status, Length: 38576, dtype: object"
      ]
     },
     "execution_count": 35,
     "metadata": {},
     "output_type": "execute_result"
    }
   ],
   "source": [
    "df[\"loan_status\"]"
   ]
  },
  {
   "cell_type": "code",
   "execution_count": 36,
   "id": "00714bf8-2fdf-4900-9904-1363a681e5ee",
   "metadata": {},
   "outputs": [
    {
     "data": {
      "text/plain": [
       "array(['Charged Off', 'Fully Paid', 'Current'], dtype=object)"
      ]
     },
     "execution_count": 36,
     "metadata": {},
     "output_type": "execute_result"
    }
   ],
   "source": [
    "df[\"loan_status\"].unique()"
   ]
  },
  {
   "cell_type": "code",
   "execution_count": 37,
   "id": "56872b15-eccb-4765-9be3-ba0860e3935f",
   "metadata": {},
   "outputs": [
    {
     "data": {
      "text/plain": [
       "loan_status\n",
       "Fully Paid     32145\n",
       "Charged Off     5333\n",
       "Current         1098\n",
       "Name: count, dtype: int64"
      ]
     },
     "execution_count": 37,
     "metadata": {},
     "output_type": "execute_result"
    }
   ],
   "source": [
    "df[\"loan_status\"].value_counts()"
   ]
  },
  {
   "cell_type": "code",
   "execution_count": 38,
   "id": "936f8e8b-9396-48f1-a64e-dcaf3eca8f36",
   "metadata": {},
   "outputs": [
    {
     "data": {
      "text/plain": [
       "0                 13-05-2021\n",
       "1                 15-02-2021\n",
       "2        2021-09-02 00:00:00\n",
       "3        2021-12-04 00:00:00\n",
       "4                 15-02-2021\n",
       "                ...         \n",
       "38571             16-06-2021\n",
       "38572             16-06-2021\n",
       "38573             16-06-2021\n",
       "38574             16-06-2021\n",
       "38575             16-06-2021\n",
       "Name: next_payment_date, Length: 38576, dtype: object"
      ]
     },
     "execution_count": 38,
     "metadata": {},
     "output_type": "execute_result"
    }
   ],
   "source": [
    "df[\"next_payment_date\"]"
   ]
  },
  {
   "cell_type": "code",
   "execution_count": 39,
   "id": "f180a635-9c14-466c-8a04-90929f90910a",
   "metadata": {},
   "outputs": [
    {
     "data": {
      "text/plain": [
       "array(['13-05-2021', '15-02-2021', datetime.datetime(2021, 9, 2, 0, 0),\n",
       "       datetime.datetime(2021, 12, 4, 0, 0),\n",
       "       datetime.datetime(2021, 12, 9, 0, 0), '13-01-2022', '14-08-2021',\n",
       "       datetime.datetime(2021, 12, 11, 0, 0), '16-04-2021', '13-09-2021',\n",
       "       '13-10-2021', '14-01-2022', '13-11-2021',\n",
       "       datetime.datetime(2021, 12, 12, 0, 0), '15-03-2021',\n",
       "       datetime.datetime(2021, 10, 9, 0, 0),\n",
       "       datetime.datetime(2021, 10, 3, 0, 0),\n",
       "       datetime.datetime(2021, 11, 7, 0, 0),\n",
       "       datetime.datetime(2021, 8, 9, 0, 0), '13-07-2021',\n",
       "       datetime.datetime(2022, 9, 1, 0, 0),\n",
       "       datetime.datetime(2021, 12, 3, 0, 0),\n",
       "       datetime.datetime(2021, 12, 8, 0, 0),\n",
       "       datetime.datetime(2021, 10, 8, 0, 0), '13-02-2021',\n",
       "       datetime.datetime(2021, 11, 9, 0, 0),\n",
       "       datetime.datetime(2021, 11, 11, 0, 0),\n",
       "       datetime.datetime(2021, 11, 2, 0, 0), '13-08-2021',\n",
       "       datetime.datetime(2021, 9, 11, 0, 0), '13-12-2021',\n",
       "       datetime.datetime(2021, 10, 12, 0, 0),\n",
       "       datetime.datetime(2021, 11, 4, 0, 0),\n",
       "       datetime.datetime(2021, 11, 8, 0, 0),\n",
       "       datetime.datetime(2021, 12, 7, 0, 0),\n",
       "       datetime.datetime(2022, 11, 1, 0, 0),\n",
       "       datetime.datetime(2021, 9, 10, 0, 0), '13-06-2021', '14-04-2021',\n",
       "       datetime.datetime(2021, 8, 5, 0, 0),\n",
       "       datetime.datetime(2021, 10, 11, 0, 0),\n",
       "       datetime.datetime(2021, 10, 6, 0, 0),\n",
       "       datetime.datetime(2021, 11, 3, 0, 0),\n",
       "       datetime.datetime(2021, 10, 10, 0, 0),\n",
       "       datetime.datetime(2021, 10, 5, 0, 0),\n",
       "       datetime.datetime(2021, 10, 7, 0, 0),\n",
       "       datetime.datetime(2021, 12, 6, 0, 0), '14-11-2021', '14-07-2021',\n",
       "       '14-06-2021', '14-02-2021', '14-05-2021',\n",
       "       datetime.datetime(2021, 11, 10, 0, 0), '14-09-2021', '14-12-2021',\n",
       "       datetime.datetime(2021, 12, 2, 0, 0), '14-03-2021',\n",
       "       datetime.datetime(2022, 12, 1, 0, 0),\n",
       "       datetime.datetime(2021, 12, 5, 0, 0), '13-03-2021', '14-10-2021',\n",
       "       datetime.datetime(2021, 10, 4, 0, 0),\n",
       "       datetime.datetime(2021, 11, 12, 0, 0),\n",
       "       datetime.datetime(2021, 11, 5, 0, 0), '13-04-2021',\n",
       "       datetime.datetime(2021, 11, 6, 0, 0),\n",
       "       datetime.datetime(2021, 9, 12, 0, 0),\n",
       "       datetime.datetime(2021, 12, 10, 0, 0),\n",
       "       datetime.datetime(2021, 9, 3, 0, 0),\n",
       "       datetime.datetime(2022, 8, 1, 0, 0),\n",
       "       datetime.datetime(2022, 10, 1, 0, 0),\n",
       "       datetime.datetime(2021, 9, 8, 0, 0),\n",
       "       datetime.datetime(2021, 10, 2, 0, 0),\n",
       "       datetime.datetime(2021, 9, 7, 0, 0), '15-05-2021', '15-04-2021',\n",
       "       '16-03-2021', '15-06-2021', '16-06-2021', '15-12-2021',\n",
       "       '16-05-2021', '15-07-2021', '15-11-2021', '15-10-2021',\n",
       "       '15-08-2021', '16-02-2021', '15-01-2022', '15-09-2021',\n",
       "       '16-07-2021', datetime.datetime(2021, 9, 6, 0, 0),\n",
       "       datetime.datetime(2021, 8, 11, 0, 0),\n",
       "       datetime.datetime(2021, 9, 9, 0, 0),\n",
       "       datetime.datetime(2021, 9, 5, 0, 0),\n",
       "       datetime.datetime(2021, 8, 6, 0, 0),\n",
       "       datetime.datetime(2021, 9, 4, 0, 0),\n",
       "       datetime.datetime(2021, 8, 10, 0, 0),\n",
       "       datetime.datetime(2021, 8, 12, 0, 0),\n",
       "       datetime.datetime(2021, 8, 8, 0, 0),\n",
       "       datetime.datetime(2021, 8, 7, 0, 0),\n",
       "       datetime.datetime(2021, 8, 4, 0, 0),\n",
       "       datetime.datetime(2021, 8, 3, 0, 0),\n",
       "       datetime.datetime(2021, 8, 2, 0, 0)], dtype=object)"
      ]
     },
     "execution_count": 39,
     "metadata": {},
     "output_type": "execute_result"
    }
   ],
   "source": [
    "df[\"next_payment_date\"].unique()"
   ]
  },
  {
   "cell_type": "code",
   "execution_count": 40,
   "id": "58569168-2ec3-42b1-9eae-0143535a5a10",
   "metadata": {},
   "outputs": [
    {
     "data": {
      "text/plain": [
       "next_payment_date\n",
       "16-06-2021             1209\n",
       "13-04-2021             1001\n",
       "14-01-2022              909\n",
       "13-06-2021              884\n",
       "13-03-2021              845\n",
       "                       ... \n",
       "2021-08-12 00:00:00      10\n",
       "2021-08-07 00:00:00      10\n",
       "2021-08-04 00:00:00       5\n",
       "2021-08-02 00:00:00       4\n",
       "2021-08-03 00:00:00       1\n",
       "Name: count, Length: 102, dtype: int64"
      ]
     },
     "execution_count": 40,
     "metadata": {},
     "output_type": "execute_result"
    }
   ],
   "source": [
    "df[\"next_payment_date\"].value_counts()"
   ]
  },
  {
   "cell_type": "code",
   "execution_count": 41,
   "id": "2f0b7bc7-f338-4ce3-8752-4b39e9a18143",
   "metadata": {},
   "outputs": [
    {
     "data": {
      "text/plain": [
       "0        1314167\n",
       "1        1288686\n",
       "2        1304116\n",
       "3        1272024\n",
       "4        1302971\n",
       "          ...   \n",
       "38571     992381\n",
       "38572    1192039\n",
       "38573    1089898\n",
       "38574    1194971\n",
       "38575     872217\n",
       "Name: member_id, Length: 38576, dtype: int64"
      ]
     },
     "execution_count": 41,
     "metadata": {},
     "output_type": "execute_result"
    }
   ],
   "source": [
    "df[\"member_id\"]"
   ]
  },
  {
   "cell_type": "code",
   "execution_count": 42,
   "id": "76789b6f-a769-49af-a433-d63d23decc91",
   "metadata": {},
   "outputs": [
    {
     "data": {
      "text/plain": [
       "array([1314167, 1288686, 1304116, ..., 1089898, 1194971,  872217])"
      ]
     },
     "execution_count": 42,
     "metadata": {},
     "output_type": "execute_result"
    }
   ],
   "source": [
    "df[\"member_id\"].unique()"
   ]
  },
  {
   "cell_type": "code",
   "execution_count": 43,
   "id": "499b2c24-62a5-4252-ba09-a4ad390040ed",
   "metadata": {},
   "outputs": [
    {
     "data": {
      "text/plain": [
       "member_id\n",
       "1314167    1\n",
       "317830     1\n",
       "605588     1\n",
       "607168     1\n",
       "539366     1\n",
       "          ..\n",
       "354316     1\n",
       "222675     1\n",
       "592798     1\n",
       "1070101    1\n",
       "872217     1\n",
       "Name: count, Length: 38576, dtype: int64"
      ]
     },
     "execution_count": 43,
     "metadata": {},
     "output_type": "execute_result"
    }
   ],
   "source": [
    "df[\"member_id\"].value_counts()"
   ]
  },
  {
   "cell_type": "code",
   "execution_count": 44,
   "id": "5a2a2ca6-a70b-414d-af99-e167b015dd83",
   "metadata": {},
   "outputs": [
    {
     "data": {
      "text/plain": [
       "0            car\n",
       "1            car\n",
       "2            car\n",
       "3            car\n",
       "4            car\n",
       "          ...   \n",
       "38571    wedding\n",
       "38572    wedding\n",
       "38573    wedding\n",
       "38574    wedding\n",
       "38575    wedding\n",
       "Name: purpose, Length: 38576, dtype: object"
      ]
     },
     "execution_count": 44,
     "metadata": {},
     "output_type": "execute_result"
    }
   ],
   "source": [
    "df[\"purpose\"]"
   ]
  },
  {
   "cell_type": "code",
   "execution_count": 45,
   "id": "3c0a122a-2b37-4f2a-bd53-4820b364f04f",
   "metadata": {},
   "outputs": [
    {
     "data": {
      "text/plain": [
       "array(['car', 'credit card', 'Debt consolidation', 'educational',\n",
       "       'home improvement', 'house', 'major purchase', 'medical', 'moving',\n",
       "       'other', 'renewable_energy', 'small business', 'vacation',\n",
       "       'wedding'], dtype=object)"
      ]
     },
     "execution_count": 45,
     "metadata": {},
     "output_type": "execute_result"
    }
   ],
   "source": [
    "df[\"purpose\"].unique()"
   ]
  },
  {
   "cell_type": "code",
   "execution_count": 46,
   "id": "0401fe4a-b092-444f-8934-8059671556e1",
   "metadata": {},
   "outputs": [
    {
     "data": {
      "text/plain": [
       "purpose\n",
       "Debt consolidation    18214\n",
       "credit card            4998\n",
       "other                  3824\n",
       "home improvement       2876\n",
       "major purchase         2110\n",
       "small business         1776\n",
       "car                    1497\n",
       "wedding                 928\n",
       "medical                 667\n",
       "moving                  559\n",
       "house                   366\n",
       "vacation                352\n",
       "educational             315\n",
       "renewable_energy         94\n",
       "Name: count, dtype: int64"
      ]
     },
     "execution_count": 46,
     "metadata": {},
     "output_type": "execute_result"
    }
   ],
   "source": [
    "df[\"purpose\"].value_counts()"
   ]
  },
  {
   "cell_type": "code",
   "execution_count": 47,
   "id": "bfb1a5d4-919a-4a58-a4c5-9b5b0018de74",
   "metadata": {},
   "outputs": [
    {
     "data": {
      "text/plain": [
       "0        C4\n",
       "1        E1\n",
       "2        C5\n",
       "3        B2\n",
       "4        A1\n",
       "         ..\n",
       "38571    C1\n",
       "38572    C1\n",
       "38573    D5\n",
       "38574    D5\n",
       "38575    F3\n",
       "Name: sub_grade, Length: 38576, dtype: object"
      ]
     },
     "execution_count": 47,
     "metadata": {},
     "output_type": "execute_result"
    }
   ],
   "source": [
    "df[\"sub_grade\"]"
   ]
  },
  {
   "cell_type": "code",
   "execution_count": 48,
   "id": "3724b1c9-1dbc-4bf4-8ec0-5cad9cdbd216",
   "metadata": {},
   "outputs": [
    {
     "data": {
      "text/plain": [
       "array(['C4', 'E1', 'C5', 'B2', 'A1', 'C3', 'C2', 'A4', 'A5', 'B5', 'B4',\n",
       "       'B3', 'B1', 'D1', 'A2', 'A3', 'D4', 'D2', 'C1', 'D3', 'E3', 'F1',\n",
       "       'E2', 'E5', 'D5', 'E4', 'F2', 'G3', 'F3', 'G1', 'F4', 'G4', 'G2',\n",
       "       'F5', 'G5'], dtype=object)"
      ]
     },
     "execution_count": 48,
     "metadata": {},
     "output_type": "execute_result"
    }
   ],
   "source": [
    "df[\"sub_grade\"].unique()"
   ]
  },
  {
   "cell_type": "code",
   "execution_count": 49,
   "id": "b272bf7f-ac49-42db-835a-93f670bbd2a8",
   "metadata": {},
   "outputs": [
    {
     "data": {
      "text/plain": [
       "sub_grade\n",
       "B3    2834\n",
       "A4    2803\n",
       "A5    2654\n",
       "B5    2644\n",
       "B4    2455\n",
       "C1    2089\n",
       "B2    1990\n",
       "C2    1972\n",
       "B1    1751\n",
       "A3    1740\n",
       "C3    1490\n",
       "A2    1440\n",
       "D2    1314\n",
       "C4    1202\n",
       "C5    1151\n",
       "D3    1144\n",
       "A1    1052\n",
       "D4     960\n",
       "D1     913\n",
       "D5     851\n",
       "E1     750\n",
       "E2     640\n",
       "E3     538\n",
       "E4     448\n",
       "E5     410\n",
       "F1     325\n",
       "F2     243\n",
       "F3     182\n",
       "F4     163\n",
       "F5     115\n",
       "G1     101\n",
       "G2      78\n",
       "G4      56\n",
       "G3      48\n",
       "G5      30\n",
       "Name: count, dtype: int64"
      ]
     },
     "execution_count": 49,
     "metadata": {},
     "output_type": "execute_result"
    }
   ],
   "source": [
    "df[\"sub_grade\"].value_counts()"
   ]
  },
  {
   "cell_type": "code",
   "execution_count": 50,
   "id": "949b6a17-2944-454f-8042-1a63a2db5368",
   "metadata": {},
   "outputs": [
    {
     "data": {
      "text/plain": [
       "0         60 months\n",
       "1         36 months\n",
       "2         36 months\n",
       "3         60 months\n",
       "4         36 months\n",
       "            ...    \n",
       "38571     60 months\n",
       "38572     60 months\n",
       "38573     60 months\n",
       "38574     60 months\n",
       "38575     60 months\n",
       "Name: term, Length: 38576, dtype: object"
      ]
     },
     "execution_count": 50,
     "metadata": {},
     "output_type": "execute_result"
    }
   ],
   "source": [
    "df[\"term\"]"
   ]
  },
  {
   "cell_type": "code",
   "execution_count": 51,
   "id": "d19cb239-f2f0-4e4e-a7e2-628011050b10",
   "metadata": {},
   "outputs": [
    {
     "data": {
      "text/plain": [
       "array([' 60 months', ' 36 months'], dtype=object)"
      ]
     },
     "execution_count": 51,
     "metadata": {},
     "output_type": "execute_result"
    }
   ],
   "source": [
    "df[\"term\"].unique()"
   ]
  },
  {
   "cell_type": "code",
   "execution_count": 52,
   "id": "3c7d8c6e-6d8d-4d6f-972a-fbb6ef111fea",
   "metadata": {},
   "outputs": [
    {
     "data": {
      "text/plain": [
       "term\n",
       "36 months    28237\n",
       "60 months    10339\n",
       "Name: count, dtype: int64"
      ]
     },
     "execution_count": 52,
     "metadata": {},
     "output_type": "execute_result"
    }
   ],
   "source": [
    "df[\"term\"].value_counts()"
   ]
  },
  {
   "cell_type": "code",
   "execution_count": 53,
   "id": "f22d1305-1420-4681-94f4-b297a3934867",
   "metadata": {},
   "outputs": [
    {
     "data": {
      "text/plain": [
       "0        Source Verified\n",
       "1        Source Verified\n",
       "2           Not Verified\n",
       "3        Source Verified\n",
       "4               Verified\n",
       "              ...       \n",
       "38571           Verified\n",
       "38572           Verified\n",
       "38573           Verified\n",
       "38574           Verified\n",
       "38575           Verified\n",
       "Name: verification_status, Length: 38576, dtype: object"
      ]
     },
     "execution_count": 53,
     "metadata": {},
     "output_type": "execute_result"
    }
   ],
   "source": [
    "df[\"verification_status\"]"
   ]
  },
  {
   "cell_type": "code",
   "execution_count": 54,
   "id": "ec258615-8b3e-4505-9fa8-1787e0a1f200",
   "metadata": {},
   "outputs": [
    {
     "data": {
      "text/plain": [
       "array(['Source Verified', 'Not Verified', 'Verified'], dtype=object)"
      ]
     },
     "execution_count": 54,
     "metadata": {},
     "output_type": "execute_result"
    }
   ],
   "source": [
    "df[\"verification_status\"].unique()"
   ]
  },
  {
   "cell_type": "code",
   "execution_count": 55,
   "id": "a4bc43e2-3877-43b3-837b-c98db0189fb9",
   "metadata": {},
   "outputs": [
    {
     "data": {
      "text/plain": [
       "verification_status\n",
       "Not Verified       16464\n",
       "Verified           12335\n",
       "Source Verified     9777\n",
       "Name: count, dtype: int64"
      ]
     },
     "execution_count": 55,
     "metadata": {},
     "output_type": "execute_result"
    }
   ],
   "source": [
    "df[\"verification_status\"].value_counts()"
   ]
  },
  {
   "cell_type": "code",
   "execution_count": 56,
   "id": "ee650923-6be0-47a5-a09a-b7b72465a803",
   "metadata": {},
   "outputs": [
    {
     "data": {
      "text/plain": [
       "0         30000.0\n",
       "1         48000.0\n",
       "2         50000.0\n",
       "3         42000.0\n",
       "4         83000.0\n",
       "           ...   \n",
       "38571    100000.0\n",
       "38572     50000.0\n",
       "38573     65000.0\n",
       "38574    368000.0\n",
       "38575     80000.0\n",
       "Name: annual_income, Length: 38576, dtype: float64"
      ]
     },
     "execution_count": 56,
     "metadata": {},
     "output_type": "execute_result"
    }
   ],
   "source": [
    "df[\"annual_income\"]"
   ]
  },
  {
   "cell_type": "code",
   "execution_count": 57,
   "id": "5c49e92c-f577-412f-9444-440cccb1f285",
   "metadata": {},
   "outputs": [
    {
     "data": {
      "text/plain": [
       "array([ 30000. ,  48000. ,  50000. , ...,  44250. ,  57040.5, 368000. ])"
      ]
     },
     "execution_count": 57,
     "metadata": {},
     "output_type": "execute_result"
    }
   ],
   "source": [
    "df[\"annual_income\"].unique()"
   ]
  },
  {
   "cell_type": "code",
   "execution_count": 58,
   "id": "82a5665e-d42e-43c2-8020-2f6033c72ef4",
   "metadata": {},
   "outputs": [
    {
     "data": {
      "text/plain": [
       "annual_income\n",
       "60000.00     1471\n",
       "50000.00     1033\n",
       "40000.00      859\n",
       "45000.00      810\n",
       "75000.00      802\n",
       "             ... \n",
       "47838.00        1\n",
       "38000.04        1\n",
       "35570.00        1\n",
       "171600.00       1\n",
       "368000.00       1\n",
       "Name: count, Length: 5096, dtype: int64"
      ]
     },
     "execution_count": 58,
     "metadata": {},
     "output_type": "execute_result"
    }
   ],
   "source": [
    "df[\"annual_income\"].value_counts()"
   ]
  },
  {
   "cell_type": "code",
   "execution_count": 59,
   "id": "2847c728-3523-40b2-8eef-62ca1aec5431",
   "metadata": {},
   "outputs": [
    {
     "data": {
      "text/plain": [
       "0        0.0100\n",
       "1        0.0535\n",
       "2        0.2088\n",
       "3        0.0540\n",
       "4        0.0231\n",
       "          ...  \n",
       "38571    0.1986\n",
       "38572    0.0458\n",
       "38573    0.1734\n",
       "38574    0.0009\n",
       "38575    0.0600\n",
       "Name: dti, Length: 38576, dtype: float64"
      ]
     },
     "execution_count": 59,
     "metadata": {},
     "output_type": "execute_result"
    }
   ],
   "source": [
    "df[\"dti\"]"
   ]
  },
  {
   "cell_type": "code",
   "execution_count": 60,
   "id": "baa8bf41-cbac-4724-bbc6-85284dd5ee72",
   "metadata": {},
   "outputs": [
    {
     "data": {
      "text/plain": [
       "array([0.01  , 0.0535, 0.2088, ..., 0.2721, 0.2543, 0.272 ])"
      ]
     },
     "execution_count": 60,
     "metadata": {},
     "output_type": "execute_result"
    }
   ],
   "source": [
    "df[\"dti\"].unique()"
   ]
  },
  {
   "cell_type": "code",
   "execution_count": 61,
   "id": "dc7c55e8-8977-43fc-a795-dd1133458e77",
   "metadata": {},
   "outputs": [
    {
     "data": {
      "text/plain": [
       "dti\n",
       "0.0000    173\n",
       "0.1200     48\n",
       "0.1800     44\n",
       "0.1920     40\n",
       "0.1680     38\n",
       "         ... \n",
       "0.2694      1\n",
       "0.2960      1\n",
       "0.2961      1\n",
       "0.2670      1\n",
       "0.2720      1\n",
       "Name: count, Length: 2863, dtype: int64"
      ]
     },
     "execution_count": 61,
     "metadata": {},
     "output_type": "execute_result"
    }
   ],
   "source": [
    "df[\"dti\"].value_counts()"
   ]
  },
  {
   "cell_type": "code",
   "execution_count": 62,
   "id": "bbb710e2-cbc5-4cd9-9930-8a0003b05d27",
   "metadata": {},
   "outputs": [
    {
     "data": {
      "text/plain": [
       "0         59.83\n",
       "1        109.43\n",
       "2        421.65\n",
       "3         97.06\n",
       "4        106.53\n",
       "          ...  \n",
       "38571    551.64\n",
       "38572    579.72\n",
       "38573    627.93\n",
       "38574    612.72\n",
       "38575    486.86\n",
       "Name: installment, Length: 38576, dtype: float64"
      ]
     },
     "execution_count": 62,
     "metadata": {},
     "output_type": "execute_result"
    }
   ],
   "source": [
    "df[\"installment\"]"
   ]
  },
  {
   "cell_type": "code",
   "execution_count": 63,
   "id": "62c200df-5677-441f-9513-0f76b20acc00",
   "metadata": {},
   "outputs": [
    {
     "data": {
      "text/plain": [
       "array([ 59.83, 109.43, 421.65, ..., 164.99, 113.5 , 627.93])"
      ]
     },
     "execution_count": 63,
     "metadata": {},
     "output_type": "execute_result"
    }
   ],
   "source": [
    "df[\"installment\"].unique()"
   ]
  },
  {
   "cell_type": "code",
   "execution_count": 64,
   "id": "be6ac353-6a6a-412c-83d4-1d04bbe37eff",
   "metadata": {},
   "outputs": [
    {
     "data": {
      "text/plain": [
       "installment\n",
       "311.11    68\n",
       "311.02    54\n",
       "180.96    53\n",
       "150.80    46\n",
       "368.45    45\n",
       "          ..\n",
       "459.53     1\n",
       "215.15     1\n",
       "167.29     1\n",
       "218.66     1\n",
       "627.93     1\n",
       "Name: count, Length: 15132, dtype: int64"
      ]
     },
     "execution_count": 64,
     "metadata": {},
     "output_type": "execute_result"
    }
   ],
   "source": [
    "df[\"installment\"].value_counts()"
   ]
  },
  {
   "cell_type": "code",
   "execution_count": 65,
   "id": "ae5cb0a2-7a1d-4ec1-b853-8cd80ba32e14",
   "metadata": {},
   "outputs": [
    {
     "data": {
      "text/plain": [
       "0        0.1527\n",
       "1        0.1864\n",
       "2        0.1596\n",
       "3        0.1065\n",
       "4        0.0603\n",
       "          ...  \n",
       "38571    0.1299\n",
       "38572    0.1349\n",
       "38573    0.1749\n",
       "38574    0.1825\n",
       "38575    0.2099\n",
       "Name: int_rate, Length: 38576, dtype: float64"
      ]
     },
     "execution_count": 65,
     "metadata": {},
     "output_type": "execute_result"
    }
   ],
   "source": [
    "df[\"int_rate\"]"
   ]
  },
  {
   "cell_type": "code",
   "execution_count": 66,
   "id": "e45cf5d6-3174-40a3-bf3c-2d84df7c0180",
   "metadata": {},
   "outputs": [
    {
     "data": {
      "text/plain": [
       "array([0.1527, 0.1864, 0.1596, 0.1065, 0.0603, 0.1465, 0.1427, 0.079 ,\n",
       "       0.089 , 0.1269, 0.1242, 0.1171, 0.0991, 0.1629, 0.0743, 0.1114,\n",
       "       0.1109, 0.0766, 0.0751, 0.0963, 0.0894, 0.1148, 0.1149, 0.157 ,\n",
       "       0.0788, 0.0705, 0.1189, 0.1074, 0.1284, 0.0749, 0.0849, 0.1136,\n",
       "       0.1199, 0.1095, 0.1099, 0.1221, 0.1241, 0.1134, 0.1399, 0.1367,\n",
       "       0.1677, 0.1   , 0.0807, 0.0863, 0.0976, 0.1393, 0.0712, 0.1046,\n",
       "       0.092 , 0.1166, 0.1091, 0.1103, 0.074 , 0.0768, 0.0662, 0.0599,\n",
       "       0.0699, 0.0729, 0.0542, 0.0676, 0.0774, 0.0692, 0.0932, 0.0617,\n",
       "       0.0639, 0.0579, 0.08  , 0.0859, 0.0714, 0.0691, 0.0737, 0.0832,\n",
       "       0.0925, 0.1075, 0.0999, 0.1036, 0.1025, 0.1111, 0.1126, 0.1218,\n",
       "       0.1059, 0.0962, 0.1037, 0.1158, 0.0988, 0.1062, 0.1253, 0.1051,\n",
       "       0.1287, 0.1273, 0.138 , 0.1472, 0.1347, 0.1523, 0.1426, 0.1268,\n",
       "       0.1311, 0.1417, 0.1349, 0.1304, 0.1599, 0.1595, 0.1533, 0.0654,\n",
       "       0.1183, 0.1357, 0.1306, 0.1422, 0.1316, 0.1496, 0.1565, 0.1474,\n",
       "       0.1505, 0.1442, 0.1008, 0.1033, 0.0888, 0.1222, 0.1323, 0.1197,\n",
       "       0.1361, 0.1435, 0.1398, 0.1343, 0.1392, 0.1348, 0.1479, 0.1521,\n",
       "       0.1292, 0.1409, 0.1459, 0.1531, 0.1558, 0.1704, 0.1645, 0.1719,\n",
       "       0.183 , 0.1632, 0.1335, 0.1372, 0.1112, 0.0742, 0.1186, 0.1298,\n",
       "       0.1299, 0.1528, 0.1223, 0.1379, 0.1322, 0.1454, 0.1484, 0.1649,\n",
       "       0.16  , 0.152 , 0.1229, 0.1774, 0.1749, 0.1038, 0.1491, 0.1483,\n",
       "       0.1568, 0.1799, 0.1163, 0.1537, 0.1714, 0.1727, 0.1446, 0.1602,\n",
       "       0.1969, 0.1756, 0.164 , 0.1261, 0.1839, 0.1669, 0.1825, 0.1557,\n",
       "       0.1682, 0.1867, 0.2285, 0.1929, 0.1689, 0.1758, 0.1788, 0.1899,\n",
       "       0.2025, 0.1751, 0.1903, 0.2062, 0.1966, 0.1743, 0.1942, 0.2089,\n",
       "       0.1991, 0.2206, 0.203 , 0.2274, 0.2391, 0.0838, 0.087 , 0.1122,\n",
       "       0.1249, 0.0901, 0.1028, 0.1154, 0.1071, 0.1217, 0.0964, 0.133 ,\n",
       "       0.1236, 0.1355, 0.1633, 0.1809, 0.1538, 0.0907, 0.1146, 0.1083,\n",
       "       0.1128, 0.0775, 0.0996, 0.0951, 0.1078, 0.1267, 0.1387, 0.1407,\n",
       "       0.1482, 0.1583, 0.1488, 0.0933, 0.0945, 0.0983, 0.1039, 0.1141,\n",
       "       0.1172, 0.1324, 0.1438, 0.0938, 0.1212, 0.102 , 0.1385, 0.1159,\n",
       "       0.1272, 0.1611, 0.1178, 0.1317, 0.1562, 0.06  , 0.1286, 0.1411,\n",
       "       0.1461, 0.1739, 0.145 , 0.2099, 0.1384, 0.1191, 0.1607, 0.1412,\n",
       "       0.1418, 0.1879, 0.1913, 0.1821, 0.2017, 0.0791, 0.1209, 0.2174,\n",
       "       0.1462, 0.1746, 0.1979, 0.1941, 0.1096, 0.1635, 0.1663, 0.1853,\n",
       "       0.1862, 0.2127, 0.2086, 0.2069, 0.1254, 0.1726, 0.1817, 0.1974,\n",
       "       0.2211, 0.1706, 0.1793, 0.1936, 0.2313, 0.2136, 0.2235, 0.2011,\n",
       "       0.2248, 0.1854, 0.2122, 0.2128, 0.2167, 0.1807, 0.1904, 0.178 ,\n",
       "       0.2411, 0.2048, 0.2016, 0.2085, 0.2053, 0.2352, 0.1375, 0.1014,\n",
       "       0.1312, 0.128 , 0.1703, 0.1615, 0.1608, 0.2121, 0.1336, 0.1493,\n",
       "       0.209 , 0.167 , 0.1843, 0.1715, 0.1872, 0.1204, 0.1362, 0.1576,\n",
       "       0.1513, 0.1425, 0.1467, 0.1545, 0.1671, 0.097 , 0.1849, 0.1588,\n",
       "       0.1507, 0.1601, 0.1262, 0.1064, 0.1001, 0.0967, 0.143 , 0.1695,\n",
       "       0.1947, 0.1696, 0.1982, 0.2114, 0.1659, 0.1939, 0.2003, 0.1525,\n",
       "       0.204 , 0.1878, 0.162 , 0.2322, 0.2359, 0.2264, 0.2159, 0.1891,\n",
       "       0.202 , 0.2294, 0.2182, 0.2077, 0.2164, 0.179 , 0.1475, 0.1734,\n",
       "       0.147 , 0.1744, 0.2148, 0.2459, 0.244 , 0.1501, 0.2052, 0.1836,\n",
       "       0.1916, 0.1884, 0.1754])"
      ]
     },
     "execution_count": 66,
     "metadata": {},
     "output_type": "execute_result"
    }
   ],
   "source": [
    "df[\"int_rate\"].unique()"
   ]
  },
  {
   "cell_type": "code",
   "execution_count": 67,
   "id": "f99709de-fce9-4e3e-89fa-813a393fcff1",
   "metadata": {},
   "outputs": [
    {
     "data": {
      "text/plain": [
       "int_rate\n",
       "0.1099    932\n",
       "0.1349    811\n",
       "0.1149    796\n",
       "0.0751    755\n",
       "0.0788    701\n",
       "         ... \n",
       "0.2264      1\n",
       "0.1671      1\n",
       "0.1620      1\n",
       "0.1601      1\n",
       "0.1754      1\n",
       "Name: count, Length: 371, dtype: int64"
      ]
     },
     "execution_count": 67,
     "metadata": {},
     "output_type": "execute_result"
    }
   ],
   "source": [
    "df[\"int_rate\"].value_counts()"
   ]
  },
  {
   "cell_type": "code",
   "execution_count": 68,
   "id": "969b12df-59a7-48b5-ab8c-abc388b2a1fb",
   "metadata": {},
   "outputs": [
    {
     "data": {
      "text/plain": [
       "0         2500\n",
       "1         3000\n",
       "2        12000\n",
       "3         4500\n",
       "4         3500\n",
       "         ...  \n",
       "38571    24250\n",
       "38572    25200\n",
       "38573    25000\n",
       "38574    24000\n",
       "38575    18000\n",
       "Name: loan_amount, Length: 38576, dtype: int64"
      ]
     },
     "execution_count": 68,
     "metadata": {},
     "output_type": "execute_result"
    }
   ],
   "source": [
    "df[\"loan_amount\"]"
   ]
  },
  {
   "cell_type": "code",
   "execution_count": 69,
   "id": "4155b2fd-084c-49b9-80c9-0e58d0a058f4",
   "metadata": {},
   "outputs": [
    {
     "data": {
      "text/plain": [
       "array([ 2500,  3000, 12000,  4500,  3500,  8000,  6000,  5500, 24000,\n",
       "        4125,  5400, 11200,  5000,  3050, 10000,  2225,  4000,  7000,\n",
       "        9000,  4800,  6300,  4750,  1850,  4200,  7200,  2400,  7500,\n",
       "        5550, 22000,  3200, 11000,  4400,  8500,  2000,  7400,  5650,\n",
       "        1800,  6500, 15000,  8700,  5600,  4600,  3800, 16000,  1300,\n",
       "        7800,  5900,  3600,  2100,  4975,  1925,  1500,  7750,  9600,\n",
       "        3900, 12975,  5950,  5100,  5200,  1200,  4650,  1450,  3250,\n",
       "        3300,  1700,  5525, 18000,  1750,  5375,  9500,  7600,  6400,\n",
       "        9900,  1000, 10400, 23500, 22600, 23600, 13100,  5800, 10800,\n",
       "        1900,  8400,  3075,  6200, 11500,  4350,  4150,  4900,  6125,\n",
       "        2425,  1600,  7100,  8900, 14000, 12250,  3700, 17000,  2550,\n",
       "        6250, 14400,  8200,  9250,  3375,  1675,  8600,  2800,  3525,\n",
       "        8800,  2250,  4375,  1275,  5050, 25000,  9800,  6600,  8250,\n",
       "        2825,  5975,  3350, 20000, 19000,  2200, 14750,  9575, 13250,\n",
       "        2350, 10625,  1400, 12800, 16800,  5750,  8975,  5275,  5850,\n",
       "        2275, 14800,  5300, 20400, 16500,  2950,  6800,  6775,  9925,\n",
       "        2475,  7275, 17500,  9100,  2650, 10500, 22800,  6900, 21000,\n",
       "       14900,  2875,  3825,  7875,  4625, 11900,  2900,  4250, 13000,\n",
       "       10200, 15950,  8100, 13200,  6100, 16675, 12600,  6075,  9175,\n",
       "        5150,  5625, 12500,  8650,  8750,  7250,  5575,  4700,  2300,\n",
       "        5700, 28000,  3100, 13500, 14500, 15850, 15600, 12325,  4950,\n",
       "       15325,  7575, 17600, 10750,  6275,  9975,  6700, 16600, 10600,\n",
       "       19200, 16200, 21600, 15500, 12450, 18500, 13800, 30000,  4550,\n",
       "       10550,  9350,  6350, 32000,  5125, 12400, 25600, 20975, 11800,\n",
       "       15300,  8850, 11100, 13475, 11625, 19600,  4475, 26800, 11300,\n",
       "        4100, 11700, 26000, 22500, 24500, 21400, 35000, 22400, 14575,\n",
       "        7125, 10375, 20050, 24925, 12375,  7150, 17250, 13225, 11775,\n",
       "       16400, 10075, 20125,  6950, 23000,  4050,  1950, 21500,  9200,\n",
       "        4325, 13575,  6625, 16250,  8950, 14100, 19750,  7650,  3675,\n",
       "        9525, 19950,  5875,  3975, 24625,  2675, 14275, 14300, 15450,\n",
       "        9300,   750,  6225, 17950, 12750, 13975, 16075, 10675, 18650,\n",
       "        7900, 15875, 10475,  2325, 19150,  2700,  9075,  3125,  6575,\n",
       "       11050,  3150,  3625,  9400, 10250,  7475,  3425, 20800, 15200,\n",
       "       10050, 18300, 13950,  9750, 23450, 14950, 10175,  8300, 16750,\n",
       "       18800,  1250, 19500, 10650,  8550, 15250, 10700, 17525, 21125,\n",
       "        8150, 11600,  9700, 13600, 20500,  8575, 12900, 14700, 12700,\n",
       "        2750,  7775, 12100, 10825,   725, 10950, 11250,  3725,  9050,\n",
       "        1375,  4450,  3400,  6650,  6925,  1475, 10150,  6475,  4575,\n",
       "       17400,  2375,  6150,  2050,  2725, 18200,  9150,  7050, 18600,\n",
       "        9425,  3850,  4850,  8450,  7925,  9450, 10725,  2600,  3750,\n",
       "       13300, 11550, 13650,  4300,  8350,  7950,  1150,  5925, 12350,\n",
       "       27250, 13750,  7350,  8675,  7700, 25850,  1050,  2850, 17325,\n",
       "       14550,  1425,  6975, 12775, 12025, 11400, 18150, 11075, 18250,\n",
       "       16775,  7850,  8325, 25975, 31000,  1125,  9875,  6550,  8775,\n",
       "        2450,  6750,  9950,  4025,  6850,  1350, 11450, 10300, 17700,\n",
       "       11975, 18225,  4675,  4925, 19400, 17475,  6025, 15700, 21250,\n",
       "        2150, 11525, 23750, 17200, 22950, 17750,  5475, 14600,  1875,\n",
       "       19650, 13275,  7450, 19550,  7675, 15175,  9275, 23100, 16300,\n",
       "       10875, 13700, 23700, 22100, 12200, 12875, 16700, 10850,  5250,\n",
       "       13125,  5225,  9125, 16950, 12725, 26375, 27400,  4775, 34000,\n",
       "       17800, 33250, 17050, 19800, 18400, 23325, 25475, 12300, 29000,\n",
       "       24375, 27500,  8175, 18550, 14250, 16875,  7300, 27600,  3450,\n",
       "        6325,  3650, 15050,  5825, 24250, 17625, 20900, 15625, 15400,\n",
       "       19125, 14475,  8050, 10225,  8875,  1825, 23575, 30600,  8125,\n",
       "       13400, 12550,  9550, 15350, 33500, 11850, 16450,  4275, 26300,\n",
       "       15075,  9325, 14125, 12650,  8075, 26850, 29700, 21725, 24575,\n",
       "       31500, 22250, 30800,  6450, 17850, 20675, 30750, 10975, 22750,\n",
       "       21225, 27000, 15900, 33425, 19700, 18950, 31300, 27300, 28600,\n",
       "       24600, 23200, 17150, 12675, 25450, 14875, 25900, 28100, 21850,\n",
       "       23975, 31825, 26500, 17100, 21200, 30400, 25875, 20250, 17675,\n",
       "       16425, 18825,  6375,  7325, 13350, 22475, 29500, 11875, 15550,\n",
       "       16100, 10525, 19775, 22200, 27050, 28625, 27575, 19075, 11225,\n",
       "        8525, 10325, 19275,  7725,  8275, 10275,  7025,  5175,  5075,\n",
       "        8475, 14975,  5425, 19900,  7550, 10100,   800, 12125, 13025,\n",
       "       22550,  5450, 17350, 24750,  2975,  4225,  2925, 13450,  7375,\n",
       "        3275,  5325, 14825,  6825,  3950,  1525, 11650, 11325, 13675,\n",
       "        7975,  3225, 13075, 18050, 12150, 24800, 14200, 14675, 20600,\n",
       "       11425, 11275, 11125, 10125, 24150, 15275, 20700, 13050,  6425,\n",
       "       17875, 10900,  9225,  9475,  6675,  4175,  3550,  8725, 15800,\n",
       "        3775, 15750,  7525,  7075, 22650, 10025, 14850, 11575,  4075,\n",
       "        1775,  8625,  2775,  4725,  8225,  5775, 11025, 11750, 13900,\n",
       "       14150, 15775,  4875,  2525, 31050, 16525,   700, 10450, 13425,\n",
       "       11175,  1550,  4425, 13150,  9850, 12625,  6725,  8025,  5350,\n",
       "       33000, 18725,  9375,  3325,  3025,  9775, 18325, 10575,  5025,\n",
       "       14650, 24400,  7425, 18750, 12225, 23275, 14075,  3575, 10925,\n",
       "        2125, 14625, 23050, 12275, 15825, 28250, 15150, 32400,  7225,\n",
       "       15675, 14525, 14725, 12075,  8825,  1325, 10425, 24175,  5725,\n",
       "        1625, 26400,  9725, 17725, 13775,  2575, 13375, 23525, 33950,\n",
       "       17450, 12925, 21100, 19725, 21825, 16725, 23800, 21650, 19450,\n",
       "       14350,  9625, 20475, 18125, 27175, 29800, 23400, 20375, 29550,\n",
       "       17975, 21450, 17900, 19425, 19850, 13625, 15125, 21700, 32500,\n",
       "       23475, 10775, 15575, 11475, 20200, 29850, 23850, 29100, 12950,\n",
       "       16050, 34800,  7175, 18900, 11725,  9650, 13550, 12175,  8375,\n",
       "       14175, 11675, 33600, 15425, 12050,  1100, 12825, 23350, 19575,\n",
       "       13725, 10350, 28800, 16225, 16550, 31150, 23075, 17275, 26025,\n",
       "        4525, 25500, 12425,  1650, 21575, 20950, 22125, 22325, 26250,\n",
       "       32350, 25200, 21750, 19300, 34475, 20300, 24650, 20450, 31200,\n",
       "       21425, 28200, 22900, 18975, 17425, 28750, 34525, 21350, 23675,\n",
       "       34675, 22875, 19250, 18275, 29900, 21300, 19875, 17075, 32775,\n",
       "       32875, 23425, 32250, 18875, 31725, 29375, 22575, 21625, 16350,\n",
       "       13325, 25375, 27525, 31325, 14225, 16275, 27200, 18575, 29175,\n",
       "       28500, 30500, 24700, 31025, 17225, 31700, 26200,  3875, 32275,\n",
       "         900, 22350, 11375, 12475, 13175, 24200, 19925, 17375, 16325,\n",
       "       11350, 32525, 30100, 29275,  7625, 13850, 15650, 17300, 17175,\n",
       "       21800, 31800, 14050, 24100,  5675,  1075,  3925,  3475, 29300,\n",
       "        2625,  2075,  3175, 19975,   500,   950, 20150, 15975,  6525,\n",
       "       17925, 12850, 22300,  6175,  6875, 25300, 15025, 31400,  9825,\n",
       "       19475, 25400, 30225, 34200, 27700, 17825, 24975])"
      ]
     },
     "execution_count": 69,
     "metadata": {},
     "output_type": "execute_result"
    }
   ],
   "source": [
    "df[\"loan_amount\"].unique()"
   ]
  },
  {
   "cell_type": "code",
   "execution_count": 70,
   "id": "7fa38679-c678-4ecb-96e4-117573da2f59",
   "metadata": {},
   "outputs": [
    {
     "data": {
      "text/plain": [
       "loan_amount\n",
       "10000    2761\n",
       "12000    2295\n",
       "5000     1977\n",
       "15000    1860\n",
       "6000     1852\n",
       "         ... \n",
       "15675       1\n",
       "24175       1\n",
       "5725        1\n",
       "1625        1\n",
       "24975       1\n",
       "Name: count, Length: 880, dtype: int64"
      ]
     },
     "execution_count": 70,
     "metadata": {},
     "output_type": "execute_result"
    }
   ],
   "source": [
    "df[\"loan_amount\"].value_counts()"
   ]
  },
  {
   "cell_type": "code",
   "execution_count": 71,
   "id": "2508ce91-d9da-464d-96c0-2ba5548c21f6",
   "metadata": {},
   "outputs": [
    {
     "data": {
      "text/plain": [
       "0         4\n",
       "1         4\n",
       "2        11\n",
       "3         9\n",
       "4        28\n",
       "         ..\n",
       "38571    33\n",
       "38572    18\n",
       "38573    20\n",
       "38574     9\n",
       "38575     7\n",
       "Name: total_acc, Length: 38576, dtype: int64"
      ]
     },
     "execution_count": 71,
     "metadata": {},
     "output_type": "execute_result"
    }
   ],
   "source": [
    "df[\"total_acc\"]"
   ]
  },
  {
   "cell_type": "code",
   "execution_count": 72,
   "id": "d846f3a6-c779-49a4-91e6-f976c9389ab5",
   "metadata": {},
   "outputs": [
    {
     "data": {
      "text/plain": [
       "array([ 4, 11,  9, 28, 30, 23, 31, 21, 33, 13,  3, 15, 18, 14,  8,  7, 20,\n",
       "       39, 24, 10, 19, 27,  6, 16, 45, 25,  5, 43, 29, 22, 41, 35, 44, 36,\n",
       "       17, 26, 37, 32, 47, 52, 42, 46, 12, 50, 34, 59, 38, 63, 49, 48, 61,\n",
       "       51, 55, 40, 53, 62, 58, 67, 54, 57, 56, 70,  2, 64, 60, 80, 79, 71,\n",
       "       66, 65, 69, 90, 68, 74, 75, 87, 78, 72, 77, 81, 76, 73])"
      ]
     },
     "execution_count": 72,
     "metadata": {},
     "output_type": "execute_result"
    }
   ],
   "source": [
    "df[\"total_acc\"].unique()"
   ]
  },
  {
   "cell_type": "code",
   "execution_count": 73,
   "id": "05dc2e7f-3514-4e7c-b5f9-0d61dd3c9636",
   "metadata": {},
   "outputs": [
    {
     "data": {
      "text/plain": [
       "total_acc\n",
       "16    1435\n",
       "15    1420\n",
       "17    1408\n",
       "14    1405\n",
       "20    1398\n",
       "      ... \n",
       "68       1\n",
       "90       1\n",
       "69       1\n",
       "71       1\n",
       "73       1\n",
       "Name: count, Length: 82, dtype: int64"
      ]
     },
     "execution_count": 73,
     "metadata": {},
     "output_type": "execute_result"
    }
   ],
   "source": [
    "df[\"total_acc\"].value_counts()"
   ]
  },
  {
   "cell_type": "code",
   "execution_count": 74,
   "id": "3700111c-baba-4e2a-aa91-a536fbfc1316",
   "metadata": {},
   "outputs": [
    {
     "data": {
      "text/plain": [
       "0         1009\n",
       "1         3939\n",
       "2         3522\n",
       "3         4911\n",
       "4         3835\n",
       "         ...  \n",
       "38571    31946\n",
       "38572    31870\n",
       "38573    35721\n",
       "38574    33677\n",
       "38575    27679\n",
       "Name: total_payment, Length: 38576, dtype: int64"
      ]
     },
     "execution_count": 74,
     "metadata": {},
     "output_type": "execute_result"
    }
   ],
   "source": [
    "df[\"total_payment\"]"
   ]
  },
  {
   "cell_type": "code",
   "execution_count": 75,
   "id": "47713d68-392d-484c-8d4e-8b84fb76ffc6",
   "metadata": {},
   "outputs": [
    {
     "data": {
      "text/plain": [
       "array([ 1009,  3939,  3522, ..., 31870, 35721, 33677])"
      ]
     },
     "execution_count": 75,
     "metadata": {},
     "output_type": "execute_result"
    }
   ],
   "source": [
    "df[\"total_payment\"].unique()"
   ]
  },
  {
   "cell_type": "code",
   "execution_count": 76,
   "id": "2ce4a621-f18e-4891-8c81-b70252f35609",
   "metadata": {},
   "outputs": [
    {
     "data": {
      "text/plain": [
       "total_payment\n",
       "6515     32\n",
       "11200    31\n",
       "11197    26\n",
       "6720     25\n",
       "5600     23\n",
       "         ..\n",
       "11952     1\n",
       "17003     1\n",
       "29414     1\n",
       "3364      1\n",
       "33677     1\n",
       "Name: count, Length: 19525, dtype: int64"
      ]
     },
     "execution_count": 76,
     "metadata": {},
     "output_type": "execute_result"
    }
   ],
   "source": [
    "df[\"total_payment\"].value_counts()"
   ]
  },
  {
   "cell_type": "code",
   "execution_count": 77,
   "id": "6a8ac388-dd57-435b-a3bb-a917406a4b17",
   "metadata": {},
   "outputs": [],
   "source": [
    "continous=[\"annual_income\",\"dti\",\"installment\",\"int_rate\"]\n",
    "discrete_categorical=[\"address_state\",\"application_type\",\"emp_length\",\"emp_title\",\"grade\",\"home_ownership\",\"issue_date\",\"last_credit_pull_date\",\"last_payment_date\",\"purpose\",\"sub_grade\",\"term\",\"verification_status\"]\n",
    "discrete_count=[\"id\",\"member_id\",\"loan_amount\",\"total_acc\",\"total_payment\"]                     "
   ]
  },
  {
   "cell_type": "code",
   "execution_count": 78,
   "id": "d2ab17d6-eaed-4461-be6e-bcd168ee02c8",
   "metadata": {},
   "outputs": [
    {
     "data": {
      "text/html": [
       "<div>\n",
       "<style scoped>\n",
       "    .dataframe tbody tr th:only-of-type {\n",
       "        vertical-align: middle;\n",
       "    }\n",
       "\n",
       "    .dataframe tbody tr th {\n",
       "        vertical-align: top;\n",
       "    }\n",
       "\n",
       "    .dataframe thead th {\n",
       "        text-align: right;\n",
       "    }\n",
       "</style>\n",
       "<table border=\"1\" class=\"dataframe\">\n",
       "  <thead>\n",
       "    <tr style=\"text-align: right;\">\n",
       "      <th></th>\n",
       "      <th>annual_income</th>\n",
       "      <th>dti</th>\n",
       "      <th>installment</th>\n",
       "      <th>int_rate</th>\n",
       "    </tr>\n",
       "  </thead>\n",
       "  <tbody>\n",
       "    <tr>\n",
       "      <th>count</th>\n",
       "      <td>3.857600e+04</td>\n",
       "      <td>38576.000000</td>\n",
       "      <td>38576.000000</td>\n",
       "      <td>38576.000000</td>\n",
       "    </tr>\n",
       "    <tr>\n",
       "      <th>mean</th>\n",
       "      <td>6.964454e+04</td>\n",
       "      <td>0.133274</td>\n",
       "      <td>326.862965</td>\n",
       "      <td>0.120488</td>\n",
       "    </tr>\n",
       "    <tr>\n",
       "      <th>std</th>\n",
       "      <td>6.429368e+04</td>\n",
       "      <td>0.066662</td>\n",
       "      <td>209.092000</td>\n",
       "      <td>0.037164</td>\n",
       "    </tr>\n",
       "    <tr>\n",
       "      <th>min</th>\n",
       "      <td>4.000000e+03</td>\n",
       "      <td>0.000000</td>\n",
       "      <td>15.690000</td>\n",
       "      <td>0.054200</td>\n",
       "    </tr>\n",
       "    <tr>\n",
       "      <th>25%</th>\n",
       "      <td>4.150000e+04</td>\n",
       "      <td>0.082100</td>\n",
       "      <td>168.450000</td>\n",
       "      <td>0.093200</td>\n",
       "    </tr>\n",
       "    <tr>\n",
       "      <th>50%</th>\n",
       "      <td>6.000000e+04</td>\n",
       "      <td>0.134200</td>\n",
       "      <td>283.045000</td>\n",
       "      <td>0.118600</td>\n",
       "    </tr>\n",
       "    <tr>\n",
       "      <th>75%</th>\n",
       "      <td>8.320050e+04</td>\n",
       "      <td>0.185900</td>\n",
       "      <td>434.442500</td>\n",
       "      <td>0.145900</td>\n",
       "    </tr>\n",
       "    <tr>\n",
       "      <th>max</th>\n",
       "      <td>6.000000e+06</td>\n",
       "      <td>0.299900</td>\n",
       "      <td>1305.190000</td>\n",
       "      <td>0.245900</td>\n",
       "    </tr>\n",
       "  </tbody>\n",
       "</table>\n",
       "</div>"
      ],
      "text/plain": [
       "       annual_income           dti   installment      int_rate\n",
       "count   3.857600e+04  38576.000000  38576.000000  38576.000000\n",
       "mean    6.964454e+04      0.133274    326.862965      0.120488\n",
       "std     6.429368e+04      0.066662    209.092000      0.037164\n",
       "min     4.000000e+03      0.000000     15.690000      0.054200\n",
       "25%     4.150000e+04      0.082100    168.450000      0.093200\n",
       "50%     6.000000e+04      0.134200    283.045000      0.118600\n",
       "75%     8.320050e+04      0.185900    434.442500      0.145900\n",
       "max     6.000000e+06      0.299900   1305.190000      0.245900"
      ]
     },
     "execution_count": 78,
     "metadata": {},
     "output_type": "execute_result"
    }
   ],
   "source": [
    "#descriptive statistics\n",
    "df[continous].describe()"
   ]
  },
  {
   "cell_type": "code",
   "execution_count": 79,
   "id": "704fca4f-e537-4baa-8a27-251e5771edd4",
   "metadata": {},
   "outputs": [
    {
     "data": {
      "text/plain": [
       "annual_income    31.074172\n",
       "dti              -0.029921\n",
       "installment       1.120447\n",
       "int_rate          0.292264\n",
       "dtype: float64"
      ]
     },
     "execution_count": 79,
     "metadata": {},
     "output_type": "execute_result"
    }
   ],
   "source": [
    "df[continous].skew()"
   ]
  },
  {
   "cell_type": "code",
   "execution_count": 80,
   "id": "98d29367-655e-4581-9b00-1525a0b94ed6",
   "metadata": {},
   "outputs": [
    {
     "data": {
      "text/html": [
       "<div>\n",
       "<style scoped>\n",
       "    .dataframe tbody tr th:only-of-type {\n",
       "        vertical-align: middle;\n",
       "    }\n",
       "\n",
       "    .dataframe tbody tr th {\n",
       "        vertical-align: top;\n",
       "    }\n",
       "\n",
       "    .dataframe thead th {\n",
       "        text-align: right;\n",
       "    }\n",
       "</style>\n",
       "<table border=\"1\" class=\"dataframe\">\n",
       "  <thead>\n",
       "    <tr style=\"text-align: right;\">\n",
       "      <th></th>\n",
       "      <th>address_state</th>\n",
       "      <th>application_type</th>\n",
       "      <th>emp_length</th>\n",
       "      <th>emp_title</th>\n",
       "      <th>grade</th>\n",
       "      <th>home_ownership</th>\n",
       "      <th>issue_date</th>\n",
       "      <th>last_credit_pull_date</th>\n",
       "      <th>last_payment_date</th>\n",
       "      <th>purpose</th>\n",
       "      <th>sub_grade</th>\n",
       "      <th>term</th>\n",
       "      <th>verification_status</th>\n",
       "    </tr>\n",
       "  </thead>\n",
       "  <tbody>\n",
       "    <tr>\n",
       "      <th>count</th>\n",
       "      <td>38576</td>\n",
       "      <td>38576</td>\n",
       "      <td>38576</td>\n",
       "      <td>37138</td>\n",
       "      <td>38576</td>\n",
       "      <td>38576</td>\n",
       "      <td>38576</td>\n",
       "      <td>38576</td>\n",
       "      <td>38576</td>\n",
       "      <td>38576</td>\n",
       "      <td>38576</td>\n",
       "      <td>38576</td>\n",
       "      <td>38576</td>\n",
       "    </tr>\n",
       "    <tr>\n",
       "      <th>unique</th>\n",
       "      <td>50</td>\n",
       "      <td>1</td>\n",
       "      <td>11</td>\n",
       "      <td>28525</td>\n",
       "      <td>7</td>\n",
       "      <td>5</td>\n",
       "      <td>65</td>\n",
       "      <td>107</td>\n",
       "      <td>102</td>\n",
       "      <td>14</td>\n",
       "      <td>35</td>\n",
       "      <td>2</td>\n",
       "      <td>3</td>\n",
       "    </tr>\n",
       "    <tr>\n",
       "      <th>top</th>\n",
       "      <td>CA</td>\n",
       "      <td>INDIVIDUAL</td>\n",
       "      <td>10+ years</td>\n",
       "      <td>US Army</td>\n",
       "      <td>B</td>\n",
       "      <td>RENT</td>\n",
       "      <td>2021-11-12 00:00:00</td>\n",
       "      <td>16-05-2021</td>\n",
       "      <td>16-05-2021</td>\n",
       "      <td>Debt consolidation</td>\n",
       "      <td>B3</td>\n",
       "      <td>36 months</td>\n",
       "      <td>Not Verified</td>\n",
       "    </tr>\n",
       "    <tr>\n",
       "      <th>freq</th>\n",
       "      <td>6894</td>\n",
       "      <td>38576</td>\n",
       "      <td>8870</td>\n",
       "      <td>135</td>\n",
       "      <td>11674</td>\n",
       "      <td>18439</td>\n",
       "      <td>2188</td>\n",
       "      <td>10041</td>\n",
       "      <td>1209</td>\n",
       "      <td>18214</td>\n",
       "      <td>2834</td>\n",
       "      <td>28237</td>\n",
       "      <td>16464</td>\n",
       "    </tr>\n",
       "  </tbody>\n",
       "</table>\n",
       "</div>"
      ],
      "text/plain": [
       "       address_state application_type emp_length emp_title  grade  \\\n",
       "count          38576            38576      38576     37138  38576   \n",
       "unique            50                1         11     28525      7   \n",
       "top               CA       INDIVIDUAL  10+ years   US Army      B   \n",
       "freq            6894            38576       8870       135  11674   \n",
       "\n",
       "       home_ownership           issue_date last_credit_pull_date  \\\n",
       "count           38576                38576                 38576   \n",
       "unique              5                   65                   107   \n",
       "top              RENT  2021-11-12 00:00:00            16-05-2021   \n",
       "freq            18439                 2188                 10041   \n",
       "\n",
       "       last_payment_date             purpose sub_grade        term  \\\n",
       "count              38576               38576     38576       38576   \n",
       "unique               102                  14        35           2   \n",
       "top           16-05-2021  Debt consolidation        B3   36 months   \n",
       "freq                1209               18214      2834       28237   \n",
       "\n",
       "       verification_status  \n",
       "count                38576  \n",
       "unique                   3  \n",
       "top           Not Verified  \n",
       "freq                 16464  "
      ]
     },
     "execution_count": 80,
     "metadata": {},
     "output_type": "execute_result"
    }
   ],
   "source": [
    "df[discrete_categorical].describe()"
   ]
  },
  {
   "cell_type": "code",
   "execution_count": 81,
   "id": "b3123967-1aa7-43f8-a068-3b9e0d8820a6",
   "metadata": {},
   "outputs": [
    {
     "data": {
      "text/plain": [
       "id                          0\n",
       "address_state               0\n",
       "application_type            0\n",
       "emp_length                  0\n",
       "emp_title                1438\n",
       "grade                       0\n",
       "home_ownership              0\n",
       "issue_date                  0\n",
       "last_credit_pull_date       0\n",
       "last_payment_date           0\n",
       "loan_status                 0\n",
       "next_payment_date           0\n",
       "member_id                   0\n",
       "purpose                     0\n",
       "sub_grade                   0\n",
       "term                        0\n",
       "verification_status         0\n",
       "annual_income               0\n",
       "dti                         0\n",
       "installment                 0\n",
       "int_rate                    0\n",
       "loan_amount                 0\n",
       "total_acc                   0\n",
       "total_payment               0\n",
       "dtype: int64"
      ]
     },
     "execution_count": 81,
     "metadata": {},
     "output_type": "execute_result"
    }
   ],
   "source": [
    "df.isnull().sum()"
   ]
  },
  {
   "cell_type": "code",
   "execution_count": 82,
   "id": "5df2967e-7a3f-46e6-9ccd-f87baff1458f",
   "metadata": {},
   "outputs": [
    {
     "data": {
      "text/plain": [
       "id                       0.000000\n",
       "address_state            0.000000\n",
       "application_type         0.000000\n",
       "emp_length               0.000000\n",
       "emp_title                3.727706\n",
       "grade                    0.000000\n",
       "home_ownership           0.000000\n",
       "issue_date               0.000000\n",
       "last_credit_pull_date    0.000000\n",
       "last_payment_date        0.000000\n",
       "loan_status              0.000000\n",
       "next_payment_date        0.000000\n",
       "member_id                0.000000\n",
       "purpose                  0.000000\n",
       "sub_grade                0.000000\n",
       "term                     0.000000\n",
       "verification_status      0.000000\n",
       "annual_income            0.000000\n",
       "dti                      0.000000\n",
       "installment              0.000000\n",
       "int_rate                 0.000000\n",
       "loan_amount              0.000000\n",
       "total_acc                0.000000\n",
       "total_payment            0.000000\n",
       "dtype: float64"
      ]
     },
     "execution_count": 82,
     "metadata": {},
     "output_type": "execute_result"
    }
   ],
   "source": [
    "df.isnull().sum()/len(df)*100"
   ]
  },
  {
   "cell_type": "code",
   "execution_count": 83,
   "id": "05a8e4d5-aaae-4436-bb6e-89ada98b5ed7",
   "metadata": {},
   "outputs": [
    {
     "data": {
      "text/plain": [
       "0                                  Ryder\n",
       "1                         MKC Accounting\n",
       "2                  Chemat Technology Inc\n",
       "3                    barnes distribution\n",
       "4                          J&J Steel Inc\n",
       "                      ...               \n",
       "38571           Joseph M Sanzari Company\n",
       "38572                          Swat Fame\n",
       "38573    Anaheim Regional Medical Center\n",
       "38574                 Brooklyn Radiology\n",
       "38575                      Allen Edmonds\n",
       "Name: emp_title, Length: 38576, dtype: object"
      ]
     },
     "execution_count": 83,
     "metadata": {},
     "output_type": "execute_result"
    }
   ],
   "source": [
    "df[\"emp_title\"].fillna(0)"
   ]
  },
  {
   "cell_type": "code",
   "execution_count": 84,
   "id": "403d0240-1956-4799-b70d-22a856dd31c2",
   "metadata": {},
   "outputs": [
    {
     "data": {
      "text/html": [
       "<div>\n",
       "<style scoped>\n",
       "    .dataframe tbody tr th:only-of-type {\n",
       "        vertical-align: middle;\n",
       "    }\n",
       "\n",
       "    .dataframe tbody tr th {\n",
       "        vertical-align: top;\n",
       "    }\n",
       "\n",
       "    .dataframe thead th {\n",
       "        text-align: right;\n",
       "    }\n",
       "</style>\n",
       "<table border=\"1\" class=\"dataframe\">\n",
       "  <thead>\n",
       "    <tr style=\"text-align: right;\">\n",
       "      <th></th>\n",
       "      <th>id</th>\n",
       "      <th>address_state</th>\n",
       "      <th>application_type</th>\n",
       "      <th>emp_length</th>\n",
       "      <th>emp_title</th>\n",
       "      <th>grade</th>\n",
       "      <th>home_ownership</th>\n",
       "      <th>issue_date</th>\n",
       "      <th>last_credit_pull_date</th>\n",
       "      <th>last_payment_date</th>\n",
       "      <th>...</th>\n",
       "      <th>sub_grade</th>\n",
       "      <th>term</th>\n",
       "      <th>verification_status</th>\n",
       "      <th>annual_income</th>\n",
       "      <th>dti</th>\n",
       "      <th>installment</th>\n",
       "      <th>int_rate</th>\n",
       "      <th>loan_amount</th>\n",
       "      <th>total_acc</th>\n",
       "      <th>total_payment</th>\n",
       "    </tr>\n",
       "  </thead>\n",
       "  <tbody>\n",
       "    <tr>\n",
       "      <th>0</th>\n",
       "      <td>1077430</td>\n",
       "      <td>GA</td>\n",
       "      <td>INDIVIDUAL</td>\n",
       "      <td>&lt; 1 year</td>\n",
       "      <td>Ryder</td>\n",
       "      <td>C</td>\n",
       "      <td>RENT</td>\n",
       "      <td>2021-11-02 00:00:00</td>\n",
       "      <td>13-09-2021</td>\n",
       "      <td>13-04-2021</td>\n",
       "      <td>...</td>\n",
       "      <td>C4</td>\n",
       "      <td>60 months</td>\n",
       "      <td>Source Verified</td>\n",
       "      <td>30000.0</td>\n",
       "      <td>0.0100</td>\n",
       "      <td>59.83</td>\n",
       "      <td>0.1527</td>\n",
       "      <td>2500</td>\n",
       "      <td>4</td>\n",
       "      <td>1009</td>\n",
       "    </tr>\n",
       "    <tr>\n",
       "      <th>1</th>\n",
       "      <td>1072053</td>\n",
       "      <td>CA</td>\n",
       "      <td>INDIVIDUAL</td>\n",
       "      <td>9 years</td>\n",
       "      <td>MKC Accounting</td>\n",
       "      <td>E</td>\n",
       "      <td>RENT</td>\n",
       "      <td>2021-01-01 00:00:00</td>\n",
       "      <td>14-12-2021</td>\n",
       "      <td>15-01-2021</td>\n",
       "      <td>...</td>\n",
       "      <td>E1</td>\n",
       "      <td>36 months</td>\n",
       "      <td>Source Verified</td>\n",
       "      <td>48000.0</td>\n",
       "      <td>0.0535</td>\n",
       "      <td>109.43</td>\n",
       "      <td>0.1864</td>\n",
       "      <td>3000</td>\n",
       "      <td>4</td>\n",
       "      <td>3939</td>\n",
       "    </tr>\n",
       "    <tr>\n",
       "      <th>2</th>\n",
       "      <td>1069243</td>\n",
       "      <td>CA</td>\n",
       "      <td>INDIVIDUAL</td>\n",
       "      <td>4 years</td>\n",
       "      <td>Chemat Technology Inc</td>\n",
       "      <td>C</td>\n",
       "      <td>RENT</td>\n",
       "      <td>2021-05-01 00:00:00</td>\n",
       "      <td>2021-12-12 00:00:00</td>\n",
       "      <td>2021-09-01 00:00:00</td>\n",
       "      <td>...</td>\n",
       "      <td>C5</td>\n",
       "      <td>36 months</td>\n",
       "      <td>Not Verified</td>\n",
       "      <td>50000.0</td>\n",
       "      <td>0.2088</td>\n",
       "      <td>421.65</td>\n",
       "      <td>0.1596</td>\n",
       "      <td>12000</td>\n",
       "      <td>11</td>\n",
       "      <td>3522</td>\n",
       "    </tr>\n",
       "    <tr>\n",
       "      <th>3</th>\n",
       "      <td>1041756</td>\n",
       "      <td>TX</td>\n",
       "      <td>INDIVIDUAL</td>\n",
       "      <td>&lt; 1 year</td>\n",
       "      <td>barnes distribution</td>\n",
       "      <td>B</td>\n",
       "      <td>MORTGAGE</td>\n",
       "      <td>25-02-2021</td>\n",
       "      <td>2021-12-12 00:00:00</td>\n",
       "      <td>2021-12-03 00:00:00</td>\n",
       "      <td>...</td>\n",
       "      <td>B2</td>\n",
       "      <td>60 months</td>\n",
       "      <td>Source Verified</td>\n",
       "      <td>42000.0</td>\n",
       "      <td>0.0540</td>\n",
       "      <td>97.06</td>\n",
       "      <td>0.1065</td>\n",
       "      <td>4500</td>\n",
       "      <td>9</td>\n",
       "      <td>4911</td>\n",
       "    </tr>\n",
       "    <tr>\n",
       "      <th>4</th>\n",
       "      <td>1068350</td>\n",
       "      <td>IL</td>\n",
       "      <td>INDIVIDUAL</td>\n",
       "      <td>10+ years</td>\n",
       "      <td>J&amp;J Steel Inc</td>\n",
       "      <td>A</td>\n",
       "      <td>MORTGAGE</td>\n",
       "      <td>2021-01-01 00:00:00</td>\n",
       "      <td>14-12-2021</td>\n",
       "      <td>15-01-2021</td>\n",
       "      <td>...</td>\n",
       "      <td>A1</td>\n",
       "      <td>36 months</td>\n",
       "      <td>Verified</td>\n",
       "      <td>83000.0</td>\n",
       "      <td>0.0231</td>\n",
       "      <td>106.53</td>\n",
       "      <td>0.0603</td>\n",
       "      <td>3500</td>\n",
       "      <td>28</td>\n",
       "      <td>3835</td>\n",
       "    </tr>\n",
       "    <tr>\n",
       "      <th>...</th>\n",
       "      <td>...</td>\n",
       "      <td>...</td>\n",
       "      <td>...</td>\n",
       "      <td>...</td>\n",
       "      <td>...</td>\n",
       "      <td>...</td>\n",
       "      <td>...</td>\n",
       "      <td>...</td>\n",
       "      <td>...</td>\n",
       "      <td>...</td>\n",
       "      <td>...</td>\n",
       "      <td>...</td>\n",
       "      <td>...</td>\n",
       "      <td>...</td>\n",
       "      <td>...</td>\n",
       "      <td>...</td>\n",
       "      <td>...</td>\n",
       "      <td>...</td>\n",
       "      <td>...</td>\n",
       "      <td>...</td>\n",
       "      <td>...</td>\n",
       "    </tr>\n",
       "    <tr>\n",
       "      <th>38571</th>\n",
       "      <td>803452</td>\n",
       "      <td>NJ</td>\n",
       "      <td>INDIVIDUAL</td>\n",
       "      <td>&lt; 1 year</td>\n",
       "      <td>Joseph M Sanzari Company</td>\n",
       "      <td>C</td>\n",
       "      <td>MORTGAGE</td>\n",
       "      <td>2021-11-07 00:00:00</td>\n",
       "      <td>16-05-2021</td>\n",
       "      <td>16-05-2021</td>\n",
       "      <td>...</td>\n",
       "      <td>C1</td>\n",
       "      <td>60 months</td>\n",
       "      <td>Verified</td>\n",
       "      <td>100000.0</td>\n",
       "      <td>0.1986</td>\n",
       "      <td>551.64</td>\n",
       "      <td>0.1299</td>\n",
       "      <td>24250</td>\n",
       "      <td>33</td>\n",
       "      <td>31946</td>\n",
       "    </tr>\n",
       "    <tr>\n",
       "      <th>38572</th>\n",
       "      <td>970377</td>\n",
       "      <td>NY</td>\n",
       "      <td>INDIVIDUAL</td>\n",
       "      <td>8 years</td>\n",
       "      <td>Swat Fame</td>\n",
       "      <td>C</td>\n",
       "      <td>RENT</td>\n",
       "      <td>2021-11-10 00:00:00</td>\n",
       "      <td>16-04-2021</td>\n",
       "      <td>16-05-2021</td>\n",
       "      <td>...</td>\n",
       "      <td>C1</td>\n",
       "      <td>60 months</td>\n",
       "      <td>Verified</td>\n",
       "      <td>50000.0</td>\n",
       "      <td>0.0458</td>\n",
       "      <td>579.72</td>\n",
       "      <td>0.1349</td>\n",
       "      <td>25200</td>\n",
       "      <td>18</td>\n",
       "      <td>31870</td>\n",
       "    </tr>\n",
       "    <tr>\n",
       "      <th>38573</th>\n",
       "      <td>875376</td>\n",
       "      <td>CA</td>\n",
       "      <td>INDIVIDUAL</td>\n",
       "      <td>5 years</td>\n",
       "      <td>Anaheim Regional Medical Center</td>\n",
       "      <td>D</td>\n",
       "      <td>RENT</td>\n",
       "      <td>2021-11-09 00:00:00</td>\n",
       "      <td>16-05-2021</td>\n",
       "      <td>16-05-2021</td>\n",
       "      <td>...</td>\n",
       "      <td>D5</td>\n",
       "      <td>60 months</td>\n",
       "      <td>Verified</td>\n",
       "      <td>65000.0</td>\n",
       "      <td>0.1734</td>\n",
       "      <td>627.93</td>\n",
       "      <td>0.1749</td>\n",
       "      <td>25000</td>\n",
       "      <td>20</td>\n",
       "      <td>35721</td>\n",
       "    </tr>\n",
       "    <tr>\n",
       "      <th>38574</th>\n",
       "      <td>972997</td>\n",
       "      <td>NY</td>\n",
       "      <td>INDIVIDUAL</td>\n",
       "      <td>5 years</td>\n",
       "      <td>Brooklyn Radiology</td>\n",
       "      <td>D</td>\n",
       "      <td>RENT</td>\n",
       "      <td>2021-11-10 00:00:00</td>\n",
       "      <td>16-05-2021</td>\n",
       "      <td>16-05-2021</td>\n",
       "      <td>...</td>\n",
       "      <td>D5</td>\n",
       "      <td>60 months</td>\n",
       "      <td>Verified</td>\n",
       "      <td>368000.0</td>\n",
       "      <td>0.0009</td>\n",
       "      <td>612.72</td>\n",
       "      <td>0.1825</td>\n",
       "      <td>24000</td>\n",
       "      <td>9</td>\n",
       "      <td>33677</td>\n",
       "    </tr>\n",
       "    <tr>\n",
       "      <th>38575</th>\n",
       "      <td>682952</td>\n",
       "      <td>NY</td>\n",
       "      <td>INDIVIDUAL</td>\n",
       "      <td>4 years</td>\n",
       "      <td>Allen Edmonds</td>\n",
       "      <td>F</td>\n",
       "      <td>RENT</td>\n",
       "      <td>2021-11-07 00:00:00</td>\n",
       "      <td>16-05-2021</td>\n",
       "      <td>16-05-2021</td>\n",
       "      <td>...</td>\n",
       "      <td>F3</td>\n",
       "      <td>60 months</td>\n",
       "      <td>Verified</td>\n",
       "      <td>80000.0</td>\n",
       "      <td>0.0600</td>\n",
       "      <td>486.86</td>\n",
       "      <td>0.2099</td>\n",
       "      <td>18000</td>\n",
       "      <td>7</td>\n",
       "      <td>27679</td>\n",
       "    </tr>\n",
       "  </tbody>\n",
       "</table>\n",
       "<p>37138 rows × 24 columns</p>\n",
       "</div>"
      ],
      "text/plain": [
       "            id address_state application_type emp_length  \\\n",
       "0      1077430            GA       INDIVIDUAL   < 1 year   \n",
       "1      1072053            CA       INDIVIDUAL    9 years   \n",
       "2      1069243            CA       INDIVIDUAL    4 years   \n",
       "3      1041756            TX       INDIVIDUAL   < 1 year   \n",
       "4      1068350            IL       INDIVIDUAL  10+ years   \n",
       "...        ...           ...              ...        ...   \n",
       "38571   803452            NJ       INDIVIDUAL   < 1 year   \n",
       "38572   970377            NY       INDIVIDUAL    8 years   \n",
       "38573   875376            CA       INDIVIDUAL    5 years   \n",
       "38574   972997            NY       INDIVIDUAL    5 years   \n",
       "38575   682952            NY       INDIVIDUAL    4 years   \n",
       "\n",
       "                             emp_title grade home_ownership  \\\n",
       "0                                Ryder     C           RENT   \n",
       "1                       MKC Accounting     E           RENT   \n",
       "2                Chemat Technology Inc     C           RENT   \n",
       "3                  barnes distribution     B       MORTGAGE   \n",
       "4                        J&J Steel Inc     A       MORTGAGE   \n",
       "...                                ...   ...            ...   \n",
       "38571         Joseph M Sanzari Company     C       MORTGAGE   \n",
       "38572                        Swat Fame     C           RENT   \n",
       "38573  Anaheim Regional Medical Center     D           RENT   \n",
       "38574               Brooklyn Radiology     D           RENT   \n",
       "38575                    Allen Edmonds     F           RENT   \n",
       "\n",
       "                issue_date last_credit_pull_date    last_payment_date  ...  \\\n",
       "0      2021-11-02 00:00:00            13-09-2021           13-04-2021  ...   \n",
       "1      2021-01-01 00:00:00            14-12-2021           15-01-2021  ...   \n",
       "2      2021-05-01 00:00:00   2021-12-12 00:00:00  2021-09-01 00:00:00  ...   \n",
       "3               25-02-2021   2021-12-12 00:00:00  2021-12-03 00:00:00  ...   \n",
       "4      2021-01-01 00:00:00            14-12-2021           15-01-2021  ...   \n",
       "...                    ...                   ...                  ...  ...   \n",
       "38571  2021-11-07 00:00:00            16-05-2021           16-05-2021  ...   \n",
       "38572  2021-11-10 00:00:00            16-04-2021           16-05-2021  ...   \n",
       "38573  2021-11-09 00:00:00            16-05-2021           16-05-2021  ...   \n",
       "38574  2021-11-10 00:00:00            16-05-2021           16-05-2021  ...   \n",
       "38575  2021-11-07 00:00:00            16-05-2021           16-05-2021  ...   \n",
       "\n",
       "      sub_grade        term  verification_status annual_income     dti  \\\n",
       "0            C4   60 months      Source Verified       30000.0  0.0100   \n",
       "1            E1   36 months      Source Verified       48000.0  0.0535   \n",
       "2            C5   36 months         Not Verified       50000.0  0.2088   \n",
       "3            B2   60 months      Source Verified       42000.0  0.0540   \n",
       "4            A1   36 months             Verified       83000.0  0.0231   \n",
       "...         ...         ...                  ...           ...     ...   \n",
       "38571        C1   60 months             Verified      100000.0  0.1986   \n",
       "38572        C1   60 months             Verified       50000.0  0.0458   \n",
       "38573        D5   60 months             Verified       65000.0  0.1734   \n",
       "38574        D5   60 months             Verified      368000.0  0.0009   \n",
       "38575        F3   60 months             Verified       80000.0  0.0600   \n",
       "\n",
       "      installment int_rate  loan_amount  total_acc  total_payment  \n",
       "0           59.83   0.1527         2500          4           1009  \n",
       "1          109.43   0.1864         3000          4           3939  \n",
       "2          421.65   0.1596        12000         11           3522  \n",
       "3           97.06   0.1065         4500          9           4911  \n",
       "4          106.53   0.0603         3500         28           3835  \n",
       "...           ...      ...          ...        ...            ...  \n",
       "38571      551.64   0.1299        24250         33          31946  \n",
       "38572      579.72   0.1349        25200         18          31870  \n",
       "38573      627.93   0.1749        25000         20          35721  \n",
       "38574      612.72   0.1825        24000          9          33677  \n",
       "38575      486.86   0.2099        18000          7          27679  \n",
       "\n",
       "[37138 rows x 24 columns]"
      ]
     },
     "execution_count": 84,
     "metadata": {},
     "output_type": "execute_result"
    }
   ],
   "source": [
    "df2=df.dropna()\n",
    "df2"
   ]
  },
  {
   "cell_type": "code",
   "execution_count": 85,
   "id": "d8d66dbd-41b8-4084-b245-f70d0c3b5bf0",
   "metadata": {},
   "outputs": [
    {
     "data": {
      "text/plain": [
       "id                       0\n",
       "address_state            0\n",
       "application_type         0\n",
       "emp_length               0\n",
       "emp_title                0\n",
       "grade                    0\n",
       "home_ownership           0\n",
       "issue_date               0\n",
       "last_credit_pull_date    0\n",
       "last_payment_date        0\n",
       "loan_status              0\n",
       "next_payment_date        0\n",
       "member_id                0\n",
       "purpose                  0\n",
       "sub_grade                0\n",
       "term                     0\n",
       "verification_status      0\n",
       "annual_income            0\n",
       "dti                      0\n",
       "installment              0\n",
       "int_rate                 0\n",
       "loan_amount              0\n",
       "total_acc                0\n",
       "total_payment            0\n",
       "dtype: int64"
      ]
     },
     "execution_count": 85,
     "metadata": {},
     "output_type": "execute_result"
    }
   ],
   "source": [
    "df2.isnull().sum()"
   ]
  },
  {
   "cell_type": "code",
   "execution_count": 86,
   "id": "9a9c1248-8be8-4779-8b81-c6a5f5a2e2c9",
   "metadata": {},
   "outputs": [
    {
     "data": {
      "text/plain": [
       "0        False\n",
       "1        False\n",
       "2        False\n",
       "3        False\n",
       "4        False\n",
       "         ...  \n",
       "38571    False\n",
       "38572    False\n",
       "38573    False\n",
       "38574    False\n",
       "38575    False\n",
       "Length: 37138, dtype: bool"
      ]
     },
     "execution_count": 86,
     "metadata": {},
     "output_type": "execute_result"
    }
   ],
   "source": [
    "df2.duplicated()"
   ]
  },
  {
   "cell_type": "code",
   "execution_count": 87,
   "id": "2ce31b8f-0fa6-4700-b53a-336def453488",
   "metadata": {},
   "outputs": [
    {
     "data": {
      "text/plain": [
       "0"
      ]
     },
     "execution_count": 87,
     "metadata": {},
     "output_type": "execute_result"
    }
   ],
   "source": [
    "df2.duplicated().sum()"
   ]
  },
  {
   "cell_type": "code",
   "execution_count": 88,
   "id": "6cb868d2-f5b8-4ee3-9faa-f693ffbd4d9b",
   "metadata": {},
   "outputs": [
    {
     "data": {
      "image/png": "[encoded data removed]",
      "text/plain": [
       "<Figure size 640x480 with 1 Axes>"
      ]
     },
     "metadata": {},
     "output_type": "display_data"
    }
   ],
   "source": [
    "sns.boxplot(x=df[\"loan_amount\"])\n",
    "plt.show()"
   ]
  },
  {
   "cell_type": "code",
   "execution_count": 89,
   "id": "d882bdfa-1b45-4f09-b54f-1827505abc73",
   "metadata": {},
   "outputs": [
    {
     "name": "stdout",
     "output_type": "stream",
     "text": [
      "Q1 5500.0\n",
      "Q3 15000.0\n",
      "IQR 9500.0\n",
      "lower_limit -8750.0\n",
      "upper_limit 29250.0\n"
     ]
    }
   ],
   "source": [
    "# calculating Q1\n",
    "Q1= df[\"loan_amount\"].quantile(0.25)\n",
    "print(\"Q1\",Q1)\n",
    "# calculating Q3\n",
    "Q3= df[\"loan_amount\"].quantile(0.75)\n",
    "print(\"Q3\",Q3)\n",
    "# calculating IQR\n",
    "IQR = Q3-Q1\n",
    "print(\"IQR\",IQR)\n",
    "# lower_limit\n",
    "lower_limit=Q1-(IQR*1.5)\n",
    "print(\"lower_limit\",lower_limit)\n",
    "#upper_limit\n",
    "upper_limit=Q3+(IQR*1.5)\n",
    "print(\"upper_limit\",upper_limit)"
   ]
  },
  {
   "cell_type": "code",
   "execution_count": 90,
   "id": "0be1691d-45b4-4650-af00-897981a26187",
   "metadata": {},
   "outputs": [
    {
     "data": {
      "text/html": [
       "<div>\n",
       "<style scoped>\n",
       "    .dataframe tbody tr th:only-of-type {\n",
       "        vertical-align: middle;\n",
       "    }\n",
       "\n",
       "    .dataframe tbody tr th {\n",
       "        vertical-align: top;\n",
       "    }\n",
       "\n",
       "    .dataframe thead th {\n",
       "        text-align: right;\n",
       "    }\n",
       "</style>\n",
       "<table border=\"1\" class=\"dataframe\">\n",
       "  <thead>\n",
       "    <tr style=\"text-align: right;\">\n",
       "      <th></th>\n",
       "      <th>id</th>\n",
       "      <th>address_state</th>\n",
       "      <th>application_type</th>\n",
       "      <th>emp_length</th>\n",
       "      <th>emp_title</th>\n",
       "      <th>grade</th>\n",
       "      <th>home_ownership</th>\n",
       "      <th>issue_date</th>\n",
       "      <th>last_credit_pull_date</th>\n",
       "      <th>last_payment_date</th>\n",
       "      <th>...</th>\n",
       "      <th>sub_grade</th>\n",
       "      <th>term</th>\n",
       "      <th>verification_status</th>\n",
       "      <th>annual_income</th>\n",
       "      <th>dti</th>\n",
       "      <th>installment</th>\n",
       "      <th>int_rate</th>\n",
       "      <th>loan_amount</th>\n",
       "      <th>total_acc</th>\n",
       "      <th>total_payment</th>\n",
       "    </tr>\n",
       "  </thead>\n",
       "  <tbody>\n",
       "    <tr>\n",
       "      <th>1425</th>\n",
       "      <td>873223</td>\n",
       "      <td>CT</td>\n",
       "      <td>INDIVIDUAL</td>\n",
       "      <td>10+ years</td>\n",
       "      <td>Pratt Whitney</td>\n",
       "      <td>F</td>\n",
       "      <td>MORTGAGE</td>\n",
       "      <td>2021-11-09 00:00:00</td>\n",
       "      <td>16-04-2021</td>\n",
       "      <td>14-10-2021</td>\n",
       "      <td>...</td>\n",
       "      <td>F2</td>\n",
       "      <td>60 months</td>\n",
       "      <td>Verified</td>\n",
       "      <td>85000.0</td>\n",
       "      <td>0.0496</td>\n",
       "      <td>805.21</td>\n",
       "      <td>0.2062</td>\n",
       "      <td>30000</td>\n",
       "      <td>28</td>\n",
       "      <td>44764</td>\n",
       "    </tr>\n",
       "    <tr>\n",
       "      <th>1494</th>\n",
       "      <td>1044500</td>\n",
       "      <td>NY</td>\n",
       "      <td>INDIVIDUAL</td>\n",
       "      <td>10+ years</td>\n",
       "      <td>Nypd</td>\n",
       "      <td>F</td>\n",
       "      <td>OWN</td>\n",
       "      <td>2021-11-12 00:00:00</td>\n",
       "      <td>16-05-2021</td>\n",
       "      <td>16-05-2021</td>\n",
       "      <td>...</td>\n",
       "      <td>F1</td>\n",
       "      <td>60 months</td>\n",
       "      <td>Verified</td>\n",
       "      <td>100000.0</td>\n",
       "      <td>0.1884</td>\n",
       "      <td>863.73</td>\n",
       "      <td>0.2089</td>\n",
       "      <td>32000</td>\n",
       "      <td>24</td>\n",
       "      <td>45754</td>\n",
       "    </tr>\n",
       "    <tr>\n",
       "      <th>1640</th>\n",
       "      <td>1060630</td>\n",
       "      <td>TX</td>\n",
       "      <td>INDIVIDUAL</td>\n",
       "      <td>10+ years</td>\n",
       "      <td>shell Oil</td>\n",
       "      <td>E</td>\n",
       "      <td>MORTGAGE</td>\n",
       "      <td>2021-11-12 00:00:00</td>\n",
       "      <td>14-07-2021</td>\n",
       "      <td>14-06-2021</td>\n",
       "      <td>...</td>\n",
       "      <td>E2</td>\n",
       "      <td>60 months</td>\n",
       "      <td>Verified</td>\n",
       "      <td>80000.0</td>\n",
       "      <td>0.2682</td>\n",
       "      <td>500.33</td>\n",
       "      <td>0.1903</td>\n",
       "      <td>30000</td>\n",
       "      <td>29</td>\n",
       "      <td>26880</td>\n",
       "    </tr>\n",
       "    <tr>\n",
       "      <th>1643</th>\n",
       "      <td>1056174</td>\n",
       "      <td>CO</td>\n",
       "      <td>INDIVIDUAL</td>\n",
       "      <td>10+ years</td>\n",
       "      <td>Visa Inc</td>\n",
       "      <td>A</td>\n",
       "      <td>MORTGAGE</td>\n",
       "      <td>2021-11-12 00:00:00</td>\n",
       "      <td>16-04-2021</td>\n",
       "      <td>14-12-2021</td>\n",
       "      <td>...</td>\n",
       "      <td>A5</td>\n",
       "      <td>36 months</td>\n",
       "      <td>Verified</td>\n",
       "      <td>106000.0</td>\n",
       "      <td>0.1209</td>\n",
       "      <td>1111.37</td>\n",
       "      <td>0.0890</td>\n",
       "      <td>35000</td>\n",
       "      <td>28</td>\n",
       "      <td>40009</td>\n",
       "    </tr>\n",
       "    <tr>\n",
       "      <th>1679</th>\n",
       "      <td>1055282</td>\n",
       "      <td>MI</td>\n",
       "      <td>INDIVIDUAL</td>\n",
       "      <td>1 year</td>\n",
       "      <td>IBM</td>\n",
       "      <td>C</td>\n",
       "      <td>MORTGAGE</td>\n",
       "      <td>2021-11-12 00:00:00</td>\n",
       "      <td>13-11-2021</td>\n",
       "      <td>13-11-2021</td>\n",
       "      <td>...</td>\n",
       "      <td>C2</td>\n",
       "      <td>36 months</td>\n",
       "      <td>Verified</td>\n",
       "      <td>123000.0</td>\n",
       "      <td>0.1934</td>\n",
       "      <td>1200.82</td>\n",
       "      <td>0.1427</td>\n",
       "      <td>35000</td>\n",
       "      <td>34</td>\n",
       "      <td>42004</td>\n",
       "    </tr>\n",
       "    <tr>\n",
       "      <th>...</th>\n",
       "      <td>...</td>\n",
       "      <td>...</td>\n",
       "      <td>...</td>\n",
       "      <td>...</td>\n",
       "      <td>...</td>\n",
       "      <td>...</td>\n",
       "      <td>...</td>\n",
       "      <td>...</td>\n",
       "      <td>...</td>\n",
       "      <td>...</td>\n",
       "      <td>...</td>\n",
       "      <td>...</td>\n",
       "      <td>...</td>\n",
       "      <td>...</td>\n",
       "      <td>...</td>\n",
       "      <td>...</td>\n",
       "      <td>...</td>\n",
       "      <td>...</td>\n",
       "      <td>...</td>\n",
       "      <td>...</td>\n",
       "      <td>...</td>\n",
       "    </tr>\n",
       "    <tr>\n",
       "      <th>38491</th>\n",
       "      <td>682280</td>\n",
       "      <td>PA</td>\n",
       "      <td>INDIVIDUAL</td>\n",
       "      <td>2 years</td>\n",
       "      <td>Williams Residential</td>\n",
       "      <td>E</td>\n",
       "      <td>RENT</td>\n",
       "      <td>2021-11-03 00:00:00</td>\n",
       "      <td>2021-12-04 00:00:00</td>\n",
       "      <td>2021-11-12 00:00:00</td>\n",
       "      <td>...</td>\n",
       "      <td>E1</td>\n",
       "      <td>60 months</td>\n",
       "      <td>Verified</td>\n",
       "      <td>70000.0</td>\n",
       "      <td>0.0864</td>\n",
       "      <td>858.59</td>\n",
       "      <td>0.1640</td>\n",
       "      <td>35000</td>\n",
       "      <td>39</td>\n",
       "      <td>8667</td>\n",
       "    </tr>\n",
       "    <tr>\n",
       "      <th>38500</th>\n",
       "      <td>822087</td>\n",
       "      <td>MD</td>\n",
       "      <td>INDIVIDUAL</td>\n",
       "      <td>4 years</td>\n",
       "      <td>DHS/TSA</td>\n",
       "      <td>C</td>\n",
       "      <td>MORTGAGE</td>\n",
       "      <td>2021-11-07 00:00:00</td>\n",
       "      <td>16-04-2021</td>\n",
       "      <td>14-11-2021</td>\n",
       "      <td>...</td>\n",
       "      <td>C2</td>\n",
       "      <td>60 months</td>\n",
       "      <td>Verified</td>\n",
       "      <td>137400.0</td>\n",
       "      <td>0.1545</td>\n",
       "      <td>805.17</td>\n",
       "      <td>0.1349</td>\n",
       "      <td>35000</td>\n",
       "      <td>36</td>\n",
       "      <td>46388</td>\n",
       "    </tr>\n",
       "    <tr>\n",
       "      <th>38511</th>\n",
       "      <td>702589</td>\n",
       "      <td>NJ</td>\n",
       "      <td>INDIVIDUAL</td>\n",
       "      <td>2 years</td>\n",
       "      <td>Team Health</td>\n",
       "      <td>E</td>\n",
       "      <td>MORTGAGE</td>\n",
       "      <td>2021-11-03 00:00:00</td>\n",
       "      <td>2021-12-05 00:00:00</td>\n",
       "      <td>2021-12-05 00:00:00</td>\n",
       "      <td>...</td>\n",
       "      <td>E3</td>\n",
       "      <td>60 months</td>\n",
       "      <td>Verified</td>\n",
       "      <td>146000.0</td>\n",
       "      <td>0.1925</td>\n",
       "      <td>872.48</td>\n",
       "      <td>0.1714</td>\n",
       "      <td>35000</td>\n",
       "      <td>46</td>\n",
       "      <td>41061</td>\n",
       "    </tr>\n",
       "    <tr>\n",
       "      <th>38545</th>\n",
       "      <td>715394</td>\n",
       "      <td>NY</td>\n",
       "      <td>INDIVIDUAL</td>\n",
       "      <td>5 years</td>\n",
       "      <td>Nestle Waters North America</td>\n",
       "      <td>E</td>\n",
       "      <td>RENT</td>\n",
       "      <td>2021-11-04 00:00:00</td>\n",
       "      <td>16-05-2021</td>\n",
       "      <td>13-04-2021</td>\n",
       "      <td>...</td>\n",
       "      <td>E5</td>\n",
       "      <td>60 months</td>\n",
       "      <td>Verified</td>\n",
       "      <td>67588.0</td>\n",
       "      <td>0.2436</td>\n",
       "      <td>759.85</td>\n",
       "      <td>0.1788</td>\n",
       "      <td>30000</td>\n",
       "      <td>21</td>\n",
       "      <td>33201</td>\n",
       "    </tr>\n",
       "    <tr>\n",
       "      <th>38550</th>\n",
       "      <td>853145</td>\n",
       "      <td>NY</td>\n",
       "      <td>INDIVIDUAL</td>\n",
       "      <td>8 years</td>\n",
       "      <td>giuntas meat farms</td>\n",
       "      <td>E</td>\n",
       "      <td>RENT</td>\n",
       "      <td>2021-11-08 00:00:00</td>\n",
       "      <td>14-04-2021</td>\n",
       "      <td>14-04-2021</td>\n",
       "      <td>...</td>\n",
       "      <td>E2</td>\n",
       "      <td>60 months</td>\n",
       "      <td>Verified</td>\n",
       "      <td>104000.0</td>\n",
       "      <td>0.1058</td>\n",
       "      <td>896.22</td>\n",
       "      <td>0.1839</td>\n",
       "      <td>35000</td>\n",
       "      <td>15</td>\n",
       "      <td>48639</td>\n",
       "    </tr>\n",
       "  </tbody>\n",
       "</table>\n",
       "<p>1208 rows × 24 columns</p>\n",
       "</div>"
      ],
      "text/plain": [
       "            id address_state application_type emp_length  \\\n",
       "1425    873223            CT       INDIVIDUAL  10+ years   \n",
       "1494   1044500            NY       INDIVIDUAL  10+ years   \n",
       "1640   1060630            TX       INDIVIDUAL  10+ years   \n",
       "1643   1056174            CO       INDIVIDUAL  10+ years   \n",
       "1679   1055282            MI       INDIVIDUAL     1 year   \n",
       "...        ...           ...              ...        ...   \n",
       "38491   682280            PA       INDIVIDUAL    2 years   \n",
       "38500   822087            MD       INDIVIDUAL    4 years   \n",
       "38511   702589            NJ       INDIVIDUAL    2 years   \n",
       "38545   715394            NY       INDIVIDUAL    5 years   \n",
       "38550   853145            NY       INDIVIDUAL    8 years   \n",
       "\n",
       "                         emp_title grade home_ownership           issue_date  \\\n",
       "1425                 Pratt Whitney     F       MORTGAGE  2021-11-09 00:00:00   \n",
       "1494                          Nypd     F            OWN  2021-11-12 00:00:00   \n",
       "1640                     shell Oil     E       MORTGAGE  2021-11-12 00:00:00   \n",
       "1643                      Visa Inc     A       MORTGAGE  2021-11-12 00:00:00   \n",
       "1679                           IBM     C       MORTGAGE  2021-11-12 00:00:00   \n",
       "...                            ...   ...            ...                  ...   \n",
       "38491         Williams Residential     E           RENT  2021-11-03 00:00:00   \n",
       "38500                      DHS/TSA     C       MORTGAGE  2021-11-07 00:00:00   \n",
       "38511                  Team Health     E       MORTGAGE  2021-11-03 00:00:00   \n",
       "38545  Nestle Waters North America     E           RENT  2021-11-04 00:00:00   \n",
       "38550           giuntas meat farms     E           RENT  2021-11-08 00:00:00   \n",
       "\n",
       "      last_credit_pull_date    last_payment_date  ... sub_grade        term  \\\n",
       "1425             16-04-2021           14-10-2021  ...        F2   60 months   \n",
       "1494             16-05-2021           16-05-2021  ...        F1   60 months   \n",
       "1640             14-07-2021           14-06-2021  ...        E2   60 months   \n",
       "1643             16-04-2021           14-12-2021  ...        A5   36 months   \n",
       "1679             13-11-2021           13-11-2021  ...        C2   36 months   \n",
       "...                     ...                  ...  ...       ...         ...   \n",
       "38491   2021-12-04 00:00:00  2021-11-12 00:00:00  ...        E1   60 months   \n",
       "38500            16-04-2021           14-11-2021  ...        C2   60 months   \n",
       "38511   2021-12-05 00:00:00  2021-12-05 00:00:00  ...        E3   60 months   \n",
       "38545            16-05-2021           13-04-2021  ...        E5   60 months   \n",
       "38550            14-04-2021           14-04-2021  ...        E2   60 months   \n",
       "\n",
       "       verification_status annual_income     dti installment int_rate  \\\n",
       "1425              Verified       85000.0  0.0496      805.21   0.2062   \n",
       "1494              Verified      100000.0  0.1884      863.73   0.2089   \n",
       "1640              Verified       80000.0  0.2682      500.33   0.1903   \n",
       "1643              Verified      106000.0  0.1209     1111.37   0.0890   \n",
       "1679              Verified      123000.0  0.1934     1200.82   0.1427   \n",
       "...                    ...           ...     ...         ...      ...   \n",
       "38491             Verified       70000.0  0.0864      858.59   0.1640   \n",
       "38500             Verified      137400.0  0.1545      805.17   0.1349   \n",
       "38511             Verified      146000.0  0.1925      872.48   0.1714   \n",
       "38545             Verified       67588.0  0.2436      759.85   0.1788   \n",
       "38550             Verified      104000.0  0.1058      896.22   0.1839   \n",
       "\n",
       "       loan_amount  total_acc  total_payment  \n",
       "1425         30000         28          44764  \n",
       "1494         32000         24          45754  \n",
       "1640         30000         29          26880  \n",
       "1643         35000         28          40009  \n",
       "1679         35000         34          42004  \n",
       "...            ...        ...            ...  \n",
       "38491        35000         39           8667  \n",
       "38500        35000         36          46388  \n",
       "38511        35000         46          41061  \n",
       "38545        30000         21          33201  \n",
       "38550        35000         15          48639  \n",
       "\n",
       "[1208 rows x 24 columns]"
      ]
     },
     "execution_count": 90,
     "metadata": {},
     "output_type": "execute_result"
    }
   ],
   "source": [
    "df[(df[\"loan_amount\"]<lower_limit)|(df[\"loan_amount\"]>upper_limit)]"
   ]
  },
  {
   "cell_type": "code",
   "execution_count": 91,
   "id": "58676070-b29a-42cc-81ba-5a069fcd9f04",
   "metadata": {},
   "outputs": [
    {
     "data": {
      "image/png": "[encoded data removed]",
      "text/plain": [
       "<Figure size 640x480 with 1 Axes>"
      ]
     },
     "metadata": {},
     "output_type": "display_data"
    }
   ],
   "source": [
    "sns.boxplot(x=df[\"total_payment\"])\n",
    "plt.show()"
   ]
  },
  {
   "cell_type": "code",
   "execution_count": 92,
   "id": "2bab02de-c3a0-4727-8501-658fa0098919",
   "metadata": {},
   "outputs": [
    {
     "name": "stdout",
     "output_type": "stream",
     "text": [
      "Q1 5633.0\n",
      "Q3 16658.0\n",
      "IQR 11025.0\n",
      "lower_limit -10904.5\n",
      "upper_limit 33195.5\n"
     ]
    }
   ],
   "source": [
    "# calculating Q1\n",
    "Q1= df[\"total_payment\"].quantile(0.25)\n",
    "print(\"Q1\",Q1)\n",
    "# calculating Q3\n",
    "Q3= df[\"total_payment\"].quantile(0.75)\n",
    "print(\"Q3\",Q3)\n",
    "# calculating IQR\n",
    "IQR = Q3-Q1\n",
    "print(\"IQR\",IQR)\n",
    "# lower_limit\n",
    "lower_limit=Q1-(IQR*1.5)\n",
    "print(\"lower_limit\",lower_limit)\n",
    "#upper_limit\n",
    "upper_limit=Q3+(IQR*1.5)\n",
    "print(\"upper_limit\",upper_limit)"
   ]
  },
  {
   "cell_type": "code",
   "execution_count": 93,
   "id": "1702175a-f8cb-4e40-a4d4-c96820596d33",
   "metadata": {},
   "outputs": [
    {
     "data": {
      "text/html": [
       "<div>\n",
       "<style scoped>\n",
       "    .dataframe tbody tr th:only-of-type {\n",
       "        vertical-align: middle;\n",
       "    }\n",
       "\n",
       "    .dataframe tbody tr th {\n",
       "        vertical-align: top;\n",
       "    }\n",
       "\n",
       "    .dataframe thead th {\n",
       "        text-align: right;\n",
       "    }\n",
       "</style>\n",
       "<table border=\"1\" class=\"dataframe\">\n",
       "  <thead>\n",
       "    <tr style=\"text-align: right;\">\n",
       "      <th></th>\n",
       "      <th>id</th>\n",
       "      <th>address_state</th>\n",
       "      <th>application_type</th>\n",
       "      <th>emp_length</th>\n",
       "      <th>emp_title</th>\n",
       "      <th>grade</th>\n",
       "      <th>home_ownership</th>\n",
       "      <th>issue_date</th>\n",
       "      <th>last_credit_pull_date</th>\n",
       "      <th>last_payment_date</th>\n",
       "      <th>...</th>\n",
       "      <th>sub_grade</th>\n",
       "      <th>term</th>\n",
       "      <th>verification_status</th>\n",
       "      <th>annual_income</th>\n",
       "      <th>dti</th>\n",
       "      <th>installment</th>\n",
       "      <th>int_rate</th>\n",
       "      <th>loan_amount</th>\n",
       "      <th>total_acc</th>\n",
       "      <th>total_payment</th>\n",
       "    </tr>\n",
       "  </thead>\n",
       "  <tbody>\n",
       "    <tr>\n",
       "      <th>1235</th>\n",
       "      <td>738971</td>\n",
       "      <td>CA</td>\n",
       "      <td>INDIVIDUAL</td>\n",
       "      <td>7 years</td>\n",
       "      <td>tenet health</td>\n",
       "      <td>B</td>\n",
       "      <td>MORTGAGE</td>\n",
       "      <td>2021-11-04 00:00:00</td>\n",
       "      <td>15-01-2021</td>\n",
       "      <td>14-12-2021</td>\n",
       "      <td>...</td>\n",
       "      <td>B3</td>\n",
       "      <td>60 months</td>\n",
       "      <td>Source Verified</td>\n",
       "      <td>102000.0</td>\n",
       "      <td>0.1381</td>\n",
       "      <td>608.65</td>\n",
       "      <td>0.1099</td>\n",
       "      <td>28000</td>\n",
       "      <td>17</td>\n",
       "      <td>36045</td>\n",
       "    </tr>\n",
       "    <tr>\n",
       "      <th>1425</th>\n",
       "      <td>873223</td>\n",
       "      <td>CT</td>\n",
       "      <td>INDIVIDUAL</td>\n",
       "      <td>10+ years</td>\n",
       "      <td>Pratt Whitney</td>\n",
       "      <td>F</td>\n",
       "      <td>MORTGAGE</td>\n",
       "      <td>2021-11-09 00:00:00</td>\n",
       "      <td>16-04-2021</td>\n",
       "      <td>14-10-2021</td>\n",
       "      <td>...</td>\n",
       "      <td>F2</td>\n",
       "      <td>60 months</td>\n",
       "      <td>Verified</td>\n",
       "      <td>85000.0</td>\n",
       "      <td>0.0496</td>\n",
       "      <td>805.21</td>\n",
       "      <td>0.2062</td>\n",
       "      <td>30000</td>\n",
       "      <td>28</td>\n",
       "      <td>44764</td>\n",
       "    </tr>\n",
       "    <tr>\n",
       "      <th>1494</th>\n",
       "      <td>1044500</td>\n",
       "      <td>NY</td>\n",
       "      <td>INDIVIDUAL</td>\n",
       "      <td>10+ years</td>\n",
       "      <td>Nypd</td>\n",
       "      <td>F</td>\n",
       "      <td>OWN</td>\n",
       "      <td>2021-11-12 00:00:00</td>\n",
       "      <td>16-05-2021</td>\n",
       "      <td>16-05-2021</td>\n",
       "      <td>...</td>\n",
       "      <td>F1</td>\n",
       "      <td>60 months</td>\n",
       "      <td>Verified</td>\n",
       "      <td>100000.0</td>\n",
       "      <td>0.1884</td>\n",
       "      <td>863.73</td>\n",
       "      <td>0.2089</td>\n",
       "      <td>32000</td>\n",
       "      <td>24</td>\n",
       "      <td>45754</td>\n",
       "    </tr>\n",
       "    <tr>\n",
       "      <th>1568</th>\n",
       "      <td>1065480</td>\n",
       "      <td>WI</td>\n",
       "      <td>INDIVIDUAL</td>\n",
       "      <td>5 years</td>\n",
       "      <td>Prairie du Chien Memorial Hospital</td>\n",
       "      <td>B</td>\n",
       "      <td>RENT</td>\n",
       "      <td>2021-11-12 00:00:00</td>\n",
       "      <td>14-12-2021</td>\n",
       "      <td>15-01-2021</td>\n",
       "      <td>...</td>\n",
       "      <td>B5</td>\n",
       "      <td>36 months</td>\n",
       "      <td>Source Verified</td>\n",
       "      <td>100000.0</td>\n",
       "      <td>0.1235</td>\n",
       "      <td>939.26</td>\n",
       "      <td>0.1269</td>\n",
       "      <td>28000</td>\n",
       "      <td>15</td>\n",
       "      <td>33813</td>\n",
       "    </tr>\n",
       "    <tr>\n",
       "      <th>1586</th>\n",
       "      <td>1064639</td>\n",
       "      <td>VA</td>\n",
       "      <td>INDIVIDUAL</td>\n",
       "      <td>3 years</td>\n",
       "      <td>MCDean</td>\n",
       "      <td>E</td>\n",
       "      <td>MORTGAGE</td>\n",
       "      <td>2021-11-12 00:00:00</td>\n",
       "      <td>16-03-2021</td>\n",
       "      <td>16-03-2021</td>\n",
       "      <td>...</td>\n",
       "      <td>E2</td>\n",
       "      <td>60 months</td>\n",
       "      <td>Verified</td>\n",
       "      <td>85000.0</td>\n",
       "      <td>0.1715</td>\n",
       "      <td>648.93</td>\n",
       "      <td>0.1903</td>\n",
       "      <td>25000</td>\n",
       "      <td>19</td>\n",
       "      <td>38487</td>\n",
       "    </tr>\n",
       "    <tr>\n",
       "      <th>...</th>\n",
       "      <td>...</td>\n",
       "      <td>...</td>\n",
       "      <td>...</td>\n",
       "      <td>...</td>\n",
       "      <td>...</td>\n",
       "      <td>...</td>\n",
       "      <td>...</td>\n",
       "      <td>...</td>\n",
       "      <td>...</td>\n",
       "      <td>...</td>\n",
       "      <td>...</td>\n",
       "      <td>...</td>\n",
       "      <td>...</td>\n",
       "      <td>...</td>\n",
       "      <td>...</td>\n",
       "      <td>...</td>\n",
       "      <td>...</td>\n",
       "      <td>...</td>\n",
       "      <td>...</td>\n",
       "      <td>...</td>\n",
       "      <td>...</td>\n",
       "    </tr>\n",
       "    <tr>\n",
       "      <th>38514</th>\n",
       "      <td>608734</td>\n",
       "      <td>OR</td>\n",
       "      <td>INDIVIDUAL</td>\n",
       "      <td>7 years</td>\n",
       "      <td>Comfortcare Dental</td>\n",
       "      <td>F</td>\n",
       "      <td>MORTGAGE</td>\n",
       "      <td>2021-10-11 00:00:00</td>\n",
       "      <td>15-05-2021</td>\n",
       "      <td>13-11-2021</td>\n",
       "      <td>...</td>\n",
       "      <td>F4</td>\n",
       "      <td>60 months</td>\n",
       "      <td>Verified</td>\n",
       "      <td>105000.0</td>\n",
       "      <td>0.2114</td>\n",
       "      <td>621.39</td>\n",
       "      <td>0.1891</td>\n",
       "      <td>24000</td>\n",
       "      <td>35</td>\n",
       "      <td>34397</td>\n",
       "    </tr>\n",
       "    <tr>\n",
       "      <th>38545</th>\n",
       "      <td>715394</td>\n",
       "      <td>NY</td>\n",
       "      <td>INDIVIDUAL</td>\n",
       "      <td>5 years</td>\n",
       "      <td>Nestle Waters North America</td>\n",
       "      <td>E</td>\n",
       "      <td>RENT</td>\n",
       "      <td>2021-11-04 00:00:00</td>\n",
       "      <td>16-05-2021</td>\n",
       "      <td>13-04-2021</td>\n",
       "      <td>...</td>\n",
       "      <td>E5</td>\n",
       "      <td>60 months</td>\n",
       "      <td>Verified</td>\n",
       "      <td>67588.0</td>\n",
       "      <td>0.2436</td>\n",
       "      <td>759.85</td>\n",
       "      <td>0.1788</td>\n",
       "      <td>30000</td>\n",
       "      <td>21</td>\n",
       "      <td>33201</td>\n",
       "    </tr>\n",
       "    <tr>\n",
       "      <th>38550</th>\n",
       "      <td>853145</td>\n",
       "      <td>NY</td>\n",
       "      <td>INDIVIDUAL</td>\n",
       "      <td>8 years</td>\n",
       "      <td>giuntas meat farms</td>\n",
       "      <td>E</td>\n",
       "      <td>RENT</td>\n",
       "      <td>2021-11-08 00:00:00</td>\n",
       "      <td>14-04-2021</td>\n",
       "      <td>14-04-2021</td>\n",
       "      <td>...</td>\n",
       "      <td>E2</td>\n",
       "      <td>60 months</td>\n",
       "      <td>Verified</td>\n",
       "      <td>104000.0</td>\n",
       "      <td>0.1058</td>\n",
       "      <td>896.22</td>\n",
       "      <td>0.1839</td>\n",
       "      <td>35000</td>\n",
       "      <td>15</td>\n",
       "      <td>48639</td>\n",
       "    </tr>\n",
       "    <tr>\n",
       "      <th>38573</th>\n",
       "      <td>875376</td>\n",
       "      <td>CA</td>\n",
       "      <td>INDIVIDUAL</td>\n",
       "      <td>5 years</td>\n",
       "      <td>Anaheim Regional Medical Center</td>\n",
       "      <td>D</td>\n",
       "      <td>RENT</td>\n",
       "      <td>2021-11-09 00:00:00</td>\n",
       "      <td>16-05-2021</td>\n",
       "      <td>16-05-2021</td>\n",
       "      <td>...</td>\n",
       "      <td>D5</td>\n",
       "      <td>60 months</td>\n",
       "      <td>Verified</td>\n",
       "      <td>65000.0</td>\n",
       "      <td>0.1734</td>\n",
       "      <td>627.93</td>\n",
       "      <td>0.1749</td>\n",
       "      <td>25000</td>\n",
       "      <td>20</td>\n",
       "      <td>35721</td>\n",
       "    </tr>\n",
       "    <tr>\n",
       "      <th>38574</th>\n",
       "      <td>972997</td>\n",
       "      <td>NY</td>\n",
       "      <td>INDIVIDUAL</td>\n",
       "      <td>5 years</td>\n",
       "      <td>Brooklyn Radiology</td>\n",
       "      <td>D</td>\n",
       "      <td>RENT</td>\n",
       "      <td>2021-11-10 00:00:00</td>\n",
       "      <td>16-05-2021</td>\n",
       "      <td>16-05-2021</td>\n",
       "      <td>...</td>\n",
       "      <td>D5</td>\n",
       "      <td>60 months</td>\n",
       "      <td>Verified</td>\n",
       "      <td>368000.0</td>\n",
       "      <td>0.0009</td>\n",
       "      <td>612.72</td>\n",
       "      <td>0.1825</td>\n",
       "      <td>24000</td>\n",
       "      <td>9</td>\n",
       "      <td>33677</td>\n",
       "    </tr>\n",
       "  </tbody>\n",
       "</table>\n",
       "<p>1277 rows × 24 columns</p>\n",
       "</div>"
      ],
      "text/plain": [
       "            id address_state application_type emp_length  \\\n",
       "1235    738971            CA       INDIVIDUAL    7 years   \n",
       "1425    873223            CT       INDIVIDUAL  10+ years   \n",
       "1494   1044500            NY       INDIVIDUAL  10+ years   \n",
       "1568   1065480            WI       INDIVIDUAL    5 years   \n",
       "1586   1064639            VA       INDIVIDUAL    3 years   \n",
       "...        ...           ...              ...        ...   \n",
       "38514   608734            OR       INDIVIDUAL    7 years   \n",
       "38545   715394            NY       INDIVIDUAL    5 years   \n",
       "38550   853145            NY       INDIVIDUAL    8 years   \n",
       "38573   875376            CA       INDIVIDUAL    5 years   \n",
       "38574   972997            NY       INDIVIDUAL    5 years   \n",
       "\n",
       "                                emp_title grade home_ownership  \\\n",
       "1235                         tenet health     B       MORTGAGE   \n",
       "1425                        Pratt Whitney     F       MORTGAGE   \n",
       "1494                                 Nypd     F            OWN   \n",
       "1568   Prairie du Chien Memorial Hospital     B           RENT   \n",
       "1586                               MCDean     E       MORTGAGE   \n",
       "...                                   ...   ...            ...   \n",
       "38514                  Comfortcare Dental     F       MORTGAGE   \n",
       "38545         Nestle Waters North America     E           RENT   \n",
       "38550                  giuntas meat farms     E           RENT   \n",
       "38573     Anaheim Regional Medical Center     D           RENT   \n",
       "38574                  Brooklyn Radiology     D           RENT   \n",
       "\n",
       "                issue_date last_credit_pull_date last_payment_date  ...  \\\n",
       "1235   2021-11-04 00:00:00            15-01-2021        14-12-2021  ...   \n",
       "1425   2021-11-09 00:00:00            16-04-2021        14-10-2021  ...   \n",
       "1494   2021-11-12 00:00:00            16-05-2021        16-05-2021  ...   \n",
       "1568   2021-11-12 00:00:00            14-12-2021        15-01-2021  ...   \n",
       "1586   2021-11-12 00:00:00            16-03-2021        16-03-2021  ...   \n",
       "...                    ...                   ...               ...  ...   \n",
       "38514  2021-10-11 00:00:00            15-05-2021        13-11-2021  ...   \n",
       "38545  2021-11-04 00:00:00            16-05-2021        13-04-2021  ...   \n",
       "38550  2021-11-08 00:00:00            14-04-2021        14-04-2021  ...   \n",
       "38573  2021-11-09 00:00:00            16-05-2021        16-05-2021  ...   \n",
       "38574  2021-11-10 00:00:00            16-05-2021        16-05-2021  ...   \n",
       "\n",
       "      sub_grade        term  verification_status annual_income     dti  \\\n",
       "1235         B3   60 months      Source Verified      102000.0  0.1381   \n",
       "1425         F2   60 months             Verified       85000.0  0.0496   \n",
       "1494         F1   60 months             Verified      100000.0  0.1884   \n",
       "1568         B5   36 months      Source Verified      100000.0  0.1235   \n",
       "1586         E2   60 months             Verified       85000.0  0.1715   \n",
       "...         ...         ...                  ...           ...     ...   \n",
       "38514        F4   60 months             Verified      105000.0  0.2114   \n",
       "38545        E5   60 months             Verified       67588.0  0.2436   \n",
       "38550        E2   60 months             Verified      104000.0  0.1058   \n",
       "38573        D5   60 months             Verified       65000.0  0.1734   \n",
       "38574        D5   60 months             Verified      368000.0  0.0009   \n",
       "\n",
       "      installment int_rate  loan_amount  total_acc  total_payment  \n",
       "1235       608.65   0.1099        28000         17          36045  \n",
       "1425       805.21   0.2062        30000         28          44764  \n",
       "1494       863.73   0.2089        32000         24          45754  \n",
       "1568       939.26   0.1269        28000         15          33813  \n",
       "1586       648.93   0.1903        25000         19          38487  \n",
       "...           ...      ...          ...        ...            ...  \n",
       "38514      621.39   0.1891        24000         35          34397  \n",
       "38545      759.85   0.1788        30000         21          33201  \n",
       "38550      896.22   0.1839        35000         15          48639  \n",
       "38573      627.93   0.1749        25000         20          35721  \n",
       "38574      612.72   0.1825        24000          9          33677  \n",
       "\n",
       "[1277 rows x 24 columns]"
      ]
     },
     "execution_count": 93,
     "metadata": {},
     "output_type": "execute_result"
    }
   ],
   "source": [
    "df[(df[\"total_payment\"]<lower_limit)|(df[\"total_payment\"]>upper_limit)]"
   ]
  },
  {
   "cell_type": "code",
   "execution_count": 94,
   "id": "e8346b5a-6698-4c2c-be70-21cf6228165d",
   "metadata": {},
   "outputs": [
    {
     "data": {
      "image/png": "[encoded data removed]",
      "text/plain": [
       "<Figure size 640x480 with 1 Axes>"
      ]
     },
     "metadata": {},
     "output_type": "display_data"
    }
   ],
   "source": [
    "sns.boxplot(x=df[\"int_rate\"])\n",
    "plt.show()"
   ]
  },
  {
   "cell_type": "code",
   "execution_count": 95,
   "id": "f04d52d1-e543-469e-a66f-44f174f8dc88",
   "metadata": {},
   "outputs": [
    {
     "name": "stdout",
     "output_type": "stream",
     "text": [
      "Q1 0.0932\n",
      "Q3 0.1459\n",
      "IQR 0.0527\n",
      "lower_limit 0.01415000000000001\n",
      "upper_limit 0.22494999999999998\n"
     ]
    }
   ],
   "source": [
    "Q1= df[\"int_rate\"].quantile(0.25)\n",
    "print(\"Q1\",Q1)\n",
    "Q3=df[\"int_rate\"].quantile(0.75)\n",
    "print(\"Q3\",Q3)\n",
    "IQR = Q3-Q1\n",
    "print(\"IQR\",IQR)\n",
    "lower_limit=Q1-(IQR*1.5)\n",
    "print(\"lower_limit\",lower_limit)\n",
    "upper_limit=Q3+(IQR*1.5)\n",
    "print(\"upper_limit\",upper_limit)"
   ]
  },
  {
   "cell_type": "code",
   "execution_count": 96,
   "id": "99927532-23b7-467b-9fb7-53184eda446e",
   "metadata": {},
   "outputs": [
    {
     "data": {
      "text/html": [
       "<div>\n",
       "<style scoped>\n",
       "    .dataframe tbody tr th:only-of-type {\n",
       "        vertical-align: middle;\n",
       "    }\n",
       "\n",
       "    .dataframe tbody tr th {\n",
       "        vertical-align: top;\n",
       "    }\n",
       "\n",
       "    .dataframe thead th {\n",
       "        text-align: right;\n",
       "    }\n",
       "</style>\n",
       "<table border=\"1\" class=\"dataframe\">\n",
       "  <thead>\n",
       "    <tr style=\"text-align: right;\">\n",
       "      <th></th>\n",
       "      <th>id</th>\n",
       "      <th>address_state</th>\n",
       "      <th>application_type</th>\n",
       "      <th>emp_length</th>\n",
       "      <th>emp_title</th>\n",
       "      <th>grade</th>\n",
       "      <th>home_ownership</th>\n",
       "      <th>issue_date</th>\n",
       "      <th>last_credit_pull_date</th>\n",
       "      <th>last_payment_date</th>\n",
       "      <th>...</th>\n",
       "      <th>sub_grade</th>\n",
       "      <th>term</th>\n",
       "      <th>verification_status</th>\n",
       "      <th>annual_income</th>\n",
       "      <th>dti</th>\n",
       "      <th>installment</th>\n",
       "      <th>int_rate</th>\n",
       "      <th>loan_amount</th>\n",
       "      <th>total_acc</th>\n",
       "      <th>total_payment</th>\n",
       "    </tr>\n",
       "  </thead>\n",
       "  <tbody>\n",
       "    <tr>\n",
       "      <th>1209</th>\n",
       "      <td>829918</td>\n",
       "      <td>VA</td>\n",
       "      <td>INDIVIDUAL</td>\n",
       "      <td>&lt; 1 year</td>\n",
       "      <td>KForce</td>\n",
       "      <td>G</td>\n",
       "      <td>RENT</td>\n",
       "      <td>2021-11-08 00:00:00</td>\n",
       "      <td>14-10-2021</td>\n",
       "      <td>14-06-2021</td>\n",
       "      <td>...</td>\n",
       "      <td>G3</td>\n",
       "      <td>60 months</td>\n",
       "      <td>Source Verified</td>\n",
       "      <td>105000.00</td>\n",
       "      <td>0.0751</td>\n",
       "      <td>134.91</td>\n",
       "      <td>0.2285</td>\n",
       "      <td>4800</td>\n",
       "      <td>12</td>\n",
       "      <td>4867</td>\n",
       "    </tr>\n",
       "    <tr>\n",
       "      <th>1646</th>\n",
       "      <td>1061914</td>\n",
       "      <td>NY</td>\n",
       "      <td>INDIVIDUAL</td>\n",
       "      <td>6 years</td>\n",
       "      <td>JPMORGAN CHASE</td>\n",
       "      <td>G</td>\n",
       "      <td>RENT</td>\n",
       "      <td>2021-11-12 00:00:00</td>\n",
       "      <td>16-04-2021</td>\n",
       "      <td>15-06-2021</td>\n",
       "      <td>...</td>\n",
       "      <td>G1</td>\n",
       "      <td>60 months</td>\n",
       "      <td>Not Verified</td>\n",
       "      <td>85000.00</td>\n",
       "      <td>0.0702</td>\n",
       "      <td>628.13</td>\n",
       "      <td>0.2274</td>\n",
       "      <td>22400</td>\n",
       "      <td>16</td>\n",
       "      <td>26377</td>\n",
       "    </tr>\n",
       "    <tr>\n",
       "      <th>1672</th>\n",
       "      <td>1060753</td>\n",
       "      <td>FL</td>\n",
       "      <td>INDIVIDUAL</td>\n",
       "      <td>4 years</td>\n",
       "      <td>exclusive autoline inc</td>\n",
       "      <td>G</td>\n",
       "      <td>RENT</td>\n",
       "      <td>2021-11-12 00:00:00</td>\n",
       "      <td>15-04-2021</td>\n",
       "      <td>15-04-2021</td>\n",
       "      <td>...</td>\n",
       "      <td>G4</td>\n",
       "      <td>60 months</td>\n",
       "      <td>Verified</td>\n",
       "      <td>60000.00</td>\n",
       "      <td>0.1774</td>\n",
       "      <td>715.75</td>\n",
       "      <td>0.2391</td>\n",
       "      <td>24925</td>\n",
       "      <td>26</td>\n",
       "      <td>37823</td>\n",
       "    </tr>\n",
       "    <tr>\n",
       "      <th>5763</th>\n",
       "      <td>1036060</td>\n",
       "      <td>OH</td>\n",
       "      <td>INDIVIDUAL</td>\n",
       "      <td>&lt; 1 year</td>\n",
       "      <td>koppers</td>\n",
       "      <td>G</td>\n",
       "      <td>MORTGAGE</td>\n",
       "      <td>2021-11-12 00:00:00</td>\n",
       "      <td>16-05-2021</td>\n",
       "      <td>13-10-2021</td>\n",
       "      <td>...</td>\n",
       "      <td>G2</td>\n",
       "      <td>60 months</td>\n",
       "      <td>Source Verified</td>\n",
       "      <td>65000.00</td>\n",
       "      <td>0.1506</td>\n",
       "      <td>743.38</td>\n",
       "      <td>0.2313</td>\n",
       "      <td>26300</td>\n",
       "      <td>26</td>\n",
       "      <td>16354</td>\n",
       "    </tr>\n",
       "    <tr>\n",
       "      <th>6238</th>\n",
       "      <td>1045885</td>\n",
       "      <td>TX</td>\n",
       "      <td>INDIVIDUAL</td>\n",
       "      <td>4 years</td>\n",
       "      <td>Ashbrook Simon-Hartley</td>\n",
       "      <td>G</td>\n",
       "      <td>MORTGAGE</td>\n",
       "      <td>2021-11-12 00:00:00</td>\n",
       "      <td>15-09-2021</td>\n",
       "      <td>13-02-2021</td>\n",
       "      <td>...</td>\n",
       "      <td>G5</td>\n",
       "      <td>60 months</td>\n",
       "      <td>Verified</td>\n",
       "      <td>145000.00</td>\n",
       "      <td>0.0830</td>\n",
       "      <td>720.80</td>\n",
       "      <td>0.2411</td>\n",
       "      <td>25000</td>\n",
       "      <td>31</td>\n",
       "      <td>31602</td>\n",
       "    </tr>\n",
       "    <tr>\n",
       "      <th>...</th>\n",
       "      <td>...</td>\n",
       "      <td>...</td>\n",
       "      <td>...</td>\n",
       "      <td>...</td>\n",
       "      <td>...</td>\n",
       "      <td>...</td>\n",
       "      <td>...</td>\n",
       "      <td>...</td>\n",
       "      <td>...</td>\n",
       "      <td>...</td>\n",
       "      <td>...</td>\n",
       "      <td>...</td>\n",
       "      <td>...</td>\n",
       "      <td>...</td>\n",
       "      <td>...</td>\n",
       "      <td>...</td>\n",
       "      <td>...</td>\n",
       "      <td>...</td>\n",
       "      <td>...</td>\n",
       "      <td>...</td>\n",
       "      <td>...</td>\n",
       "    </tr>\n",
       "    <tr>\n",
       "      <th>35496</th>\n",
       "      <td>774690</td>\n",
       "      <td>NY</td>\n",
       "      <td>INDIVIDUAL</td>\n",
       "      <td>7 years</td>\n",
       "      <td>Mary Manning walsh Home</td>\n",
       "      <td>G</td>\n",
       "      <td>RENT</td>\n",
       "      <td>2021-11-06 00:00:00</td>\n",
       "      <td>2021-12-11 00:00:00</td>\n",
       "      <td>2021-12-07 00:00:00</td>\n",
       "      <td>...</td>\n",
       "      <td>G4</td>\n",
       "      <td>60 months</td>\n",
       "      <td>Not Verified</td>\n",
       "      <td>35775.63</td>\n",
       "      <td>0.1298</td>\n",
       "      <td>348.01</td>\n",
       "      <td>0.2440</td>\n",
       "      <td>12000</td>\n",
       "      <td>5</td>\n",
       "      <td>4778</td>\n",
       "    </tr>\n",
       "    <tr>\n",
       "      <th>36899</th>\n",
       "      <td>1027164</td>\n",
       "      <td>WA</td>\n",
       "      <td>INDIVIDUAL</td>\n",
       "      <td>7 years</td>\n",
       "      <td>NaN</td>\n",
       "      <td>G</td>\n",
       "      <td>MORTGAGE</td>\n",
       "      <td>2021-11-11 00:00:00</td>\n",
       "      <td>16-02-2021</td>\n",
       "      <td>16-02-2021</td>\n",
       "      <td>...</td>\n",
       "      <td>G3</td>\n",
       "      <td>60 months</td>\n",
       "      <td>Source Verified</td>\n",
       "      <td>95000.00</td>\n",
       "      <td>0.0566</td>\n",
       "      <td>162.40</td>\n",
       "      <td>0.2352</td>\n",
       "      <td>5700</td>\n",
       "      <td>7</td>\n",
       "      <td>9593</td>\n",
       "    </tr>\n",
       "    <tr>\n",
       "      <th>37024</th>\n",
       "      <td>971928</td>\n",
       "      <td>VA</td>\n",
       "      <td>INDIVIDUAL</td>\n",
       "      <td>10+ years</td>\n",
       "      <td>VCUHS</td>\n",
       "      <td>G</td>\n",
       "      <td>MORTGAGE</td>\n",
       "      <td>2021-11-10 00:00:00</td>\n",
       "      <td>13-04-2021</td>\n",
       "      <td>2021-12-12 00:00:00</td>\n",
       "      <td>...</td>\n",
       "      <td>G1</td>\n",
       "      <td>60 months</td>\n",
       "      <td>Verified</td>\n",
       "      <td>95000.00</td>\n",
       "      <td>0.1853</td>\n",
       "      <td>841.24</td>\n",
       "      <td>0.2274</td>\n",
       "      <td>30000</td>\n",
       "      <td>43</td>\n",
       "      <td>20424</td>\n",
       "    </tr>\n",
       "    <tr>\n",
       "      <th>37261</th>\n",
       "      <td>781558</td>\n",
       "      <td>OR</td>\n",
       "      <td>INDIVIDUAL</td>\n",
       "      <td>3 years</td>\n",
       "      <td>NaN</td>\n",
       "      <td>F</td>\n",
       "      <td>RENT</td>\n",
       "      <td>2021-11-06 00:00:00</td>\n",
       "      <td>16-05-2021</td>\n",
       "      <td>16-05-2021</td>\n",
       "      <td>...</td>\n",
       "      <td>F5</td>\n",
       "      <td>60 months</td>\n",
       "      <td>Source Verified</td>\n",
       "      <td>66000.00</td>\n",
       "      <td>0.0280</td>\n",
       "      <td>180.20</td>\n",
       "      <td>0.2294</td>\n",
       "      <td>6400</td>\n",
       "      <td>9</td>\n",
       "      <td>10612</td>\n",
       "    </tr>\n",
       "    <tr>\n",
       "      <th>38515</th>\n",
       "      <td>831341</td>\n",
       "      <td>TX</td>\n",
       "      <td>INDIVIDUAL</td>\n",
       "      <td>3 years</td>\n",
       "      <td>Ahmad, Zavitsanos &amp; Anaipakos</td>\n",
       "      <td>G</td>\n",
       "      <td>MORTGAGE</td>\n",
       "      <td>2021-11-08 00:00:00</td>\n",
       "      <td>16-02-2021</td>\n",
       "      <td>13-04-2021</td>\n",
       "      <td>...</td>\n",
       "      <td>G5</td>\n",
       "      <td>60 months</td>\n",
       "      <td>Verified</td>\n",
       "      <td>150000.00</td>\n",
       "      <td>0.1715</td>\n",
       "      <td>413.70</td>\n",
       "      <td>0.2359</td>\n",
       "      <td>14500</td>\n",
       "      <td>63</td>\n",
       "      <td>19662</td>\n",
       "    </tr>\n",
       "  </tbody>\n",
       "</table>\n",
       "<p>78 rows × 24 columns</p>\n",
       "</div>"
      ],
      "text/plain": [
       "            id address_state application_type emp_length  \\\n",
       "1209    829918            VA       INDIVIDUAL   < 1 year   \n",
       "1646   1061914            NY       INDIVIDUAL    6 years   \n",
       "1672   1060753            FL       INDIVIDUAL    4 years   \n",
       "5763   1036060            OH       INDIVIDUAL   < 1 year   \n",
       "6238   1045885            TX       INDIVIDUAL    4 years   \n",
       "...        ...           ...              ...        ...   \n",
       "35496   774690            NY       INDIVIDUAL    7 years   \n",
       "36899  1027164            WA       INDIVIDUAL    7 years   \n",
       "37024   971928            VA       INDIVIDUAL  10+ years   \n",
       "37261   781558            OR       INDIVIDUAL    3 years   \n",
       "38515   831341            TX       INDIVIDUAL    3 years   \n",
       "\n",
       "                           emp_title grade home_ownership  \\\n",
       "1209                          KForce     G           RENT   \n",
       "1646                  JPMORGAN CHASE     G           RENT   \n",
       "1672          exclusive autoline inc     G           RENT   \n",
       "5763                         koppers     G       MORTGAGE   \n",
       "6238          Ashbrook Simon-Hartley     G       MORTGAGE   \n",
       "...                              ...   ...            ...   \n",
       "35496        Mary Manning walsh Home     G           RENT   \n",
       "36899                            NaN     G       MORTGAGE   \n",
       "37024                          VCUHS     G       MORTGAGE   \n",
       "37261                            NaN     F           RENT   \n",
       "38515  Ahmad, Zavitsanos & Anaipakos     G       MORTGAGE   \n",
       "\n",
       "                issue_date last_credit_pull_date    last_payment_date  ...  \\\n",
       "1209   2021-11-08 00:00:00            14-10-2021           14-06-2021  ...   \n",
       "1646   2021-11-12 00:00:00            16-04-2021           15-06-2021  ...   \n",
       "1672   2021-11-12 00:00:00            15-04-2021           15-04-2021  ...   \n",
       "5763   2021-11-12 00:00:00            16-05-2021           13-10-2021  ...   \n",
       "6238   2021-11-12 00:00:00            15-09-2021           13-02-2021  ...   \n",
       "...                    ...                   ...                  ...  ...   \n",
       "35496  2021-11-06 00:00:00   2021-12-11 00:00:00  2021-12-07 00:00:00  ...   \n",
       "36899  2021-11-11 00:00:00            16-02-2021           16-02-2021  ...   \n",
       "37024  2021-11-10 00:00:00            13-04-2021  2021-12-12 00:00:00  ...   \n",
       "37261  2021-11-06 00:00:00            16-05-2021           16-05-2021  ...   \n",
       "38515  2021-11-08 00:00:00            16-02-2021           13-04-2021  ...   \n",
       "\n",
       "      sub_grade        term  verification_status annual_income     dti  \\\n",
       "1209         G3   60 months      Source Verified     105000.00  0.0751   \n",
       "1646         G1   60 months         Not Verified      85000.00  0.0702   \n",
       "1672         G4   60 months             Verified      60000.00  0.1774   \n",
       "5763         G2   60 months      Source Verified      65000.00  0.1506   \n",
       "6238         G5   60 months             Verified     145000.00  0.0830   \n",
       "...         ...         ...                  ...           ...     ...   \n",
       "35496        G4   60 months         Not Verified      35775.63  0.1298   \n",
       "36899        G3   60 months      Source Verified      95000.00  0.0566   \n",
       "37024        G1   60 months             Verified      95000.00  0.1853   \n",
       "37261        F5   60 months      Source Verified      66000.00  0.0280   \n",
       "38515        G5   60 months             Verified     150000.00  0.1715   \n",
       "\n",
       "      installment int_rate  loan_amount  total_acc  total_payment  \n",
       "1209       134.91   0.2285         4800         12           4867  \n",
       "1646       628.13   0.2274        22400         16          26377  \n",
       "1672       715.75   0.2391        24925         26          37823  \n",
       "5763       743.38   0.2313        26300         26          16354  \n",
       "6238       720.80   0.2411        25000         31          31602  \n",
       "...           ...      ...          ...        ...            ...  \n",
       "35496      348.01   0.2440        12000          5           4778  \n",
       "36899      162.40   0.2352         5700          7           9593  \n",
       "37024      841.24   0.2274        30000         43          20424  \n",
       "37261      180.20   0.2294         6400          9          10612  \n",
       "38515      413.70   0.2359        14500         63          19662  \n",
       "\n",
       "[78 rows x 24 columns]"
      ]
     },
     "execution_count": 96,
     "metadata": {},
     "output_type": "execute_result"
    }
   ],
   "source": [
    "df[(df[\"int_rate\"]<lower_limit)|(df[\"int_rate\"]>upper_limit)]"
   ]
  },
  {
   "cell_type": "code",
   "execution_count": 97,
   "id": "0b673bdf-def1-4aaf-b24a-c4926efa23df",
   "metadata": {},
   "outputs": [
    {
     "data": {
      "image/png": "[encoded data removed]",
      "text/plain": [
       "<Figure size 640x480 with 1 Axes>"
      ]
     },
     "metadata": {},
     "output_type": "display_data"
    }
   ],
   "source": [
    "sns.boxplot(x=df[\"dti\"])\n",
    "plt.show()"
   ]
  },
  {
   "cell_type": "code",
   "execution_count": 98,
   "id": "ce8c2b12-38ad-4052-a3c2-bc1b8958b395",
   "metadata": {},
   "outputs": [
    {
     "name": "stdout",
     "output_type": "stream",
     "text": [
      "Q1 0.0821\n",
      "Q3 0.1859\n",
      "IQR 0.1038\n",
      "lower_limit -0.0736\n",
      "upper_limit 0.3416\n"
     ]
    }
   ],
   "source": [
    "Q1=df[\"dti\"].quantile(0.25)\n",
    "print(\"Q1\",Q1)\n",
    "Q3=df[\"dti\"].quantile(0.75)\n",
    "print(\"Q3\",Q3)\n",
    "IQR=Q3-Q1\n",
    "print(\"IQR\",IQR)\n",
    "lower_limit=Q1-(IQR*1.5)\n",
    "print(\"lower_limit\",lower_limit)\n",
    "upper_limit=Q3+(IQR*1.5)\n",
    "print(\"upper_limit\",upper_limit)"
   ]
  },
  {
   "cell_type": "code",
   "execution_count": 99,
   "id": "1bfd92b5-72e9-4a6f-bc83-1b5f5ff61f68",
   "metadata": {},
   "outputs": [
    {
     "data": {
      "text/html": [
       "<div>\n",
       "<style scoped>\n",
       "    .dataframe tbody tr th:only-of-type {\n",
       "        vertical-align: middle;\n",
       "    }\n",
       "\n",
       "    .dataframe tbody tr th {\n",
       "        vertical-align: top;\n",
       "    }\n",
       "\n",
       "    .dataframe thead th {\n",
       "        text-align: right;\n",
       "    }\n",
       "</style>\n",
       "<table border=\"1\" class=\"dataframe\">\n",
       "  <thead>\n",
       "    <tr style=\"text-align: right;\">\n",
       "      <th></th>\n",
       "      <th>id</th>\n",
       "      <th>address_state</th>\n",
       "      <th>application_type</th>\n",
       "      <th>emp_length</th>\n",
       "      <th>emp_title</th>\n",
       "      <th>grade</th>\n",
       "      <th>home_ownership</th>\n",
       "      <th>issue_date</th>\n",
       "      <th>last_credit_pull_date</th>\n",
       "      <th>last_payment_date</th>\n",
       "      <th>...</th>\n",
       "      <th>sub_grade</th>\n",
       "      <th>term</th>\n",
       "      <th>verification_status</th>\n",
       "      <th>annual_income</th>\n",
       "      <th>dti</th>\n",
       "      <th>installment</th>\n",
       "      <th>int_rate</th>\n",
       "      <th>loan_amount</th>\n",
       "      <th>total_acc</th>\n",
       "      <th>total_payment</th>\n",
       "    </tr>\n",
       "  </thead>\n",
       "  <tbody>\n",
       "  </tbody>\n",
       "</table>\n",
       "<p>0 rows × 24 columns</p>\n",
       "</div>"
      ],
      "text/plain": [
       "Empty DataFrame\n",
       "Columns: [id, address_state, application_type, emp_length, emp_title, grade, home_ownership, issue_date, last_credit_pull_date, last_payment_date, loan_status, next_payment_date, member_id, purpose, sub_grade, term, verification_status, annual_income, dti, installment, int_rate, loan_amount, total_acc, total_payment]\n",
       "Index: []\n",
       "\n",
       "[0 rows x 24 columns]"
      ]
     },
     "execution_count": 99,
     "metadata": {},
     "output_type": "execute_result"
    }
   ],
   "source": [
    "df[(df[\"dti\"]<lower_limit)|(df[\"dti\"]>upper_limit)]"
   ]
  },
  {
   "cell_type": "code",
   "execution_count": 100,
   "id": "3ec04037-6a98-405c-b784-5523026f65bf",
   "metadata": {},
   "outputs": [
    {
     "data": {
      "image/png": "[encoded data removed]",
      "text/plain": [
       "<Figure size 640x480 with 1 Axes>"
      ]
     },
     "metadata": {},
     "output_type": "display_data"
    }
   ],
   "source": [
    "sns.histplot(df[\"application_type\"],bins=0.05,kde=True)\n",
    "plt.show()"
   ]
  },
  {
   "cell_type": "code",
   "execution_count": 101,
   "id": "9df52b86-cdda-4a67-9956-2898c74a4877",
   "metadata": {},
   "outputs": [
    {
     "data": {
      "image/png": "[encoded data removed]",
      "text/plain": [
       "<Figure size 640x480 with 1 Axes>"
      ]
     },
     "metadata": {},
     "output_type": "display_data"
    }
   ],
   "source": [
    "sns.histplot(df['loan_amount'],bins=50)\n",
    "plt.title('Distribution of loan amount')\n",
    "plt.xlabel('Loan Amount')\n",
    "plt.ylabel('Frequency')\n",
    "plt.show()\n",
    "\n",
    "\n",
    "\n",
    "## Here we can able to see that the more amount of loan amount is between 5000 to 10000. \n",
    "## When it comes from 10000, we can able to see the gradual fall in the amount of loan preffered."
   ]
  },
  {
   "cell_type": "code",
   "execution_count": 102,
   "id": "962bb23a-d49f-4e52-9a5c-004be153d9e7",
   "metadata": {},
   "outputs": [
    {
     "data": {
      "image/png": "[encoded data removed]",
      "text/plain": [
       "<Figure size 640x480 with 1 Axes>"
      ]
     },
     "metadata": {},
     "output_type": "display_data"
    }
   ],
   "source": [
    "sns.histplot(df['total_payment'],bins=50)\n",
    "plt.title('Distribution of tatal payment')\n",
    "plt.xlabel('Total Payment')\n",
    "plt.ylabel('Frequency')\n",
    "plt.show()\n",
    "\n",
    "\n",
    "\n",
    "# The maximum amount of total payments are below 20000.\n",
    "# We can able to see the gradual deccrease in the total payment till 60000."
   ]
  },
  {
   "cell_type": "code",
   "execution_count": 103,
   "id": "600defac-b38f-41f9-8250-841409436e3c",
   "metadata": {},
   "outputs": [],
   "source": [
    "df['issue_date']=pd.to_datetime(df['issue_date'])\n",
    "df['last_payment_date']=pd.to_datetime(df['last_payment_date'])\n",
    "df['last_credit_pull_date']=pd.to_datetime(df['last_credit_pull_date'])"
   ]
  },
  {
   "cell_type": "code",
   "execution_count": 108,
   "id": "82f67234-8806-478f-becd-cc1ad6bda591",
   "metadata": {},
   "outputs": [
    {
     "data": {
      "text/plain": [
       "month\n",
       "2021-01        2\n",
       "2021-02        4\n",
       "2021-05        1\n",
       "2021-07      253\n",
       "2021-08     1561\n",
       "2021-09     4706\n",
       "2021-10    11197\n",
       "2021-11    20851\n",
       "2021-12        1\n",
       "Freq: M, dtype: int64"
      ]
     },
     "execution_count": 108,
     "metadata": {},
     "output_type": "execute_result"
    }
   ],
   "source": [
    "from datetime import datetime\n",
    "# total loan applications\n",
    "total_loan_applications = len(df)\n",
    "total_loan_applications\n",
    "\n",
    "# month-to-date (MTD) Loan Applications\n",
    "current_month = datetime.now().month\n",
    "mtd_loan_applications = len(df[df['issue_date'].dt.month == current_month])\n",
    "mtd_loan_applications\n",
    "\n",
    "# month-over-month(MoM) loan applications\n",
    "df['month'] = df['issue_date'].dt.to_period('M')\n",
    "loan_applications_by_month = df.groupby('month').size()\n",
    "loan_applications_by_month_pct_change = loan_applications_by_month.pct_change()\n",
    "loan_applications_by_month"
   ]
  },
  {
   "cell_type": "code",
   "execution_count": 127,
   "id": "80cc144f-9251-4c87-9bdc-6e17d3f386fd",
   "metadata": {},
   "outputs": [
    {
     "data": {
      "text/plain": [
       "month\n",
       "2021-01           NaN\n",
       "2021-02      1.000000\n",
       "2021-05     -0.750000\n",
       "2021-07    252.000000\n",
       "2021-08      5.169960\n",
       "2021-09      2.014734\n",
       "2021-10      1.379303\n",
       "2021-11      0.862195\n",
       "2021-12     -0.999952\n",
       "Freq: M, dtype: float64"
      ]
     },
     "execution_count": 127,
     "metadata": {},
     "output_type": "execute_result"
    }
   ],
   "source": [
    "loan_applications_by_month_pct_change"
   ]
  },
  {
   "cell_type": "code",
   "execution_count": 106,
   "id": "d4a81568-33ce-4278-ad29-e745a2130efe",
   "metadata": {},
   "outputs": [
    {
     "data": {
      "text/plain": [
       "435757075"
      ]
     },
     "execution_count": 106,
     "metadata": {},
     "output_type": "execute_result"
    }
   ],
   "source": [
    "# Total Funded Amount\n",
    "total_funded_amount = df['loan_amount'].sum()\n",
    "total_funded_amount"
   ]
  },
  {
   "cell_type": "code",
   "execution_count": 107,
   "id": "7a558caa-4099-48e1-88ae-c3d9ee6833ca",
   "metadata": {},
   "outputs": [
    {
     "data": {
      "text/plain": [
       "2232675"
      ]
     },
     "execution_count": 107,
     "metadata": {},
     "output_type": "execute_result"
    }
   ],
   "source": [
    "# MTD funded amount\n",
    "mtd_funded_amount = df[df['issue_date'].dt.month == current_month]['loan_amount'].sum()\n",
    "mtd_funded_amount"
   ]
  },
  {
   "cell_type": "code",
   "execution_count": 110,
   "id": "c760ffa5-6fa9-489a-a900-fd8944d52079",
   "metadata": {},
   "outputs": [
    {
     "data": {
      "text/plain": [
       "month\n",
       "2021-01         6500\n",
       "2021-02        36550\n",
       "2021-05        12000\n",
       "2021-07      2232675\n",
       "2021-08     14385275\n",
       "2021-09     46295750\n",
       "2021-10    119568600\n",
       "2021-11    253214725\n",
       "2021-12         5000\n",
       "Freq: M, Name: loan_amount, dtype: int64"
      ]
     },
     "execution_count": 110,
     "metadata": {},
     "output_type": "execute_result"
    }
   ],
   "source": [
    "# MoM Funded Amount\n",
    "funded_amount_by_month = df.groupby('month')['loan_amount'].sum()\n",
    "funded_amount_by_month_pct_change = funded_amount_by_month.pct_change()\n",
    "funded_amount_by_month"
   ]
  },
  {
   "cell_type": "code",
   "execution_count": 126,
   "id": "a29a309b-1fe2-41cc-8337-c42393a84437",
   "metadata": {},
   "outputs": [
    {
     "data": {
      "text/plain": [
       "month\n",
       "2021-01           NaN\n",
       "2021-02      4.623077\n",
       "2021-05     -0.671683\n",
       "2021-07    185.056250\n",
       "2021-08      5.443067\n",
       "2021-09      2.218274\n",
       "2021-10      1.582712\n",
       "2021-11      1.117736\n",
       "2021-12     -0.999980\n",
       "Freq: M, Name: loan_amount, dtype: float64"
      ]
     },
     "execution_count": 126,
     "metadata": {},
     "output_type": "execute_result"
    }
   ],
   "source": [
    "funded_amount_by_month_pct_change"
   ]
  },
  {
   "cell_type": "code",
   "execution_count": 112,
   "id": "965dbb84-64ab-4ea4-8216-2808bedcb7cb",
   "metadata": {},
   "outputs": [
    {
     "data": {
      "text/plain": [
       "473070933"
      ]
     },
     "execution_count": 112,
     "metadata": {},
     "output_type": "execute_result"
    }
   ],
   "source": [
    "# Total_amount_recieved\n",
    "total_amount_recieved = df['total_payment'].sum()\n",
    "total_amount_recieved"
   ]
  },
  {
   "cell_type": "code",
   "execution_count": 113,
   "id": "d04d7d88-0d71-4e6f-af13-70f8492ae2b9",
   "metadata": {},
   "outputs": [
    {
     "data": {
      "text/plain": [
       "23157634"
      ]
     },
     "execution_count": 113,
     "metadata": {},
     "output_type": "execute_result"
    }
   ],
   "source": [
    "# MTD amount recieved\n",
    "mtd_amount_recieved = df[df['last_payment_date'].dt.month == current_month]['total_payment'].sum()\n",
    "mtd_amount_recieved"
   ]
  },
  {
   "cell_type": "code",
   "execution_count": 114,
   "id": "0f9ce7ec-f4d0-4690-b578-46de64016ec9",
   "metadata": {},
   "outputs": [
    {
     "data": {
      "text/plain": [
       "month\n",
       "2021-01         7774\n",
       "2021-02        23460\n",
       "2021-05         3522\n",
       "2021-07      2227604\n",
       "2021-08     14065428\n",
       "2021-09     50344561\n",
       "2021-10    128148384\n",
       "2021-11    278244337\n",
       "2021-12         5863\n",
       "Freq: M, Name: total_payment, dtype: int64"
      ]
     },
     "execution_count": 114,
     "metadata": {},
     "output_type": "execute_result"
    }
   ],
   "source": [
    "# MoM Amount Recieved\n",
    "amount_recieved_by_month = df.groupby('month')['total_payment'].sum()\n",
    "amount_recieved_by_month_pct_change = amount_recieved_by_month.pct_change()\n",
    "amount_recieved_by_month"
   ]
  },
  {
   "cell_type": "code",
   "execution_count": 125,
   "id": "8734545b-94f7-4570-b266-e09cd850ad06",
   "metadata": {},
   "outputs": [
    {
     "data": {
      "text/plain": [
       "month\n",
       "2021-01           NaN\n",
       "2021-02      2.017751\n",
       "2021-05     -0.849872\n",
       "2021-07    631.482680\n",
       "2021-08      5.314151\n",
       "2021-09      2.579312\n",
       "2021-10      1.545427\n",
       "2021-11      1.171267\n",
       "2021-12     -0.999979\n",
       "Freq: M, Name: total_payment, dtype: float64"
      ]
     },
     "execution_count": 125,
     "metadata": {},
     "output_type": "execute_result"
    }
   ],
   "source": [
    "amount_recieved_by_month_pct_change"
   ]
  },
  {
   "cell_type": "code",
   "execution_count": 116,
   "id": "1a6d3eeb-f440-443f-b646-c44f0a604ae5",
   "metadata": {},
   "outputs": [
    {
     "data": {
      "text/plain": [
       "0.12048831397760265"
      ]
     },
     "execution_count": 116,
     "metadata": {},
     "output_type": "execute_result"
    }
   ],
   "source": [
    "# average interest rate\n",
    "average_interest_rate = df['int_rate'].mean()\n",
    "average_interest_rate"
   ]
  },
  {
   "cell_type": "code",
   "execution_count": 117,
   "id": "258a53f6-393d-49d9-988a-faf21fc91359",
   "metadata": {},
   "outputs": [
    {
     "data": {
      "text/plain": [
       "0.10341778656126481"
      ]
     },
     "execution_count": 117,
     "metadata": {},
     "output_type": "execute_result"
    }
   ],
   "source": [
    "# MTD Average Interest Rate\n",
    "mtd_average_interest_rate = df[df['issue_date'].dt.month == current_month]['int_rate'].mean()\n",
    "mtd_average_interest_rate"
   ]
  },
  {
   "cell_type": "code",
   "execution_count": 123,
   "id": "f44873ab-9eab-4044-9683-456fabc23196",
   "metadata": {},
   "outputs": [
    {
     "data": {
      "text/plain": [
       "month\n",
       "2021-01    0.123350\n",
       "2021-02    0.114375\n",
       "2021-05    0.159600\n",
       "2021-07    0.103418\n",
       "2021-08    0.111515\n",
       "2021-09    0.121863\n",
       "2021-10    0.117712\n",
       "2021-11    0.122547\n",
       "2021-12    0.106500\n",
       "Freq: M, Name: int_rate, dtype: float64"
      ]
     },
     "execution_count": 123,
     "metadata": {},
     "output_type": "execute_result"
    }
   ],
   "source": [
    "# MoM Average Interest Rate\n",
    "average_interest_rate_by_month = df.groupby('month')['int_rate'].mean()\n",
    "average_interest_rate_by_month_pct_change = average_interest_rate_by_month.pct_change()\n",
    "average_interest_rate_by_month"
   ]
  },
  {
   "cell_type": "code",
   "execution_count": 124,
   "id": "dbc0d7f6-b538-4580-8e06-2dfc75bb65d2",
   "metadata": {},
   "outputs": [
    {
     "data": {
      "text/plain": [
       "month\n",
       "2021-01         NaN\n",
       "2021-02   -0.072760\n",
       "2021-05    0.395410\n",
       "2021-07   -0.352019\n",
       "2021-08    0.078294\n",
       "2021-09    0.092798\n",
       "2021-10   -0.034060\n",
       "2021-11    0.041073\n",
       "2021-12   -0.130948\n",
       "Freq: M, Name: int_rate, dtype: float64"
      ]
     },
     "execution_count": 124,
     "metadata": {},
     "output_type": "execute_result"
    }
   ],
   "source": [
    "average_interest_rate_by_month_pct_change"
   ]
  },
  {
   "cell_type": "code",
   "execution_count": 129,
   "id": "066491d0-b7bd-4746-b88b-d805ffd81550",
   "metadata": {},
   "outputs": [
    {
     "data": {
      "text/plain": [
       "0.13327433119037743"
      ]
     },
     "execution_count": 129,
     "metadata": {},
     "output_type": "execute_result"
    }
   ],
   "source": [
    "# Average Debt-to-Income Ratio(DTI):\n",
    "average_dti = df['dti'].mean()\n",
    "average_dti"
   ]
  },
  {
   "cell_type": "code",
   "execution_count": 130,
   "id": "787e4bbd-4c57-43ba-ab91-3bd4c622545c",
   "metadata": {},
   "outputs": [
    {
     "data": {
      "text/plain": [
       "0.10314150197628458"
      ]
     },
     "execution_count": 130,
     "metadata": {},
     "output_type": "execute_result"
    }
   ],
   "source": [
    "# MTD Average DTI\n",
    "mtd_average_dti = df[df['issue_date'].dt.month == current_month]['dti'].mean()\n",
    "mtd_average_dti"
   ]
  },
  {
   "cell_type": "code",
   "execution_count": 131,
   "id": "99517b2b-ce95-44a4-b1b2-7e4691ac8dad",
   "metadata": {},
   "outputs": [
    {
     "data": {
      "text/plain": [
       "month\n",
       "2021-01    0.038300\n",
       "2021-02    0.056025\n",
       "2021-05    0.208800\n",
       "2021-07    0.103142\n",
       "2021-08    0.120138\n",
       "2021-09    0.123820\n",
       "2021-10    0.129825\n",
       "2021-11    0.138629\n",
       "2021-12    0.139200\n",
       "Freq: M, Name: dti, dtype: float64"
      ]
     },
     "execution_count": 131,
     "metadata": {},
     "output_type": "execute_result"
    }
   ],
   "source": [
    "# MoM Average DTI\n",
    "average_dti_by_month = df.groupby('month')['dti'].mean()\n",
    "average_dti_by_month"
   ]
  },
  {
   "cell_type": "code",
   "execution_count": 132,
   "id": "78540cfe-ce1f-475f-a4ed-88e844faabbe",
   "metadata": {},
   "outputs": [
    {
     "data": {
      "text/plain": [
       "month\n",
       "2021-01         NaN\n",
       "2021-02    0.462794\n",
       "2021-05    2.726908\n",
       "2021-07   -0.506027\n",
       "2021-08    0.164787\n",
       "2021-09    0.030648\n",
       "2021-10    0.048501\n",
       "2021-11    0.067817\n",
       "2021-12    0.004115\n",
       "Freq: M, Name: dti, dtype: float64"
      ]
     },
     "execution_count": 132,
     "metadata": {},
     "output_type": "execute_result"
    }
   ],
   "source": [
    "average_dti_by_month_pct_change = average_dti_by_month.pct_change()\n",
    "average_dti_by_month_pct_change"
   ]
  },
  {
   "cell_type": "code",
   "execution_count": 133,
   "id": "1f92b19f-54f1-40f6-89c4-53e43f2e1840",
   "metadata": {},
   "outputs": [
    {
     "data": {
      "image/png": "[encoded data removed]",
      "text/plain": [
       "<Figure size 1200x600 with 1 Axes>"
      ]
     },
     "metadata": {},
     "output_type": "display_data"
    }
   ],
   "source": [
    "# Line Chart for Monthly Trends\n",
    "df.set_index('issue_date', inplace = True)\n",
    "monthly_trends = df.resample('M').agg({'loan_amount':'sum','total_payment':'sum','int_rate':'mean','dti':'mean'})\n",
    "\n",
    "monthly_trends[['loan_amount','total_payment']].plot(kind='line', figsize=(12, 6))\n",
    "plt.title('Monthly Trends in loan Amount and Total Payment')\n",
    "plt.xlabel('Date')\n",
    "plt.ylabel('Amount')\n",
    "plt.show()"
   ]
  },
  {
   "cell_type": "code",
   "execution_count": 134,
   "id": "e1090ff8-7cda-4049-a9db-14a23147e0fe",
   "metadata": {},
   "outputs": [
    {
     "data": {
      "image/png": "[encoded data removed]",
      "text/plain": [
       "<Figure size 640x480 with 1 Axes>"
      ]
     },
     "metadata": {},
     "output_type": "display_data"
    }
   ],
   "source": [
    "# Bar chart for Regional Analysis\n",
    "regional_data = df.groupby('address_state').agg({'loan_amount':'sum','total_payment':'sum','int_rate':'mean','dti':'mean'}).reset_index()\n",
    "\n",
    "sns.barplot(x='address_state',y='loan_amount',data=regional_data)\n",
    "plt.title('Total Funded Amount by State')\n",
    "plt.xlabel('State')\n",
    "plt.ylabel('Total Funded Amount')\n",
    "plt.xticks(rotation=90)\n",
    "plt.show()"
   ]
  },
  {
   "cell_type": "code",
   "execution_count": 135,
   "id": "5de1dbad-5606-421f-88ff-ed8266698f0a",
   "metadata": {},
   "outputs": [
    {
     "data": {
      "image/png": "[encoded data removed]",
      "text/plain": [
       "<Figure size 640x480 with 1 Axes>"
      ]
     },
     "metadata": {},
     "output_type": "display_data"
    }
   ],
   "source": [
    "# Bar Chart for Loan Term Analysis\n",
    "loan_term_data = df['term'].value_counts().reset_index()\n",
    "loan_term_data.columns = ['term','count']\n",
    "\n",
    "sns.barplot(x='term', y='count', data=loan_term_data)\n",
    "plt.title('Loan Term Analysis')\n",
    "plt.xlabel('Loan Term')\n",
    "plt.ylabel('Count')\n",
    "plt.show()\n",
    "\n",
    "\n",
    "# The bar graph explains that the loan term for 36 months it is 25000 above, when it comes to 60 months of loan term it is upto 10000."
   ]
  },
  {
   "cell_type": "code",
   "execution_count": 136,
   "id": "46b6d8a5-1ed6-4514-b499-c5323b16b385",
   "metadata": {},
   "outputs": [
    {
     "data": {
      "image/png": "[encoded data removed]",
      "text/plain": [
       "<Figure size 640x480 with 1 Axes>"
      ]
     },
     "metadata": {},
     "output_type": "display_data"
    }
   ],
   "source": [
    "## Bar Chart for Employment Length Analysis\n",
    "emp_length_data = df.groupby('emp_length').agg({\n",
    "    'loan_amount': 'sum',\n",
    "    'total_payment': 'sum',\n",
    "    'int_rate': 'mean',\n",
    "    'dti': 'mean'\n",
    "}).reset_index()\n",
    "\n",
    "sns.barplot(x='emp_length', y='loan_amount', data=emp_length_data)\n",
    "plt.title('Total Funded Amount by Employment Length')\n",
    "plt.xlabel('Employment Length')\n",
    "plt.ylabel('Total Funded Amount')\n",
    "plt.xticks(rotation=45)\n",
    "plt.show()\n",
    "\n",
    "\n",
    "# Here the graph represents that the total amount funded for the all employees and their length\n",
    "# For one year the funded amount was 0.3% and for 10+ years the funded amount was 1.1 above\n",
    "# "
   ]
  },
  {
   "cell_type": "code",
   "execution_count": 182,
   "id": "e1dac13a-1b43-4d1f-912d-8475623d890d",
   "metadata": {},
   "outputs": [
    {
     "data": {
      "image/png": "[encoded data removed]",
      "text/plain": [
       "<Figure size 1400x700 with 1 Axes>"
      ]
     },
     "metadata": {},
     "output_type": "display_data"
    }
   ],
   "source": [
    "purpose_analysis = df.groupby('purpose')['loan_amount'].sum().reset_index()\n",
    "plt.figure(figsize=(14,7))\n",
    "sns.barplot(x='purpose',y='loan_amount', data=purpose_analysis)\n",
    "plt.title('Total Funded Amount by Loan Purpose')\n",
    "plt.xlabel('Loan Purpose')\n",
    "plt.ylabel('Total Funded Amount')\n",
    "plt.xticks(rotation=90)\n",
    "plt.show()"
   ]
  },
  {
   "cell_type": "code",
   "execution_count": 185,
   "id": "16e19612-9ca9-42b6-954f-303657d3a065",
   "metadata": {},
   "outputs": [
    {
     "data": {
      "image/png": "[encoded data removed]",
      "text/plain": [
       "<Figure size 1000x600 with 1 Axes>"
      ]
     },
     "metadata": {},
     "output_type": "display_data"
    }
   ],
   "source": [
    "home_ownership_analysis = df.groupby('home_ownership')['loan_amount'].sum().reset_index()\n",
    "plt.figure(figsize=(10, 6))\n",
    "sns.barplot(x='home_ownership',y='loan_amount',data=home_ownership_analysis)\n",
    "plt.title('Total Funded Amount by Home Ownership')\n",
    "plt.xlabel('Home Ownership')\n",
    "plt.ylabel('Total Funded Amount')\n",
    "plt.show()"
   ]
  },
  {
   "cell_type": "code",
   "execution_count": 186,
   "id": "4a2d0bfd-83ab-425d-a0cb-b80375b9e1c4",
   "metadata": {},
   "outputs": [
    {
     "data": {
      "text/html": [
       "<div>\n",
       "<style scoped>\n",
       "    .dataframe tbody tr th:only-of-type {\n",
       "        vertical-align: middle;\n",
       "    }\n",
       "\n",
       "    .dataframe tbody tr th {\n",
       "        vertical-align: top;\n",
       "    }\n",
       "\n",
       "    .dataframe thead th {\n",
       "        text-align: right;\n",
       "    }\n",
       "</style>\n",
       "<table border=\"1\" class=\"dataframe\">\n",
       "  <thead>\n",
       "    <tr style=\"text-align: right;\">\n",
       "      <th></th>\n",
       "      <th>id</th>\n",
       "      <th>address_state</th>\n",
       "      <th>application_type</th>\n",
       "      <th>emp_length</th>\n",
       "      <th>emp_title</th>\n",
       "      <th>grade</th>\n",
       "      <th>home_ownership</th>\n",
       "      <th>issue_date</th>\n",
       "      <th>last_credit_pull_date</th>\n",
       "      <th>last_payment_date</th>\n",
       "      <th>...</th>\n",
       "      <th>sub_grade</th>\n",
       "      <th>term</th>\n",
       "      <th>verification_status</th>\n",
       "      <th>annual_income</th>\n",
       "      <th>dti</th>\n",
       "      <th>installment</th>\n",
       "      <th>int_rate</th>\n",
       "      <th>loan_amount</th>\n",
       "      <th>total_acc</th>\n",
       "      <th>total_payment</th>\n",
       "    </tr>\n",
       "  </thead>\n",
       "  <tbody>\n",
       "    <tr>\n",
       "      <th>0</th>\n",
       "      <td>1077430</td>\n",
       "      <td>GA</td>\n",
       "      <td>INDIVIDUAL</td>\n",
       "      <td>&lt; 1 year</td>\n",
       "      <td>Ryder</td>\n",
       "      <td>C</td>\n",
       "      <td>RENT</td>\n",
       "      <td>2021-11-02 00:00:00</td>\n",
       "      <td>13-09-2021</td>\n",
       "      <td>13-04-2021</td>\n",
       "      <td>...</td>\n",
       "      <td>C4</td>\n",
       "      <td>60 months</td>\n",
       "      <td>Source Verified</td>\n",
       "      <td>30000.0</td>\n",
       "      <td>0.0100</td>\n",
       "      <td>59.83</td>\n",
       "      <td>0.1527</td>\n",
       "      <td>2500</td>\n",
       "      <td>4</td>\n",
       "      <td>1009</td>\n",
       "    </tr>\n",
       "    <tr>\n",
       "      <th>1</th>\n",
       "      <td>1072053</td>\n",
       "      <td>CA</td>\n",
       "      <td>INDIVIDUAL</td>\n",
       "      <td>9 years</td>\n",
       "      <td>MKC Accounting</td>\n",
       "      <td>E</td>\n",
       "      <td>RENT</td>\n",
       "      <td>2021-01-01 00:00:00</td>\n",
       "      <td>14-12-2021</td>\n",
       "      <td>15-01-2021</td>\n",
       "      <td>...</td>\n",
       "      <td>E1</td>\n",
       "      <td>36 months</td>\n",
       "      <td>Source Verified</td>\n",
       "      <td>48000.0</td>\n",
       "      <td>0.0535</td>\n",
       "      <td>109.43</td>\n",
       "      <td>0.1864</td>\n",
       "      <td>3000</td>\n",
       "      <td>4</td>\n",
       "      <td>3939</td>\n",
       "    </tr>\n",
       "  </tbody>\n",
       "</table>\n",
       "<p>2 rows × 24 columns</p>\n",
       "</div>"
      ],
      "text/plain": [
       "        id address_state application_type emp_length       emp_title grade  \\\n",
       "0  1077430            GA       INDIVIDUAL   < 1 year           Ryder     C   \n",
       "1  1072053            CA       INDIVIDUAL    9 years  MKC Accounting     E   \n",
       "\n",
       "  home_ownership           issue_date last_credit_pull_date last_payment_date  \\\n",
       "0           RENT  2021-11-02 00:00:00            13-09-2021        13-04-2021   \n",
       "1           RENT  2021-01-01 00:00:00            14-12-2021        15-01-2021   \n",
       "\n",
       "   ... sub_grade        term  verification_status annual_income     dti  \\\n",
       "0  ...        C4   60 months      Source Verified       30000.0  0.0100   \n",
       "1  ...        E1   36 months      Source Verified       48000.0  0.0535   \n",
       "\n",
       "  installment int_rate  loan_amount  total_acc  total_payment  \n",
       "0       59.83   0.1527         2500          4           1009  \n",
       "1      109.43   0.1864         3000          4           3939  \n",
       "\n",
       "[2 rows x 24 columns]"
      ]
     },
     "execution_count": 186,
     "metadata": {},
     "output_type": "execute_result"
    }
   ],
   "source": [
    "df=pd.read_excel(\"//Applications//financial_loan.xlsx\")\n",
    "df.head(2)"
   ]
  },
  {
   "cell_type": "code",
   "execution_count": 159,
   "id": "9d9c0a39-ae21-4bc3-9588-9781aa6979d8",
   "metadata": {},
   "outputs": [
    {
     "data": {
      "text/plain": [
       "38576"
      ]
     },
     "execution_count": 159,
     "metadata": {},
     "output_type": "execute_result"
    }
   ],
   "source": [
    "total_loan_applications = len(df)\n",
    "total_loan_applications"
   ]
  },
  {
   "cell_type": "code",
   "execution_count": 161,
   "id": "8ec35e5f-eae6-4055-a16d-d3619daba1bf",
   "metadata": {},
   "outputs": [
    {
     "data": {
      "text/plain": [
       "0        False\n",
       "1        False\n",
       "2        False\n",
       "3        False\n",
       "4        False\n",
       "         ...  \n",
       "38571     True\n",
       "38572     True\n",
       "38573    False\n",
       "38574    False\n",
       "38575    False\n",
       "Length: 38576, dtype: bool"
      ]
     },
     "execution_count": 161,
     "metadata": {},
     "output_type": "execute_result"
    }
   ],
   "source": [
    "# Define criteria for good and bad loans \n",
    "good_loan_criteria = ((df['loan_status'] == 'Current') &\n",
    "                      (df['grade'].isin(['A', 'B', 'C'])) &\n",
    "                      (df['dti'] < 0.4))\n",
    "good_loan_criteria"
   ]
  },
  {
   "cell_type": "code",
   "execution_count": 165,
   "id": "768cb506-f23d-43a7-b5a3-9afa0b989ccd",
   "metadata": {},
   "outputs": [
    {
     "data": {
      "text/plain": [
       "0        False\n",
       "1        False\n",
       "2        False\n",
       "3        False\n",
       "4        False\n",
       "         ...  \n",
       "38571    False\n",
       "38572    False\n",
       "38573    False\n",
       "38574    False\n",
       "38575    False\n",
       "Length: 38576, dtype: bool"
      ]
     },
     "execution_count": 165,
     "metadata": {},
     "output_type": "execute_result"
    }
   ],
   "source": [
    "bad_loan_criteria = ((df['loan_status'] == 'Current') &\n",
    "                      (df['grade'].isin(['D', 'E', 'F'])) &\n",
    "                      (df['dti'] >= 0.4))\n",
    "bad_loan_criteria"
   ]
  },
  {
   "cell_type": "code",
   "execution_count": 178,
   "id": "871ebaec-bcfc-4f41-aaec-fdc42b69e900",
   "metadata": {},
   "outputs": [
    {
     "name": "stdout",
     "output_type": "stream",
     "text": [
      "Good Loans:\n",
      "1. Good Loan Application Percentage: 1.60%\n",
      "2. Good Loan Applications: 619\n",
      "3. Good Loan Funded Amount: $10368900.00\n",
      "4. Good Loan Total Received Amount: $12549085.00\n",
      "\n",
      "Bad Loans:\n",
      "5. Bad Loan Application Percentage: 32.32%\n",
      "6. Bad Loan Applications: 12470\n",
      "7. Bad Loan Funded Amount: $166838400.00\n",
      "8. Bad Loan Total Received Amount: $166957706.00\n"
     ]
    }
   ],
   "source": [
    "# Define criteria for good and bad loans\n",
    "good_loan_criteria = (\n",
    "    (df['loan_status'] == 'Current') &\n",
    "    (df['grade'].isin(['A', 'B', 'C'])) &  # Assuming A, B, C grades are good\n",
    "    (df['dti'] < 0.4)  # Assuming DTI less than 40% is good\n",
    ")\n",
    "\n",
    "bad_loan_criteria = (\n",
    "    (df['loan_status'].isin(['Default', 'Charged Off', 'Late'])) |\n",
    "    (df['grade'].isin(['D', 'E', 'F', 'G'])) |  # Assuming D, E, F, G grades are bad\n",
    "    (df['dti'] >= 0.4)  # Assuming DTI 40% or more is bad\n",
    ")\n",
    "\n",
    "# Classify loans\n",
    "df['loan_classification'] = 'Neutral'  # Default classification\n",
    "df.loc[good_loan_criteria, 'loan_classification'] = 'Good'\n",
    "df.loc[bad_loan_criteria, 'loan_classification'] = 'Bad'\n",
    "\n",
    "# Calculate metrics\n",
    "total_loans = len(df)\n",
    "good_loans = df[df['loan_classification'] == 'Good']\n",
    "bad_loans = df[df['loan_classification'] == 'Bad']\n",
    "\n",
    "# Metrics for Good Loans\n",
    "good_loan_application_percentage = (len(good_loans) / total_loans) * 100\n",
    "good_loan_applications = len(good_loans)\n",
    "good_loan_funded_amount = good_loans['loan_amount'].sum()\n",
    "good_loan_total_received_amount = good_loans['total_payment'].sum()\n",
    "\n",
    "# Metrics for Bad Loans\n",
    "bad_loan_application_percentage = (len(bad_loans) / total_loans) * 100\n",
    "bad_loan_applications = len(bad_loans)\n",
    "bad_loan_funded_amount = bad_loans['loan_amount'].sum()\n",
    "bad_loan_total_received_amount = bad_loans['total_payment'].sum()\n",
    "\n",
    "# Display the results\n",
    "print(\"Good Loans:\")\n",
    "print(f\"1. Good Loan Application Percentage: {good_loan_application_percentage:.2f}%\")\n",
    "print(f\"2. Good Loan Applications: {good_loan_applications}\")\n",
    "print(f\"3. Good Loan Funded Amount: ${good_loan_funded_amount:.2f}\")\n",
    "print(f\"4. Good Loan Total Received Amount: ${good_loan_total_received_amount:.2f}\")\n",
    "\n",
    "print(\"\\nBad Loans:\")\n",
    "print(f\"5. Bad Loan Application Percentage: {bad_loan_application_percentage:.2f}%\")\n",
    "print(f\"6. Bad Loan Applications: {bad_loan_applications}\")\n",
    "print(f\"7. Bad Loan Funded Amount: ${bad_loan_funded_amount:.2f}\")\n",
    "print(f\"8. Bad Loan Total Received Amount: ${bad_loan_total_received_amount:.2f}\")\n"
   ]
  }
 ],
 "metadata": {
  "kernelspec": {
   "display_name": "Python 3 (ipykernel)",
   "language": "python",
   "name": "python3"
  },
  "language_info": {
   "codemirror_mode": {
    "name": "ipython",
    "version": 3
   },
   "file_extension": ".py",
   "mimetype": "text/x-python",
   "name": "python",
   "nbconvert_exporter": "python",
   "pygments_lexer": "ipython3",
   "version": "3.11.7"
  }
 },
 "nbformat": 4,
 "nbformat_minor": 5
}
